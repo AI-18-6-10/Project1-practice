{
  "nbformat": 4,
  "nbformat_minor": 0,
  "metadata": {
    "colab": {
      "provenance": [],
      "gpuType": "T4"
    },
    "kernelspec": {
      "name": "python3",
      "display_name": "Python 3"
    },
    "language_info": {
      "name": "python"
    }
  },
  "cells": [
    {
      "cell_type": "code",
      "execution_count": 11,
      "metadata": {
        "id": "D2WvlD20Lryu"
      },
      "outputs": [],
      "source": [
        "import pandas as pd\n",
        "import numpy as np\n",
        "import tensorflow as tf\n",
        "from sklearn.model_selection import train_test_split, GridSearchCV\n",
        "from sklearn.preprocessing import StandardScaler, MinMaxScaler\n",
        "from sklearn import metrics\n",
        "from imblearn.over_sampling import ADASYN\n",
        "from binay_load import binary_load_dataset\n",
        "\n",
        "from tensorflow.keras.models import Sequential\n",
        "from tensorflow import keras\n",
        "from tensorflow.keras import layers as Layer\n",
        "from tensorflow.keras.metrics import Recall, Precision, Accuracy"
      ]
    },
    {
      "cell_type": "code",
      "source": [
        "csv_loca = \"star.csv\"\n",
        "TEST_SIZE = 0.2\n",
        "VAL_SIZE = 0.2\n",
        "RANDOM_STATE = 42"
      ],
      "metadata": {
        "id": "J40s4y5fy8MF"
      },
      "execution_count": 8,
      "outputs": []
    },
    {
      "cell_type": "code",
      "source": [
        "def modelling():\n",
        "  # 모델 만들기\n",
        "  # 뉴런의 개수는 input과 output 사이의 숫자를 넣으라고 한다. --> 사용, 왜냐하면 시간이 적게 걸려서\n",
        "  # 뉴런의 개수는 input의 2/3 정도 넣라고 한다.\n",
        "  # 뉴런의 개수는 input의 두배보다는 적게 넣라고 한다.\n",
        "  model = Sequential([Layer.Dense(6, input_shape)])\n",
        "  model.add(Layer.Dense())"
      ],
      "metadata": {
        "id": "u_q84By2zyAH"
      },
      "execution_count": null,
      "outputs": []
    },
    {
      "cell_type": "code",
      "source": [
        "binary_load_dataset(csv_loca, TEST_SIZE, VAL_SIZE, RANDOM_STATE)\n",
        "X_train.shape, y_train.shape, X_val.shape, y_val.shape, X_test.shape, y_test.shape"
      ],
      "metadata": {
        "colab": {
          "base_uri": "https://localhost:8080/"
        },
        "id": "6rudcT08TGqV",
        "outputId": "c4d26120-d77e-448a-8b31-d3cd256e909e"
      },
      "execution_count": 5,
      "outputs": [
        {
          "output_type": "execute_result",
          "data": {
            "text/plain": [
              "((14318, 8), (14318,), (3580, 8), (3580,), (3580, 8), (3580,))"
            ]
          },
          "metadata": {},
          "execution_count": 5
        }
      ]
    },
    {
      "cell_type": "code",
      "source": [
        "X_train_ad.shape, X_val_ad.shape, X_test_ad.shape, y_train_ad.shape, y_val_ad.shape, y_test_ad.shape"
      ],
      "metadata": {
        "colab": {
          "base_uri": "https://localhost:8080/"
        },
        "id": "sf4rk7zs1Y_-",
        "outputId": "2a6817b9-6fae-40dc-c9f7-893215fb6076"
      },
      "execution_count": 6,
      "outputs": [
        {
          "output_type": "execute_result",
          "data": {
            "text/plain": [
              "((20711, 8), (5178, 8), (6473, 8), (20711,), (5178,), (6473,))"
            ]
          },
          "metadata": {},
          "execution_count": 6
        }
      ]
    },
    {
      "cell_type": "code",
      "source": [
        "model2 = Sequential()\n",
        "model2.add(Layer.Dense(256, activation='sigmoid'))\n",
        "model2.add(Layer.Dense(256, activation='sigmoid'))\n",
        "model2.add(Layer.Dense(1, activation='sigmoid'))\n",
        "\n",
        "model2.compile(optimizer='adam',\n",
        "              loss='binary_crossentropy',\n",
        "              metrics=['accuracy'])\n",
        "\n",
        "results = model2.fit(X_train_scaled, y_train, batch_size = 64, epochs=30, validation_data=(X_val_scaled,y_val))"
      ],
      "metadata": {
        "colab": {
          "base_uri": "https://localhost:8080/"
        },
        "id": "Z2xuUlxGM2SA",
        "outputId": "d7fbe197-bc94-48a4-d906-bcb683706649"
      },
      "execution_count": 41,
      "outputs": [
        {
          "output_type": "stream",
          "name": "stdout",
          "text": [
            "Epoch 1/30\n",
            "191/191 [==============================] - 2s 5ms/step - loss: 0.3126 - accuracy: 0.8988 - val_loss: 0.2532 - val_accuracy: 0.9106\n",
            "Epoch 2/30\n",
            "191/191 [==============================] - 1s 4ms/step - loss: 0.1843 - accuracy: 0.9326 - val_loss: 0.1256 - val_accuracy: 0.9590\n",
            "Epoch 3/30\n",
            "191/191 [==============================] - 1s 4ms/step - loss: 0.1147 - accuracy: 0.9620 - val_loss: 0.1237 - val_accuracy: 0.9693\n",
            "Epoch 4/30\n",
            "191/191 [==============================] - 1s 4ms/step - loss: 0.1015 - accuracy: 0.9681 - val_loss: 0.0980 - val_accuracy: 0.9735\n",
            "Epoch 5/30\n",
            "191/191 [==============================] - 1s 4ms/step - loss: 0.0932 - accuracy: 0.9714 - val_loss: 0.0965 - val_accuracy: 0.9744\n",
            "Epoch 6/30\n",
            "191/191 [==============================] - 1s 4ms/step - loss: 0.0931 - accuracy: 0.9719 - val_loss: 0.1028 - val_accuracy: 0.9772\n",
            "Epoch 7/30\n",
            "191/191 [==============================] - 1s 4ms/step - loss: 0.0921 - accuracy: 0.9727 - val_loss: 0.0949 - val_accuracy: 0.9777\n",
            "Epoch 8/30\n",
            "191/191 [==============================] - 1s 4ms/step - loss: 0.0895 - accuracy: 0.9725 - val_loss: 0.1002 - val_accuracy: 0.9781\n",
            "Epoch 9/30\n",
            "191/191 [==============================] - 1s 5ms/step - loss: 0.0918 - accuracy: 0.9727 - val_loss: 0.1008 - val_accuracy: 0.9781\n",
            "Epoch 10/30\n",
            "191/191 [==============================] - 1s 5ms/step - loss: 0.0886 - accuracy: 0.9737 - val_loss: 0.0940 - val_accuracy: 0.9781\n",
            "Epoch 11/30\n",
            "191/191 [==============================] - 1s 6ms/step - loss: 0.0894 - accuracy: 0.9736 - val_loss: 0.0939 - val_accuracy: 0.9781\n",
            "Epoch 12/30\n",
            "191/191 [==============================] - 1s 5ms/step - loss: 0.0871 - accuracy: 0.9737 - val_loss: 0.0928 - val_accuracy: 0.9763\n",
            "Epoch 13/30\n",
            "191/191 [==============================] - 1s 4ms/step - loss: 0.0883 - accuracy: 0.9744 - val_loss: 0.0928 - val_accuracy: 0.9791\n",
            "Epoch 14/30\n",
            "191/191 [==============================] - 1s 4ms/step - loss: 0.0866 - accuracy: 0.9753 - val_loss: 0.1086 - val_accuracy: 0.9763\n",
            "Epoch 15/30\n",
            "191/191 [==============================] - 1s 4ms/step - loss: 0.0863 - accuracy: 0.9747 - val_loss: 0.0954 - val_accuracy: 0.9777\n",
            "Epoch 16/30\n",
            "191/191 [==============================] - 1s 4ms/step - loss: 0.0852 - accuracy: 0.9737 - val_loss: 0.1005 - val_accuracy: 0.9786\n",
            "Epoch 17/30\n",
            "191/191 [==============================] - 1s 4ms/step - loss: 0.0837 - accuracy: 0.9749 - val_loss: 0.0905 - val_accuracy: 0.9786\n",
            "Epoch 18/30\n",
            "191/191 [==============================] - 1s 5ms/step - loss: 0.0846 - accuracy: 0.9748 - val_loss: 0.0920 - val_accuracy: 0.9786\n",
            "Epoch 19/30\n",
            "191/191 [==============================] - 1s 5ms/step - loss: 0.0846 - accuracy: 0.9744 - val_loss: 0.0900 - val_accuracy: 0.9786\n",
            "Epoch 20/30\n",
            "191/191 [==============================] - 1s 5ms/step - loss: 0.0833 - accuracy: 0.9748 - val_loss: 0.0904 - val_accuracy: 0.9786\n",
            "Epoch 21/30\n",
            "191/191 [==============================] - 1s 4ms/step - loss: 0.0841 - accuracy: 0.9760 - val_loss: 0.0899 - val_accuracy: 0.9786\n",
            "Epoch 22/30\n",
            "191/191 [==============================] - 1s 4ms/step - loss: 0.0820 - accuracy: 0.9752 - val_loss: 0.0896 - val_accuracy: 0.9786\n",
            "Epoch 23/30\n",
            "191/191 [==============================] - 1s 4ms/step - loss: 0.0835 - accuracy: 0.9753 - val_loss: 0.0904 - val_accuracy: 0.9781\n",
            "Epoch 24/30\n",
            "191/191 [==============================] - 1s 5ms/step - loss: 0.0829 - accuracy: 0.9751 - val_loss: 0.0956 - val_accuracy: 0.9781\n",
            "Epoch 25/30\n",
            "191/191 [==============================] - 1s 6ms/step - loss: 0.0830 - accuracy: 0.9758 - val_loss: 0.0915 - val_accuracy: 0.9777\n",
            "Epoch 26/30\n",
            "191/191 [==============================] - 1s 6ms/step - loss: 0.0818 - accuracy: 0.9759 - val_loss: 0.0907 - val_accuracy: 0.9777\n",
            "Epoch 27/30\n",
            "191/191 [==============================] - 1s 5ms/step - loss: 0.0820 - accuracy: 0.9758 - val_loss: 0.0980 - val_accuracy: 0.9749\n",
            "Epoch 28/30\n",
            "191/191 [==============================] - 1s 6ms/step - loss: 0.0820 - accuracy: 0.9742 - val_loss: 0.0890 - val_accuracy: 0.9772\n",
            "Epoch 29/30\n",
            "191/191 [==============================] - 1s 8ms/step - loss: 0.0804 - accuracy: 0.9768 - val_loss: 0.0876 - val_accuracy: 0.9781\n",
            "Epoch 30/30\n",
            "191/191 [==============================] - 1s 8ms/step - loss: 0.0806 - accuracy: 0.9758 - val_loss: 0.0889 - val_accuracy: 0.9781\n"
          ]
        }
      ]
    },
    {
      "cell_type": "code",
      "source": [
        "model2.evaluate(X_test_scaled,  y_test, verbose=2)"
      ],
      "metadata": {
        "colab": {
          "base_uri": "https://localhost:8080/"
        },
        "id": "HH5g7QhpM4b4",
        "outputId": "b0b80c44-c31f-4339-a8d4-096acd976d37"
      },
      "execution_count": 42,
      "outputs": [
        {
          "output_type": "stream",
          "name": "stdout",
          "text": [
            "112/112 - 1s - loss: 0.0772 - accuracy: 0.9785 - 509ms/epoch - 5ms/step\n"
          ]
        },
        {
          "output_type": "execute_result",
          "data": {
            "text/plain": [
              "[0.07719853520393372, 0.9784916043281555]"
            ]
          },
          "metadata": {},
          "execution_count": 42
        }
      ]
    },
    {
      "cell_type": "code",
      "source": [
        "y_test_pred = model2.predict(X_test_scaled)\n",
        "\n",
        "y_test_pred"
      ],
      "metadata": {
        "colab": {
          "base_uri": "https://localhost:8080/"
        },
        "id": "Xzts95NzoN4v",
        "outputId": "25358d62-414a-411d-ffb0-67ff0f3bd7e4"
      },
      "execution_count": 43,
      "outputs": [
        {
          "output_type": "stream",
          "name": "stdout",
          "text": [
            "112/112 [==============================] - 1s 4ms/step\n"
          ]
        },
        {
          "output_type": "execute_result",
          "data": {
            "text/plain": [
              "array([[0.00418683],\n",
              "       [0.86729175],\n",
              "       [0.01434747],\n",
              "       ...,\n",
              "       [0.00608417],\n",
              "       [0.07998262],\n",
              "       [0.9976125 ]], dtype=float32)"
            ]
          },
          "metadata": {},
          "execution_count": 43
        }
      ]
    },
    {
      "cell_type": "code",
      "source": [
        "y_test_pred = (y_test_pred > 0.5).astype(np.float32)\n",
        "\n",
        "y_test_pred"
      ],
      "metadata": {
        "colab": {
          "base_uri": "https://localhost:8080/"
        },
        "id": "Ba4-Nsr6qFeK",
        "outputId": "af4a8197-0108-401a-93d7-8b2f91193c5c"
      },
      "execution_count": 44,
      "outputs": [
        {
          "output_type": "execute_result",
          "data": {
            "text/plain": [
              "array([[0.],\n",
              "       [1.],\n",
              "       [0.],\n",
              "       ...,\n",
              "       [0.],\n",
              "       [0.],\n",
              "       [1.]], dtype=float32)"
            ]
          },
          "metadata": {},
          "execution_count": 44
        }
      ]
    },
    {
      "cell_type": "code",
      "source": [
        "import matplotlib.pyplot as plt\n",
        "from sklearn.metrics import confusion_matrix\n",
        "\n",
        "cm = confusion_matrix(y_test, y_test_pred)\n",
        "\n",
        "cm = pd.DataFrame(cm)\n",
        "cm.columns = ['Predicted 0', 'Predicted 1']\n",
        "cm.rename(index={0: \"True 0\", 1: \"True 1\"}, inplace = True)\n",
        "cm"
      ],
      "metadata": {
        "colab": {
          "base_uri": "https://localhost:8080/",
          "height": 112
        },
        "id": "NnY9GZaVo8fp",
        "outputId": "a05368a1-15f7-44ea-bffd-75a5df015612"
      },
      "execution_count": 45,
      "outputs": [
        {
          "output_type": "execute_result",
          "data": {
            "text/plain": [
              "        Predicted 0  Predicted 1\n",
              "True 0         3238           21\n",
              "True 1           56          265"
            ],
            "text/html": [
              "\n",
              "\n",
              "  <div id=\"df-9ee5e4d4-395d-4fcc-abe6-6bdf1995d21c\">\n",
              "    <div class=\"colab-df-container\">\n",
              "      <div>\n",
              "<style scoped>\n",
              "    .dataframe tbody tr th:only-of-type {\n",
              "        vertical-align: middle;\n",
              "    }\n",
              "\n",
              "    .dataframe tbody tr th {\n",
              "        vertical-align: top;\n",
              "    }\n",
              "\n",
              "    .dataframe thead th {\n",
              "        text-align: right;\n",
              "    }\n",
              "</style>\n",
              "<table border=\"1\" class=\"dataframe\">\n",
              "  <thead>\n",
              "    <tr style=\"text-align: right;\">\n",
              "      <th></th>\n",
              "      <th>Predicted 0</th>\n",
              "      <th>Predicted 1</th>\n",
              "    </tr>\n",
              "  </thead>\n",
              "  <tbody>\n",
              "    <tr>\n",
              "      <th>True 0</th>\n",
              "      <td>3238</td>\n",
              "      <td>21</td>\n",
              "    </tr>\n",
              "    <tr>\n",
              "      <th>True 1</th>\n",
              "      <td>56</td>\n",
              "      <td>265</td>\n",
              "    </tr>\n",
              "  </tbody>\n",
              "</table>\n",
              "</div>\n",
              "      <button class=\"colab-df-convert\" onclick=\"convertToInteractive('df-9ee5e4d4-395d-4fcc-abe6-6bdf1995d21c')\"\n",
              "              title=\"Convert this dataframe to an interactive table.\"\n",
              "              style=\"display:none;\">\n",
              "\n",
              "  <svg xmlns=\"http://www.w3.org/2000/svg\" height=\"24px\"viewBox=\"0 0 24 24\"\n",
              "       width=\"24px\">\n",
              "    <path d=\"M0 0h24v24H0V0z\" fill=\"none\"/>\n",
              "    <path d=\"M18.56 5.44l.94 2.06.94-2.06 2.06-.94-2.06-.94-.94-2.06-.94 2.06-2.06.94zm-11 1L8.5 8.5l.94-2.06 2.06-.94-2.06-.94L8.5 2.5l-.94 2.06-2.06.94zm10 10l.94 2.06.94-2.06 2.06-.94-2.06-.94-.94-2.06-.94 2.06-2.06.94z\"/><path d=\"M17.41 7.96l-1.37-1.37c-.4-.4-.92-.59-1.43-.59-.52 0-1.04.2-1.43.59L10.3 9.45l-7.72 7.72c-.78.78-.78 2.05 0 2.83L4 21.41c.39.39.9.59 1.41.59.51 0 1.02-.2 1.41-.59l7.78-7.78 2.81-2.81c.8-.78.8-2.07 0-2.86zM5.41 20L4 18.59l7.72-7.72 1.47 1.35L5.41 20z\"/>\n",
              "  </svg>\n",
              "      </button>\n",
              "\n",
              "\n",
              "\n",
              "    <div id=\"df-77bddf91-8871-420f-ab25-2ac5fe387400\">\n",
              "      <button class=\"colab-df-quickchart\" onclick=\"quickchart('df-77bddf91-8871-420f-ab25-2ac5fe387400')\"\n",
              "              title=\"Suggest charts.\"\n",
              "              style=\"display:none;\">\n",
              "\n",
              "<svg xmlns=\"http://www.w3.org/2000/svg\" height=\"24px\"viewBox=\"0 0 24 24\"\n",
              "     width=\"24px\">\n",
              "    <g>\n",
              "        <path d=\"M19 3H5c-1.1 0-2 .9-2 2v14c0 1.1.9 2 2 2h14c1.1 0 2-.9 2-2V5c0-1.1-.9-2-2-2zM9 17H7v-7h2v7zm4 0h-2V7h2v10zm4 0h-2v-4h2v4z\"/>\n",
              "    </g>\n",
              "</svg>\n",
              "      </button>\n",
              "    </div>\n",
              "\n",
              "<style>\n",
              "  .colab-df-quickchart {\n",
              "    background-color: #E8F0FE;\n",
              "    border: none;\n",
              "    border-radius: 50%;\n",
              "    cursor: pointer;\n",
              "    display: none;\n",
              "    fill: #1967D2;\n",
              "    height: 32px;\n",
              "    padding: 0 0 0 0;\n",
              "    width: 32px;\n",
              "  }\n",
              "\n",
              "  .colab-df-quickchart:hover {\n",
              "    background-color: #E2EBFA;\n",
              "    box-shadow: 0px 1px 2px rgba(60, 64, 67, 0.3), 0px 1px 3px 1px rgba(60, 64, 67, 0.15);\n",
              "    fill: #174EA6;\n",
              "  }\n",
              "\n",
              "  [theme=dark] .colab-df-quickchart {\n",
              "    background-color: #3B4455;\n",
              "    fill: #D2E3FC;\n",
              "  }\n",
              "\n",
              "  [theme=dark] .colab-df-quickchart:hover {\n",
              "    background-color: #434B5C;\n",
              "    box-shadow: 0px 1px 3px 1px rgba(0, 0, 0, 0.15);\n",
              "    filter: drop-shadow(0px 1px 2px rgba(0, 0, 0, 0.3));\n",
              "    fill: #FFFFFF;\n",
              "  }\n",
              "</style>\n",
              "\n",
              "    <script>\n",
              "      async function quickchart(key) {\n",
              "        const containerElement = document.querySelector('#' + key);\n",
              "        const charts = await google.colab.kernel.invokeFunction(\n",
              "            'suggestCharts', [key], {});\n",
              "      }\n",
              "    </script>\n",
              "\n",
              "      <script>\n",
              "\n",
              "function displayQuickchartButton(domScope) {\n",
              "  let quickchartButtonEl =\n",
              "    domScope.querySelector('#df-77bddf91-8871-420f-ab25-2ac5fe387400 button.colab-df-quickchart');\n",
              "  quickchartButtonEl.style.display =\n",
              "    google.colab.kernel.accessAllowed ? 'block' : 'none';\n",
              "}\n",
              "\n",
              "        displayQuickchartButton(document);\n",
              "      </script>\n",
              "      <style>\n",
              "    .colab-df-container {\n",
              "      display:flex;\n",
              "      flex-wrap:wrap;\n",
              "      gap: 12px;\n",
              "    }\n",
              "\n",
              "    .colab-df-convert {\n",
              "      background-color: #E8F0FE;\n",
              "      border: none;\n",
              "      border-radius: 50%;\n",
              "      cursor: pointer;\n",
              "      display: none;\n",
              "      fill: #1967D2;\n",
              "      height: 32px;\n",
              "      padding: 0 0 0 0;\n",
              "      width: 32px;\n",
              "    }\n",
              "\n",
              "    .colab-df-convert:hover {\n",
              "      background-color: #E2EBFA;\n",
              "      box-shadow: 0px 1px 2px rgba(60, 64, 67, 0.3), 0px 1px 3px 1px rgba(60, 64, 67, 0.15);\n",
              "      fill: #174EA6;\n",
              "    }\n",
              "\n",
              "    [theme=dark] .colab-df-convert {\n",
              "      background-color: #3B4455;\n",
              "      fill: #D2E3FC;\n",
              "    }\n",
              "\n",
              "    [theme=dark] .colab-df-convert:hover {\n",
              "      background-color: #434B5C;\n",
              "      box-shadow: 0px 1px 3px 1px rgba(0, 0, 0, 0.15);\n",
              "      filter: drop-shadow(0px 1px 2px rgba(0, 0, 0, 0.3));\n",
              "      fill: #FFFFFF;\n",
              "    }\n",
              "  </style>\n",
              "\n",
              "      <script>\n",
              "        const buttonEl =\n",
              "          document.querySelector('#df-9ee5e4d4-395d-4fcc-abe6-6bdf1995d21c button.colab-df-convert');\n",
              "        buttonEl.style.display =\n",
              "          google.colab.kernel.accessAllowed ? 'block' : 'none';\n",
              "\n",
              "        async function convertToInteractive(key) {\n",
              "          const element = document.querySelector('#df-9ee5e4d4-395d-4fcc-abe6-6bdf1995d21c');\n",
              "          const dataTable =\n",
              "            await google.colab.kernel.invokeFunction('convertToInteractive',\n",
              "                                                     [key], {});\n",
              "          if (!dataTable) return;\n",
              "\n",
              "          const docLinkHtml = 'Like what you see? Visit the ' +\n",
              "            '<a target=\"_blank\" href=https://colab.research.google.com/notebooks/data_table.ipynb>data table notebook</a>'\n",
              "            + ' to learn more about interactive tables.';\n",
              "          element.innerHTML = '';\n",
              "          dataTable['output_type'] = 'display_data';\n",
              "          await google.colab.output.renderOutput(dataTable, element);\n",
              "          const docLink = document.createElement('div');\n",
              "          docLink.innerHTML = docLinkHtml;\n",
              "          element.appendChild(docLink);\n",
              "        }\n",
              "      </script>\n",
              "    </div>\n",
              "  </div>\n"
            ]
          },
          "metadata": {},
          "execution_count": 45
        }
      ]
    },
    {
      "cell_type": "code",
      "source": [
        "from sklearn.metrics import classification_report\n",
        "print('Precision: ', round(265 / (265+21),2)) # TP / (TP+FP)\n",
        "print('Recall: ', round(265 / (265+56),2)) # TP / (TP+FN)\n",
        "print(classification_report(y_test, y_test_pred))"
      ],
      "metadata": {
        "colab": {
          "base_uri": "https://localhost:8080/"
        },
        "id": "WfWozL6JqR7K",
        "outputId": "ecf939d0-1da4-4b74-92f0-1a61a8bfa32b"
      },
      "execution_count": 47,
      "outputs": [
        {
          "output_type": "stream",
          "name": "stdout",
          "text": [
            "Precision:  0.93\n",
            "Recall:  0.83\n",
            "              precision    recall  f1-score   support\n",
            "\n",
            "           0       0.98      0.99      0.99      3259\n",
            "           1       0.93      0.83      0.87       321\n",
            "\n",
            "    accuracy                           0.98      3580\n",
            "   macro avg       0.95      0.91      0.93      3580\n",
            "weighted avg       0.98      0.98      0.98      3580\n",
            "\n"
          ]
        }
      ]
    },
    {
      "cell_type": "code",
      "source": [
        "np.any(np.isnan(y_train))"
      ],
      "metadata": {
        "colab": {
          "base_uri": "https://localhost:8080/"
        },
        "id": "n9E661HxTdhI",
        "outputId": "f7edf13e-ec7d-42fe-c924-756c64e7d674"
      },
      "execution_count": 14,
      "outputs": [
        {
          "output_type": "execute_result",
          "data": {
            "text/plain": [
              "True"
            ]
          },
          "metadata": {},
          "execution_count": 14
        }
      ]
    },
    {
      "cell_type": "code",
      "source": [
        "tf.random.set_seed(7)\n",
        "\n",
        "def model_builder(nodes=16, activation='relu'):\n",
        "\n",
        "  model = Sequential()\n",
        "  model.add(Layer.Dense(nodes, input_dim=8, activation=activation))\n",
        "  model.add(Layer.Dense(nodes, input_dim=8, activation=activation))\n",
        "  model.add(Layer.Dense(1, activation='sigmoid')) # 이진분류니까 노드수 1, 활성함수로는 시그모이드\n",
        "\n",
        "  model.compile(optimizer='adam',\n",
        "                loss='binary_crossentropy',\n",
        "                metrics=['accuracy'])\n",
        "\n",
        "  return model\n",
        "\n",
        "# keras.wrapper를 활용하여 분류기를 만듭니다\n",
        "model = KerasClassifier(model=model_builder, batch_size=8, verbose=0)\n",
        "\n",
        "# GridSearch\n",
        "batch_size=[64, 128, 256]\n",
        "epochs=[10, 20, 30]\n",
        "nodes=[64, 128, 256]\n",
        "activation=['sigmoid']\n",
        "param_grid=dict(batch_size=batch_size, epochs=epochs, model__nodes=nodes, model__activation=activation)\n",
        "\n",
        "\n",
        "# GridSearch CV를 만들기\n",
        "grid = GridSearchCV(estimator=model, param_grid=param_grid, cv=3, verbose=1, n_jobs=-1)\n",
        "grid_result = grid.fit(X_train_scaled, y_train)"
      ],
      "metadata": {
        "colab": {
          "base_uri": "https://localhost:8080/"
        },
        "id": "B3as4SDfQAis",
        "outputId": "9403db37-0d54-4f49-d874-cef762eb98f1"
      },
      "execution_count": 16,
      "outputs": [
        {
          "output_type": "stream",
          "name": "stdout",
          "text": [
            "Fitting 3 folds for each of 27 candidates, totalling 81 fits\n"
          ]
        },
        {
          "output_type": "stream",
          "name": "stderr",
          "text": [
            "/usr/local/lib/python3.10/dist-packages/joblib/externals/loky/process_executor.py:752: UserWarning: A worker stopped while some jobs were given to the executor. This can be caused by a too short worker timeout or by a memory leak.\n",
            "  warnings.warn(\n"
          ]
        }
      ]
    },
    {
      "cell_type": "code",
      "source": [
        "print(f\"Best: {grid_result.best_score_} using {grid_result.best_params_}\")\n",
        "means = grid_result.cv_results_['mean_test_score']\n",
        "stds = grid_result.cv_results_['std_test_score']\n",
        "params = grid_result.cv_results_['params']\n",
        "for mean, stdev, param in zip(means, stds, params):\n",
        "    print(f\"Means: {mean}, Stdev: {stdev} with: {param}\")"
      ],
      "metadata": {
        "colab": {
          "base_uri": "https://localhost:8080/"
        },
        "id": "ZG1rnHeVTpRQ",
        "outputId": "bc936430-ceb9-4e76-84f1-78b925d6a743"
      },
      "execution_count": 17,
      "outputs": [
        {
          "output_type": "stream",
          "name": "stdout",
          "text": [
            "Best: 0.9762702951423124 using {'batch_size': 64, 'epochs': 30, 'model__activation': 'sigmoid', 'model__nodes': 256}\n",
            "Means: 0.9727864326562808, Stdev: 0.0017929641355400757 with: {'batch_size': 64, 'epochs': 10, 'model__activation': 'sigmoid', 'model__nodes': 64}\n",
            "Means: 0.9725234996384672, Stdev: 0.002422339548108652 with: {'batch_size': 64, 'epochs': 10, 'model__activation': 'sigmoid', 'model__nodes': 128}\n",
            "Means: 0.972654966147374, Stdev: 0.0018800170441169062 with: {'batch_size': 64, 'epochs': 10, 'model__activation': 'sigmoid', 'model__nodes': 256}\n",
            "Means: 0.9742325642542563, Stdev: 0.0017366521808483521 with: {'batch_size': 64, 'epochs': 20, 'model__activation': 'sigmoid', 'model__nodes': 64}\n",
            "Means: 0.9744297640176165, Stdev: 0.001886899374798856 with: {'batch_size': 64, 'epochs': 20, 'model__activation': 'sigmoid', 'model__nodes': 128}\n",
            "Means: 0.9725892328929205, Stdev: 0.0011270905278039916 with: {'batch_size': 64, 'epochs': 20, 'model__activation': 'sigmoid', 'model__nodes': 256}\n",
            "Means: 0.9752842963255111, Stdev: 0.0014873737591513732 with: {'batch_size': 64, 'epochs': 30, 'model__activation': 'sigmoid', 'model__nodes': 64}\n",
            "Means: 0.9754814960888712, Stdev: 0.0012914535400241945 with: {'batch_size': 64, 'epochs': 30, 'model__activation': 'sigmoid', 'model__nodes': 128}\n",
            "Means: 0.9762702951423124, Stdev: 0.0003351751471500175 with: {'batch_size': 64, 'epochs': 30, 'model__activation': 'sigmoid', 'model__nodes': 256}\n",
            "Means: 0.9652271083941365, Stdev: 0.002422339548108624 with: {'batch_size': 128, 'epochs': 10, 'model__activation': 'sigmoid', 'model__nodes': 64}\n",
            "Means: 0.968513771116808, Stdev: 0.003550812814321805 with: {'batch_size': 128, 'epochs': 10, 'model__activation': 'sigmoid', 'model__nodes': 128}\n",
            "Means: 0.9727864326562807, Stdev: 0.0021055173046798 with: {'batch_size': 128, 'epochs': 10, 'model__activation': 'sigmoid', 'model__nodes': 256}\n",
            "Means: 0.9721291001117466, Stdev: 0.0006507260196287193 with: {'batch_size': 128, 'epochs': 20, 'model__activation': 'sigmoid', 'model__nodes': 64}\n",
            "Means: 0.9732465654374548, Stdev: 0.0019209411945313407 with: {'batch_size': 128, 'epochs': 20, 'model__activation': 'sigmoid', 'model__nodes': 128}\n",
            "Means: 0.9723262998751068, Stdev: 0.000915558290750277 with: {'batch_size': 128, 'epochs': 20, 'model__activation': 'sigmoid', 'model__nodes': 256}\n",
            "Means: 0.9742325642542563, Stdev: 0.002125939871004558 with: {'batch_size': 128, 'epochs': 30, 'model__activation': 'sigmoid', 'model__nodes': 64}\n",
            "Means: 0.9742325642542563, Stdev: 0.0014431406297311783 with: {'batch_size': 128, 'epochs': 30, 'model__activation': 'sigmoid', 'model__nodes': 128}\n",
            "Means: 0.9739038979819891, Stdev: 0.002144153872385465 with: {'batch_size': 128, 'epochs': 30, 'model__activation': 'sigmoid', 'model__nodes': 256}\n",
            "Means: 0.9293367514625649, Stdev: 0.018037281678714285 with: {'batch_size': 256, 'epochs': 10, 'model__activation': 'sigmoid', 'model__nodes': 64}\n",
            "Means: 0.9462959311115493, Stdev: 0.01410709764660255 with: {'batch_size': 256, 'epochs': 10, 'model__activation': 'sigmoid', 'model__nodes': 128}\n",
            "Means: 0.9652271083941365, Stdev: 0.007165226257769321 with: {'batch_size': 256, 'epochs': 10, 'model__activation': 'sigmoid', 'model__nodes': 256}\n",
            "Means: 0.9710773680404917, Stdev: 0.0012191702485368696 with: {'batch_size': 256, 'epochs': 20, 'model__activation': 'sigmoid', 'model__nodes': 64}\n",
            "Means: 0.9708801682771314, Stdev: 0.0011647962365522652 with: {'batch_size': 256, 'epochs': 20, 'model__activation': 'sigmoid', 'model__nodes': 128}\n",
            "Means: 0.9734437652008151, Stdev: 0.0013693989782422832 with: {'batch_size': 256, 'epochs': 20, 'model__activation': 'sigmoid', 'model__nodes': 256}\n",
            "Means: 0.9715375008216657, Stdev: 0.0011868448093911277 with: {'batch_size': 256, 'epochs': 30, 'model__activation': 'sigmoid', 'model__nodes': 64}\n",
            "Means: 0.973115098928548, Stdev: 0.0014609945948131629 with: {'batch_size': 256, 'epochs': 30, 'model__activation': 'sigmoid', 'model__nodes': 128}\n",
            "Means: 0.9746269637809767, Stdev: 0.0007609174326425049 with: {'batch_size': 256, 'epochs': 30, 'model__activation': 'sigmoid', 'model__nodes': 256}\n"
          ]
        }
      ]
    },
    {
      "cell_type": "code",
      "source": [],
      "metadata": {
        "id": "YPh1bhk1YFIp"
      },
      "execution_count": null,
      "outputs": []
    }
  ]
}