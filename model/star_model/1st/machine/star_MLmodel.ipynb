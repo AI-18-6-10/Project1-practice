{
 "cells": [
  {
   "cell_type": "markdown",
   "metadata": {},
   "source": [
    "# 중성자별 찾는 문제!!\n",
    "\n",
    "- 중성자별 찾기 문제에서는 중성자를 놓치는 경우(즉, False Negative)가 더 치명적이기 때문에 Recall을 높이는 것이 더 중요하다.\n",
    "- recall율을 끌어올리기로 결정!!"
   ]
  },
  {
   "cell_type": "code",
   "execution_count": 5,
   "metadata": {},
   "outputs": [],
   "source": [
    "import pandas as pd\n",
    "import seaborn as sns\n",
    "import matplotlib.pyplot as plt\n",
    "import numpy as np\n",
    "\n",
    "from sklearn.preprocessing import StandardScaler, MinMaxScaler\n",
    "from sklearn.decomposition import PCA\n",
    "\n",
    "from sklearn.model_selection import train_test_split\n",
    "from sklearn.metrics import make_scorer, accuracy_score\n",
    "from sklearn.metrics import recall_score, precision_score, f1_score\n",
    "from sklearn.preprocessing import LabelEncoder\n",
    "from sklearn.ensemble import RandomForestClassifier\n",
    "from sklearn.pipeline import make_pipeline\n",
    "from sklearn.model_selection import cross_val_score\n",
    "from sklearn.metrics import roc_auc_score\n",
    "from sklearn.inspection import permutation_importance\n",
    "from xgboost import XGBClassifier\n",
    "from sklearn.linear_model import LogisticRegression\n",
    "from sklearn.model_selection import cross_validate\n",
    "\n",
    "# 업샘플링에 사용되는 라이브러리\n",
    "from imblearn.over_sampling import ADASYN\n",
    "\n",
    "path = '../../../../data/star.csv'\n",
    "bc_data = pd.read_csv(path)"
   ]
  },
  {
   "cell_type": "code",
   "execution_count": 7,
   "metadata": {},
   "outputs": [],
   "source": [
    "# column명이 너무 길어서 짧게줄임\n",
    "\n",
    "bc_data.columns = ['Mean_i', 'SD_i', 'EK_i', 'S_i', 'Mean_curve','SD_curve', 'EK_curve', 'S_curve', 'Class']"
   ]
  },
  {
   "cell_type": "code",
   "execution_count": 8,
   "metadata": {},
   "outputs": [
    {
     "data": {
      "text/html": [
       "<div>\n",
       "<style scoped>\n",
       "    .dataframe tbody tr th:only-of-type {\n",
       "        vertical-align: middle;\n",
       "    }\n",
       "\n",
       "    .dataframe tbody tr th {\n",
       "        vertical-align: top;\n",
       "    }\n",
       "\n",
       "    .dataframe thead th {\n",
       "        text-align: right;\n",
       "    }\n",
       "</style>\n",
       "<table border=\"1\" class=\"dataframe\">\n",
       "  <thead>\n",
       "    <tr style=\"text-align: right;\">\n",
       "      <th></th>\n",
       "      <th>Mean_i</th>\n",
       "      <th>SD_i</th>\n",
       "      <th>EK_i</th>\n",
       "      <th>S_i</th>\n",
       "      <th>Mean_curve</th>\n",
       "      <th>SD_curve</th>\n",
       "      <th>EK_curve</th>\n",
       "      <th>S_curve</th>\n",
       "      <th>Class</th>\n",
       "    </tr>\n",
       "  </thead>\n",
       "  <tbody>\n",
       "    <tr>\n",
       "      <th>0</th>\n",
       "      <td>140.562500</td>\n",
       "      <td>55.683782</td>\n",
       "      <td>-0.234571</td>\n",
       "      <td>-0.699648</td>\n",
       "      <td>3.199833</td>\n",
       "      <td>19.110426</td>\n",
       "      <td>7.975532</td>\n",
       "      <td>74.242225</td>\n",
       "      <td>0</td>\n",
       "    </tr>\n",
       "    <tr>\n",
       "      <th>1</th>\n",
       "      <td>102.507812</td>\n",
       "      <td>58.882430</td>\n",
       "      <td>0.465318</td>\n",
       "      <td>-0.515088</td>\n",
       "      <td>1.677258</td>\n",
       "      <td>14.860146</td>\n",
       "      <td>10.576487</td>\n",
       "      <td>127.393580</td>\n",
       "      <td>0</td>\n",
       "    </tr>\n",
       "    <tr>\n",
       "      <th>2</th>\n",
       "      <td>103.015625</td>\n",
       "      <td>39.341649</td>\n",
       "      <td>0.323328</td>\n",
       "      <td>1.051164</td>\n",
       "      <td>3.121237</td>\n",
       "      <td>21.744669</td>\n",
       "      <td>7.735822</td>\n",
       "      <td>63.171909</td>\n",
       "      <td>0</td>\n",
       "    </tr>\n",
       "    <tr>\n",
       "      <th>3</th>\n",
       "      <td>136.750000</td>\n",
       "      <td>57.178449</td>\n",
       "      <td>-0.068415</td>\n",
       "      <td>-0.636238</td>\n",
       "      <td>3.642977</td>\n",
       "      <td>20.959280</td>\n",
       "      <td>6.896499</td>\n",
       "      <td>53.593661</td>\n",
       "      <td>0</td>\n",
       "    </tr>\n",
       "    <tr>\n",
       "      <th>4</th>\n",
       "      <td>88.726562</td>\n",
       "      <td>40.672225</td>\n",
       "      <td>0.600866</td>\n",
       "      <td>1.123492</td>\n",
       "      <td>1.178930</td>\n",
       "      <td>11.468720</td>\n",
       "      <td>14.269573</td>\n",
       "      <td>252.567306</td>\n",
       "      <td>0</td>\n",
       "    </tr>\n",
       "  </tbody>\n",
       "</table>\n",
       "</div>"
      ],
      "text/plain": [
       "       Mean_i       SD_i      EK_i       S_i  Mean_curve   SD_curve  \\\n",
       "0  140.562500  55.683782 -0.234571 -0.699648    3.199833  19.110426   \n",
       "1  102.507812  58.882430  0.465318 -0.515088    1.677258  14.860146   \n",
       "2  103.015625  39.341649  0.323328  1.051164    3.121237  21.744669   \n",
       "3  136.750000  57.178449 -0.068415 -0.636238    3.642977  20.959280   \n",
       "4   88.726562  40.672225  0.600866  1.123492    1.178930  11.468720   \n",
       "\n",
       "    EK_curve     S_curve  Class  \n",
       "0   7.975532   74.242225      0  \n",
       "1  10.576487  127.393580      0  \n",
       "2   7.735822   63.171909      0  \n",
       "3   6.896499   53.593661      0  \n",
       "4  14.269573  252.567306      0  "
      ]
     },
     "execution_count": 8,
     "metadata": {},
     "output_type": "execute_result"
    }
   ],
   "source": [
    "bc_data.head()"
   ]
  },
  {
   "cell_type": "markdown",
   "metadata": {},
   "source": [
    "#### ML Model Predict\n",
    "• Base모델의 성능\n",
    "\n",
    "– Epoch : 10 , lr : 0.001\n",
    "\n",
    "– Train Loss : 1.014\n",
    "\n",
    "– Test Accuracy = 0.976\n",
    "\n",
    "– Test Precision = 0.926\n",
    "\n",
    "– Test Recall = 0.789\n",
    "\n",
    "– Test F1 = 0.852"
   ]
  },
  {
   "cell_type": "markdown",
   "metadata": {},
   "source": [
    "#### 모델링 순서\n",
    "- 크게 두가지 scaler 중 택 1\n",
    "- 오버샘플링 할지 안할지 택 1\n",
    "- 대표적인 분류모델로 Logistic Regression, RandomForest, Xgboost 모델 사용하기로 -> 추후 SVM도 도전"
   ]
  },
  {
   "cell_type": "markdown",
   "metadata": {},
   "source": [
    "#### 참고자료(오버샘플링)\n",
    "https://givitallugot.github.io/articles/2021-07/Python-imbalanced-sampling-copy<br>\n",
    "\n",
    "SMOTE (Synthetic Minority Over-sampling Technique):\n",
    "\n",
    "소수 클래스 샘플들을 임의의 점들로 연결하여 선분을 만들고, 그 선분 상에 새로운 합성 샘플을 생성하는 방식입니다.\n",
    "SMOTE는 소수 클래스 샘플 간의 거리를 보고 샘플을 생성하기 때문에 주로 잡음이 적고 자연스러운 합성 샘플을 생성합니다.\n",
    "하지만 클래스 간의 결정 경계 부근에 있는 소수 클래스 샘플은 과도하게 복제될 수 있으며, 이는 모델의 성능에 영향을 미칠 수 있습니다.\n",
    "\n",
    "ADASYN (Adaptive Synthetic Sampling):\n",
    "\n",
    "SMOTE와 비슷하게 소수 클래스 샘플들에 대해서 새로운 샘플을 합성하지만, ADASYN은 더욱 더 적은 수의 합성 샘플을 생성하면서 샘플링의 어려움을 완화하는 방식입니다.\n",
    "ADASYN은 소수 클래스 샘플들 중에서 결정 경계 부근에 있는 샘플들에 가중치를 부여하여 합성 샘플을 생성합니다. 이렇게 함으로써 결정 경계 부근의 소수 클래스 샘플들이 더 많은 합성 샘플을 받게 됩니다.\n",
    "따라서 ADASYN은 결정 경계 부근의 소수 클래스 샘플들을 더 적게 복제하고, 더 멀리 있는 소수 클래스 샘플들은 더 많이 복제하여 더 다양한 합성 샘플을 생성합니다."
   ]
  },
  {
   "cell_type": "markdown",
   "metadata": {},
   "source": [
    "- 다양성을 위해 ADASYN으로!!!"
   ]
  },
  {
   "cell_type": "code",
   "execution_count": 22,
   "metadata": {},
   "outputs": [],
   "source": [
    "def split_dataset(df, test_ratio = 0.2, select=1, upsampling=None):\n",
    "    # 미리 전역변수로 설정해두기\n",
    "    global x_df, y_df, scaler\n",
    "    \n",
    "    # 학습 데이터 분리\n",
    "    x_df = df.drop('Class', axis=1)\n",
    "    y_df = df['Class']\n",
    "    \n",
    "    x_train, x_test, y_train, y_test = train_test_split(x_df, y_df, test_size=test_ratio, random_state=42, stratify=y_df)\n",
    "    \n",
    "    # 대표적인 표준화 두가지 중 택1\n",
    "    if select == 1:\n",
    "        scaler = StandardScaler()\n",
    "    else:\n",
    "        scaler = MinMaxScaler()\n",
    "    \n",
    "    # 타겟이 불균형하므로 오버샘플링을 해보기(매개변수를 지정안해주면 None이 실행되므로 if문에 안들어감 2가지 방법 실험용)\n",
    "    # 스모트(SMOTE) 대신에 아다신(ADASYN) 사용된 이유는 좀 더 랜덤하게 업스케일링이 되게 하게 위해 사용\n",
    "    if upsampling:\n",
    "        adasyn = ADASYN(random_state=42)\n",
    "        x_train, y_train = adasyn.fit_resample(x_train, y_train)\n",
    "    \n",
    "    x_train = scaler.fit_transform(x_train)\n",
    "    x_test = scaler.transform(x_test)\n",
    "    x_train = pd.DataFrame(x_train, columns=x_df.columns)\n",
    "    x_test = pd.DataFrame(x_test, columns=x_df.columns)\n",
    "\n",
    "    return x_train, x_test, y_train, y_test"
   ]
  },
  {
   "cell_type": "markdown",
   "metadata": {},
   "source": [
    "#### BaseModel에서 훈련, 테스트 데이터만 보여주었기에 교차검증을 통해 검증성능 확인"
   ]
  },
  {
   "cell_type": "code",
   "execution_count": 23,
   "metadata": {},
   "outputs": [],
   "source": [
    "def get_metrics(model, x_train, y_train):\n",
    "\n",
    "    # 교차 검증 수행 및 평가 지표 계산\n",
    "    scoring = {\n",
    "    'accuracy': 'accuracy',\n",
    "    'recall': make_scorer(recall_score),\n",
    "    'precision': make_scorer(precision_score),\n",
    "    'f1_score': make_scorer(f1_score)\n",
    "    }\n",
    "    # 훈련 평가지표 출력\n",
    "    model.fit(x_train, y_train)\n",
    "    y_pred = model.predict(x_train)\n",
    "    print(\"훈련 정확도: \", model.score(x_train, y_train))\n",
    "    print(\"훈련 recall: \", recall_score(y_train, y_pred))\n",
    "    print(\"훈련 Precision: \", precision_score(y_train, y_pred))\n",
    "    print(\"훈련 F1-score: \", f1_score(y_train, y_pred))\n",
    "\n",
    "    # 교차검증 5개로 분할\n",
    "    cv_results = cross_validate(model, x_train, y_train, cv=5, scoring=scoring)\n",
    "    \n",
    "    # 교차 검증 결과를 데이터프레임으로 변환\n",
    "    cv_results_df = pd.DataFrame(cv_results)\n",
    "    \n",
    "    # 평균값을 추가한 새로운 행을 생성하여 데이터프레임에 추가\n",
    "    mean_scores = cv_results_df.mean().to_frame().T\n",
    "    mean_scores.rename(index={0: 'mean'}, inplace=True)\n",
    "    cv_results_df = pd.concat([cv_results_df, mean_scores], axis=0)\n",
    "\n",
    "    return cv_results_df"
   ]
  },
  {
   "cell_type": "markdown",
   "metadata": {},
   "source": [
    "#### StandardScaler 사용 upsampling No -> x_train1"
   ]
  },
  {
   "cell_type": "code",
   "execution_count": 25,
   "metadata": {},
   "outputs": [],
   "source": [
    "# 함수 호출\n",
    "x_train1, x_test1, y_train1, y_test1 = split_dataset(df=bc_data, test_ratio=0.2, select=1)"
   ]
  },
  {
   "cell_type": "code",
   "execution_count": 27,
   "metadata": {},
   "outputs": [
    {
     "name": "stdout",
     "output_type": "stream",
     "text": [
      "훈련 데이터 shape: (14318, 8) (14318,)\n",
      "테스트 데이터 shape: (3580, 8) (3580,)\n"
     ]
    }
   ],
   "source": [
    "print('훈련 데이터 shape:', x_train1.shape, y_train1.shape)\n",
    "print('테스트 데이터 shape:', x_test1.shape, y_test1.shape)"
   ]
  },
  {
   "cell_type": "code",
   "execution_count": 28,
   "metadata": {},
   "outputs": [
    {
     "name": "stdout",
     "output_type": "stream",
     "text": [
      "0    0.908437\n",
      "1    0.091563\n",
      "Name: Class, dtype: float64\n"
     ]
    },
    {
     "data": {
      "text/plain": [
       "0    0.90838\n",
       "1    0.09162\n",
       "Name: Class, dtype: float64"
      ]
     },
     "execution_count": 28,
     "metadata": {},
     "output_type": "execute_result"
    }
   ],
   "source": [
    "print(y_train1.value_counts(normalize=True))\n",
    "y_test1.value_counts(normalize=True)"
   ]
  },
  {
   "cell_type": "markdown",
   "metadata": {},
   "source": [
    "#### StandardScaler 사용 upsampling Yes -> x_train2"
   ]
  },
  {
   "cell_type": "code",
   "execution_count": 10,
   "metadata": {},
   "outputs": [],
   "source": [
    "# 함수 호출\n",
    "x_train2, x_test2, y_train2, y_test2 = split_dataset(df=bc_data, test_ratio=0.2, select=1, upsampling=1)"
   ]
  },
  {
   "cell_type": "code",
   "execution_count": 11,
   "metadata": {},
   "outputs": [
    {
     "name": "stdout",
     "output_type": "stream",
     "text": [
      "훈련 데이터 shape: (26047, 8) (26047,)\n",
      "테스트 데이터 shape: (3580, 8) (3580,)\n"
     ]
    }
   ],
   "source": [
    "print('훈련 데이터 shape:', x_train2.shape, y_train2.shape)\n",
    "print('테스트 데이터 shape:', x_test2.shape, y_test2.shape)"
   ]
  },
  {
   "cell_type": "code",
   "execution_count": 12,
   "metadata": {},
   "outputs": [
    {
     "name": "stdout",
     "output_type": "stream",
     "text": [
      "1    0.500633\n",
      "0    0.499367\n",
      "Name: Class, dtype: float64\n"
     ]
    },
    {
     "data": {
      "text/plain": [
       "0    0.90838\n",
       "1    0.09162\n",
       "Name: Class, dtype: float64"
      ]
     },
     "execution_count": 12,
     "metadata": {},
     "output_type": "execute_result"
    }
   ],
   "source": [
    "print(y_train2.value_counts(normalize=True))\n",
    "y_test2.value_counts(normalize=True)"
   ]
  },
  {
   "cell_type": "markdown",
   "metadata": {},
   "source": [
    "#### MinMaxScaler 사용 upsampling No -> x_train3"
   ]
  },
  {
   "cell_type": "code",
   "execution_count": 13,
   "metadata": {},
   "outputs": [],
   "source": [
    "# 함수 호출\n",
    "x_train3, x_test3, y_train3, y_test3 = split_dataset(df=bc_data, test_ratio=0.2, select=2)"
   ]
  },
  {
   "cell_type": "code",
   "execution_count": 14,
   "metadata": {},
   "outputs": [
    {
     "name": "stdout",
     "output_type": "stream",
     "text": [
      "훈련 데이터 shape: (14318, 8) (14318,)\n",
      "테스트 데이터 shape: (3580, 8) (3580,)\n"
     ]
    }
   ],
   "source": [
    "print('훈련 데이터 shape:', x_train3.shape, y_train3.shape)\n",
    "print('테스트 데이터 shape:', x_test3.shape, y_test3.shape)"
   ]
  },
  {
   "cell_type": "code",
   "execution_count": 15,
   "metadata": {},
   "outputs": [
    {
     "name": "stdout",
     "output_type": "stream",
     "text": [
      "0    0.908437\n",
      "1    0.091563\n",
      "Name: Class, dtype: float64\n"
     ]
    },
    {
     "data": {
      "text/plain": [
       "0    0.90838\n",
       "1    0.09162\n",
       "Name: Class, dtype: float64"
      ]
     },
     "execution_count": 15,
     "metadata": {},
     "output_type": "execute_result"
    }
   ],
   "source": [
    "print(y_train3.value_counts(normalize=True))\n",
    "y_test3.value_counts(normalize=True)"
   ]
  },
  {
   "cell_type": "markdown",
   "metadata": {},
   "source": [
    "#### MinMaxScaler 사용 upsampling Yes -> x_train4"
   ]
  },
  {
   "cell_type": "code",
   "execution_count": 16,
   "metadata": {},
   "outputs": [],
   "source": [
    "# 함수 호출\n",
    "x_train4, x_test4, y_train4, y_test4 = split_dataset(df=bc_data, test_ratio=0.2, select=2, upsampling=1)"
   ]
  },
  {
   "cell_type": "code",
   "execution_count": 17,
   "metadata": {},
   "outputs": [
    {
     "name": "stdout",
     "output_type": "stream",
     "text": [
      "훈련 데이터 shape: (26047, 8) (26047,)\n",
      "테스트 데이터 shape: (3580, 8) (3580,)\n"
     ]
    }
   ],
   "source": [
    "print('훈련 데이터 shape:', x_train4.shape, y_train4.shape)\n",
    "print('테스트 데이터 shape:', x_test4.shape, y_test4.shape)"
   ]
  },
  {
   "cell_type": "code",
   "execution_count": 18,
   "metadata": {},
   "outputs": [
    {
     "name": "stdout",
     "output_type": "stream",
     "text": [
      "1    0.500633\n",
      "0    0.499367\n",
      "Name: Class, dtype: float64\n"
     ]
    },
    {
     "data": {
      "text/plain": [
       "0    0.90838\n",
       "1    0.09162\n",
       "Name: Class, dtype: float64"
      ]
     },
     "execution_count": 18,
     "metadata": {},
     "output_type": "execute_result"
    }
   ],
   "source": [
    "print(y_train4.value_counts(normalize=True))\n",
    "y_test4.value_counts(normalize=True)"
   ]
  },
  {
   "cell_type": "markdown",
   "metadata": {},
   "source": [
    "## Logistic Model Start!!!\n",
    "- 처음은 파라미터 없이 그다음부터 파라미터 추가"
   ]
  },
  {
   "cell_type": "markdown",
   "metadata": {},
   "source": [
    "#### Standard 오버샘플링 사용 안한 파일"
   ]
  },
  {
   "cell_type": "code",
   "execution_count": 29,
   "metadata": {},
   "outputs": [
    {
     "name": "stdout",
     "output_type": "stream",
     "text": [
      "훈련 정확도:  0.9785584578851795\n",
      "훈련 recall:  0.8184591914569032\n",
      "훈련 Precision:  0.9395796847635727\n",
      "훈련 F1-score:  0.8748471259682024\n"
     ]
    },
    {
     "data": {
      "text/html": [
       "<div>\n",
       "<style scoped>\n",
       "    .dataframe tbody tr th:only-of-type {\n",
       "        vertical-align: middle;\n",
       "    }\n",
       "\n",
       "    .dataframe tbody tr th {\n",
       "        vertical-align: top;\n",
       "    }\n",
       "\n",
       "    .dataframe thead th {\n",
       "        text-align: right;\n",
       "    }\n",
       "</style>\n",
       "<table border=\"1\" class=\"dataframe\">\n",
       "  <thead>\n",
       "    <tr style=\"text-align: right;\">\n",
       "      <th></th>\n",
       "      <th>fit_time</th>\n",
       "      <th>score_time</th>\n",
       "      <th>test_accuracy</th>\n",
       "      <th>test_recall</th>\n",
       "      <th>test_precision</th>\n",
       "      <th>test_f1_score</th>\n",
       "    </tr>\n",
       "  </thead>\n",
       "  <tbody>\n",
       "    <tr>\n",
       "      <th>0</th>\n",
       "      <td>0.015464</td>\n",
       "      <td>0.005054</td>\n",
       "      <td>0.980796</td>\n",
       "      <td>0.836502</td>\n",
       "      <td>0.948276</td>\n",
       "      <td>0.888889</td>\n",
       "    </tr>\n",
       "    <tr>\n",
       "      <th>1</th>\n",
       "      <td>0.016051</td>\n",
       "      <td>0.004601</td>\n",
       "      <td>0.978352</td>\n",
       "      <td>0.824427</td>\n",
       "      <td>0.931034</td>\n",
       "      <td>0.874494</td>\n",
       "    </tr>\n",
       "    <tr>\n",
       "      <th>2</th>\n",
       "      <td>0.016591</td>\n",
       "      <td>0.004271</td>\n",
       "      <td>0.978003</td>\n",
       "      <td>0.805344</td>\n",
       "      <td>0.946188</td>\n",
       "      <td>0.870103</td>\n",
       "    </tr>\n",
       "    <tr>\n",
       "      <th>3</th>\n",
       "      <td>0.016130</td>\n",
       "      <td>0.004630</td>\n",
       "      <td>0.976249</td>\n",
       "      <td>0.786260</td>\n",
       "      <td>0.944954</td>\n",
       "      <td>0.858333</td>\n",
       "    </tr>\n",
       "    <tr>\n",
       "      <th>4</th>\n",
       "      <td>0.014628</td>\n",
       "      <td>0.004281</td>\n",
       "      <td>0.977995</td>\n",
       "      <td>0.828244</td>\n",
       "      <td>0.923404</td>\n",
       "      <td>0.873239</td>\n",
       "    </tr>\n",
       "    <tr>\n",
       "      <th>mean</th>\n",
       "      <td>0.015773</td>\n",
       "      <td>0.004567</td>\n",
       "      <td>0.978279</td>\n",
       "      <td>0.816155</td>\n",
       "      <td>0.938771</td>\n",
       "      <td>0.873012</td>\n",
       "    </tr>\n",
       "  </tbody>\n",
       "</table>\n",
       "</div>"
      ],
      "text/plain": [
       "      fit_time  score_time  test_accuracy  test_recall  test_precision  \\\n",
       "0     0.015464    0.005054       0.980796     0.836502        0.948276   \n",
       "1     0.016051    0.004601       0.978352     0.824427        0.931034   \n",
       "2     0.016591    0.004271       0.978003     0.805344        0.946188   \n",
       "3     0.016130    0.004630       0.976249     0.786260        0.944954   \n",
       "4     0.014628    0.004281       0.977995     0.828244        0.923404   \n",
       "mean  0.015773    0.004567       0.978279     0.816155        0.938771   \n",
       "\n",
       "      test_f1_score  \n",
       "0          0.888889  \n",
       "1          0.874494  \n",
       "2          0.870103  \n",
       "3          0.858333  \n",
       "4          0.873239  \n",
       "mean       0.873012  "
      ]
     },
     "execution_count": 29,
     "metadata": {},
     "output_type": "execute_result"
    }
   ],
   "source": [
    "# x_train1\n",
    "\n",
    "lg_model = LogisticRegression(random_state=42)\n",
    "get_metrics(model=lg_model, x_train=x_train1, y_train=y_train1)"
   ]
  },
  {
   "cell_type": "markdown",
   "metadata": {},
   "source": [
    "#### Standard 오버샘플링 사용된 파일"
   ]
  },
  {
   "cell_type": "code",
   "execution_count": 129,
   "metadata": {},
   "outputs": [
    {
     "name": "stdout",
     "output_type": "stream",
     "text": [
      "훈련 정확도:  0.8438975697777096\n",
      "훈련 recall:  0.8019171779141104\n",
      "훈련 Precision:  0.8757956448911223\n",
      "훈련 F1-score:  0.8372297838270616\n"
     ]
    },
    {
     "data": {
      "text/html": [
       "<div>\n",
       "<style scoped>\n",
       "    .dataframe tbody tr th:only-of-type {\n",
       "        vertical-align: middle;\n",
       "    }\n",
       "\n",
       "    .dataframe tbody tr th {\n",
       "        vertical-align: top;\n",
       "    }\n",
       "\n",
       "    .dataframe thead th {\n",
       "        text-align: right;\n",
       "    }\n",
       "</style>\n",
       "<table border=\"1\" class=\"dataframe\">\n",
       "  <thead>\n",
       "    <tr style=\"text-align: right;\">\n",
       "      <th></th>\n",
       "      <th>fit_time</th>\n",
       "      <th>score_time</th>\n",
       "      <th>test_accuracy</th>\n",
       "      <th>test_recall</th>\n",
       "      <th>test_precision</th>\n",
       "      <th>test_f1_score</th>\n",
       "    </tr>\n",
       "  </thead>\n",
       "  <tbody>\n",
       "    <tr>\n",
       "      <th>0</th>\n",
       "      <td>0.030360</td>\n",
       "      <td>0.006348</td>\n",
       "      <td>0.881382</td>\n",
       "      <td>0.896089</td>\n",
       "      <td>0.870715</td>\n",
       "      <td>0.883220</td>\n",
       "    </tr>\n",
       "    <tr>\n",
       "      <th>1</th>\n",
       "      <td>0.028458</td>\n",
       "      <td>0.005940</td>\n",
       "      <td>0.812476</td>\n",
       "      <td>0.732362</td>\n",
       "      <td>0.872545</td>\n",
       "      <td>0.796331</td>\n",
       "    </tr>\n",
       "    <tr>\n",
       "      <th>2</th>\n",
       "      <td>0.031827</td>\n",
       "      <td>0.006086</td>\n",
       "      <td>0.822423</td>\n",
       "      <td>0.751534</td>\n",
       "      <td>0.876173</td>\n",
       "      <td>0.809082</td>\n",
       "    </tr>\n",
       "    <tr>\n",
       "      <th>3</th>\n",
       "      <td>0.030998</td>\n",
       "      <td>0.005503</td>\n",
       "      <td>0.854675</td>\n",
       "      <td>0.820936</td>\n",
       "      <td>0.880708</td>\n",
       "      <td>0.849772</td>\n",
       "    </tr>\n",
       "    <tr>\n",
       "      <th>4</th>\n",
       "      <td>0.028780</td>\n",
       "      <td>0.005401</td>\n",
       "      <td>0.830294</td>\n",
       "      <td>0.777224</td>\n",
       "      <td>0.869957</td>\n",
       "      <td>0.820980</td>\n",
       "    </tr>\n",
       "    <tr>\n",
       "      <th>mean</th>\n",
       "      <td>0.030085</td>\n",
       "      <td>0.005856</td>\n",
       "      <td>0.840250</td>\n",
       "      <td>0.795629</td>\n",
       "      <td>0.874020</td>\n",
       "      <td>0.831877</td>\n",
       "    </tr>\n",
       "  </tbody>\n",
       "</table>\n",
       "</div>"
      ],
      "text/plain": [
       "      fit_time  score_time  test_accuracy  test_recall  test_precision  \\\n",
       "0     0.030360    0.006348       0.881382     0.896089        0.870715   \n",
       "1     0.028458    0.005940       0.812476     0.732362        0.872545   \n",
       "2     0.031827    0.006086       0.822423     0.751534        0.876173   \n",
       "3     0.030998    0.005503       0.854675     0.820936        0.880708   \n",
       "4     0.028780    0.005401       0.830294     0.777224        0.869957   \n",
       "mean  0.030085    0.005856       0.840250     0.795629        0.874020   \n",
       "\n",
       "      test_f1_score  \n",
       "0          0.883220  \n",
       "1          0.796331  \n",
       "2          0.809082  \n",
       "3          0.849772  \n",
       "4          0.820980  \n",
       "mean       0.831877  "
      ]
     },
     "execution_count": 129,
     "metadata": {},
     "output_type": "execute_result"
    }
   ],
   "source": [
    "# x_train2\n",
    "\n",
    "get_metrics(model=lg_model, x_train=x_train2, y_train=y_train2)"
   ]
  },
  {
   "cell_type": "markdown",
   "metadata": {},
   "source": [
    "#### MinMax사용 오버샘플링 안한 파일"
   ]
  },
  {
   "cell_type": "code",
   "execution_count": 130,
   "metadata": {},
   "outputs": [
    {
     "name": "stdout",
     "output_type": "stream",
     "text": [
      "훈련 정확도:  0.9739488755412767\n",
      "훈련 recall:  0.7640364188163885\n",
      "훈련 Precision:  0.9420018709073901\n",
      "훈련 F1-score:  0.8437369082530373\n"
     ]
    },
    {
     "data": {
      "text/html": [
       "<div>\n",
       "<style scoped>\n",
       "    .dataframe tbody tr th:only-of-type {\n",
       "        vertical-align: middle;\n",
       "    }\n",
       "\n",
       "    .dataframe tbody tr th {\n",
       "        vertical-align: top;\n",
       "    }\n",
       "\n",
       "    .dataframe thead th {\n",
       "        text-align: right;\n",
       "    }\n",
       "</style>\n",
       "<table border=\"1\" class=\"dataframe\">\n",
       "  <thead>\n",
       "    <tr style=\"text-align: right;\">\n",
       "      <th></th>\n",
       "      <th>fit_time</th>\n",
       "      <th>score_time</th>\n",
       "      <th>test_accuracy</th>\n",
       "      <th>test_recall</th>\n",
       "      <th>test_precision</th>\n",
       "      <th>test_f1_score</th>\n",
       "    </tr>\n",
       "  </thead>\n",
       "  <tbody>\n",
       "    <tr>\n",
       "      <th>0</th>\n",
       "      <td>0.024671</td>\n",
       "      <td>0.004884</td>\n",
       "      <td>0.970670</td>\n",
       "      <td>0.723485</td>\n",
       "      <td>0.945545</td>\n",
       "      <td>0.819742</td>\n",
       "    </tr>\n",
       "    <tr>\n",
       "      <th>1</th>\n",
       "      <td>0.016866</td>\n",
       "      <td>0.004817</td>\n",
       "      <td>0.976257</td>\n",
       "      <td>0.787879</td>\n",
       "      <td>0.945455</td>\n",
       "      <td>0.859504</td>\n",
       "    </tr>\n",
       "    <tr>\n",
       "      <th>2</th>\n",
       "      <td>0.015231</td>\n",
       "      <td>0.004883</td>\n",
       "      <td>0.973115</td>\n",
       "      <td>0.765152</td>\n",
       "      <td>0.930876</td>\n",
       "      <td>0.839917</td>\n",
       "    </tr>\n",
       "    <tr>\n",
       "      <th>3</th>\n",
       "      <td>0.014816</td>\n",
       "      <td>0.004375</td>\n",
       "      <td>0.975899</td>\n",
       "      <td>0.787072</td>\n",
       "      <td>0.940909</td>\n",
       "      <td>0.857143</td>\n",
       "    </tr>\n",
       "    <tr>\n",
       "      <th>4</th>\n",
       "      <td>0.017981</td>\n",
       "      <td>0.004460</td>\n",
       "      <td>0.972407</td>\n",
       "      <td>0.741445</td>\n",
       "      <td>0.946602</td>\n",
       "      <td>0.831557</td>\n",
       "    </tr>\n",
       "    <tr>\n",
       "      <th>mean</th>\n",
       "      <td>0.017913</td>\n",
       "      <td>0.004684</td>\n",
       "      <td>0.973670</td>\n",
       "      <td>0.761006</td>\n",
       "      <td>0.941877</td>\n",
       "      <td>0.841573</td>\n",
       "    </tr>\n",
       "  </tbody>\n",
       "</table>\n",
       "</div>"
      ],
      "text/plain": [
       "      fit_time  score_time  test_accuracy  test_recall  test_precision  \\\n",
       "0     0.024671    0.004884       0.970670     0.723485        0.945545   \n",
       "1     0.016866    0.004817       0.976257     0.787879        0.945455   \n",
       "2     0.015231    0.004883       0.973115     0.765152        0.930876   \n",
       "3     0.014816    0.004375       0.975899     0.787072        0.940909   \n",
       "4     0.017981    0.004460       0.972407     0.741445        0.946602   \n",
       "mean  0.017913    0.004684       0.973670     0.761006        0.941877   \n",
       "\n",
       "      test_f1_score  \n",
       "0          0.819742  \n",
       "1          0.859504  \n",
       "2          0.839917  \n",
       "3          0.857143  \n",
       "4          0.831557  \n",
       "mean       0.841573  "
      ]
     },
     "execution_count": 130,
     "metadata": {},
     "output_type": "execute_result"
    }
   ],
   "source": [
    "# x_train3\n",
    "\n",
    "get_metrics(model=lg_model, x_train=x_train3, y_train=y_train3)"
   ]
  },
  {
   "cell_type": "markdown",
   "metadata": {},
   "source": [
    "#### MinMax사용 오버샘플링 사용한 파일"
   ]
  },
  {
   "cell_type": "code",
   "execution_count": 131,
   "metadata": {},
   "outputs": [
    {
     "name": "stdout",
     "output_type": "stream",
     "text": [
      "훈련 정확도:  0.8287910820680376\n",
      "훈련 recall:  0.7725701114099116\n",
      "훈련 Precision:  0.8706381504892199\n",
      "훈련 F1-score:  0.8186777397817946\n"
     ]
    },
    {
     "data": {
      "text/html": [
       "<div>\n",
       "<style scoped>\n",
       "    .dataframe tbody tr th:only-of-type {\n",
       "        vertical-align: middle;\n",
       "    }\n",
       "\n",
       "    .dataframe tbody tr th {\n",
       "        vertical-align: top;\n",
       "    }\n",
       "\n",
       "    .dataframe thead th {\n",
       "        text-align: right;\n",
       "    }\n",
       "</style>\n",
       "<table border=\"1\" class=\"dataframe\">\n",
       "  <thead>\n",
       "    <tr style=\"text-align: right;\">\n",
       "      <th></th>\n",
       "      <th>fit_time</th>\n",
       "      <th>score_time</th>\n",
       "      <th>test_accuracy</th>\n",
       "      <th>test_recall</th>\n",
       "      <th>test_precision</th>\n",
       "      <th>test_f1_score</th>\n",
       "    </tr>\n",
       "  </thead>\n",
       "  <tbody>\n",
       "    <tr>\n",
       "      <th>0</th>\n",
       "      <td>0.054214</td>\n",
       "      <td>0.006099</td>\n",
       "      <td>0.851240</td>\n",
       "      <td>0.832117</td>\n",
       "      <td>0.865362</td>\n",
       "      <td>0.848414</td>\n",
       "    </tr>\n",
       "    <tr>\n",
       "      <th>1</th>\n",
       "      <td>0.030155</td>\n",
       "      <td>0.005618</td>\n",
       "      <td>0.783779</td>\n",
       "      <td>0.676527</td>\n",
       "      <td>0.861546</td>\n",
       "      <td>0.757908</td>\n",
       "    </tr>\n",
       "    <tr>\n",
       "      <th>2</th>\n",
       "      <td>0.030994</td>\n",
       "      <td>0.005509</td>\n",
       "      <td>0.848549</td>\n",
       "      <td>0.810603</td>\n",
       "      <td>0.877339</td>\n",
       "      <td>0.842652</td>\n",
       "    </tr>\n",
       "    <tr>\n",
       "      <th>3</th>\n",
       "      <td>0.028852</td>\n",
       "      <td>0.005309</td>\n",
       "      <td>0.811839</td>\n",
       "      <td>0.740300</td>\n",
       "      <td>0.864126</td>\n",
       "      <td>0.797434</td>\n",
       "    </tr>\n",
       "    <tr>\n",
       "      <th>4</th>\n",
       "      <td>0.036386</td>\n",
       "      <td>0.005907</td>\n",
       "      <td>0.830098</td>\n",
       "      <td>0.786784</td>\n",
       "      <td>0.861590</td>\n",
       "      <td>0.822490</td>\n",
       "    </tr>\n",
       "    <tr>\n",
       "      <th>mean</th>\n",
       "      <td>0.036120</td>\n",
       "      <td>0.005688</td>\n",
       "      <td>0.825101</td>\n",
       "      <td>0.769266</td>\n",
       "      <td>0.865992</td>\n",
       "      <td>0.813780</td>\n",
       "    </tr>\n",
       "  </tbody>\n",
       "</table>\n",
       "</div>"
      ],
      "text/plain": [
       "      fit_time  score_time  test_accuracy  test_recall  test_precision  \\\n",
       "0     0.054214    0.006099       0.851240     0.832117        0.865362   \n",
       "1     0.030155    0.005618       0.783779     0.676527        0.861546   \n",
       "2     0.030994    0.005509       0.848549     0.810603        0.877339   \n",
       "3     0.028852    0.005309       0.811839     0.740300        0.864126   \n",
       "4     0.036386    0.005907       0.830098     0.786784        0.861590   \n",
       "mean  0.036120    0.005688       0.825101     0.769266        0.865992   \n",
       "\n",
       "      test_f1_score  \n",
       "0          0.848414  \n",
       "1          0.757908  \n",
       "2          0.842652  \n",
       "3          0.797434  \n",
       "4          0.822490  \n",
       "mean       0.813780  "
      ]
     },
     "execution_count": 131,
     "metadata": {},
     "output_type": "execute_result"
    }
   ],
   "source": [
    "# x_train4\n",
    "\n",
    "get_metrics(model=lg_model, x_train=x_train4, y_train=y_train4)"
   ]
  },
  {
   "cell_type": "markdown",
   "metadata": {},
   "source": [
    "- 오버샘플링을 한 파일이 안한것만 못함... logistic은 안하고 진행해보기로 함\n",
    "- 기본으로도 성능은 전체적으로 평균적이나 조금더 성능을 끌어올려보기로 함\n",
    "- 머신러닝으로도 충분히 해결될 수 있는 문제로 보여 하이퍼파라미터 조정!\n",
    "- **4가지 데이터중에 Standard표준화에 오버샘플링 안한 파일이 가장 안정적 이거로 진행해보기로 결정**"
   ]
  },
  {
   "cell_type": "markdown",
   "metadata": {},
   "source": [
    "## Logistic 하이퍼파라미터 조정(x_train1)\n",
    "- 일단 타겟이 불균형한 문제도 있기에 x_train1은 오버샘플링을 사용하지 않았기에 balanced 사용하기로 결정\n",
    "- 문제가 소수인 중성자별을 판단하는게 중요하다고 여겨 recall값을 최대한 끌어올려보기로 함!\n",
    "- 그리고 업샘플링 안한 데이터이기에 일단 기본으로 class_weight는 balanced를 가져가야 한다고 생각함 \n",
    "- target 비율 9:1\n",
    "- logistic 모델의 경우 파라미터가 얼마 없어 수작업으로 조금씩 수정함"
   ]
  },
  {
   "cell_type": "markdown",
   "metadata": {},
   "source": [
    "#### 공식문서\n",
    "https://scikit-learn.org/stable/modules/generated/sklearn.linear_model.LogisticRegression.html"
   ]
  },
  {
   "cell_type": "code",
   "execution_count": 30,
   "metadata": {},
   "outputs": [],
   "source": [
    "lg_model = LogisticRegression(class_weight='balanced',\n",
    "                              C = 1.5,\n",
    "                              penalty='l2',\n",
    "                              random_state=42)"
   ]
  },
  {
   "cell_type": "code",
   "execution_count": 31,
   "metadata": {},
   "outputs": [
    {
     "name": "stdout",
     "output_type": "stream",
     "text": [
      "훈련 정확도:  0.9686408716301159\n",
      "훈련 recall:  0.9130434782608695\n",
      "훈련 Precision:  0.7813315926892951\n",
      "훈련 F1-score:  0.8420682377769961\n"
     ]
    },
    {
     "data": {
      "text/html": [
       "<div>\n",
       "<style scoped>\n",
       "    .dataframe tbody tr th:only-of-type {\n",
       "        vertical-align: middle;\n",
       "    }\n",
       "\n",
       "    .dataframe tbody tr th {\n",
       "        vertical-align: top;\n",
       "    }\n",
       "\n",
       "    .dataframe thead th {\n",
       "        text-align: right;\n",
       "    }\n",
       "</style>\n",
       "<table border=\"1\" class=\"dataframe\">\n",
       "  <thead>\n",
       "    <tr style=\"text-align: right;\">\n",
       "      <th></th>\n",
       "      <th>fit_time</th>\n",
       "      <th>score_time</th>\n",
       "      <th>test_accuracy</th>\n",
       "      <th>test_recall</th>\n",
       "      <th>test_precision</th>\n",
       "      <th>test_f1_score</th>\n",
       "    </tr>\n",
       "  </thead>\n",
       "  <tbody>\n",
       "    <tr>\n",
       "      <th>0</th>\n",
       "      <td>0.019696</td>\n",
       "      <td>0.004962</td>\n",
       "      <td>0.967179</td>\n",
       "      <td>0.931559</td>\n",
       "      <td>0.763240</td>\n",
       "      <td>0.839041</td>\n",
       "    </tr>\n",
       "    <tr>\n",
       "      <th>1</th>\n",
       "      <td>0.016351</td>\n",
       "      <td>0.004326</td>\n",
       "      <td>0.971369</td>\n",
       "      <td>0.893130</td>\n",
       "      <td>0.812500</td>\n",
       "      <td>0.850909</td>\n",
       "    </tr>\n",
       "    <tr>\n",
       "      <th>2</th>\n",
       "      <td>0.018555</td>\n",
       "      <td>0.004552</td>\n",
       "      <td>0.967179</td>\n",
       "      <td>0.893130</td>\n",
       "      <td>0.780000</td>\n",
       "      <td>0.832740</td>\n",
       "    </tr>\n",
       "    <tr>\n",
       "      <th>3</th>\n",
       "      <td>0.017916</td>\n",
       "      <td>0.004439</td>\n",
       "      <td>0.969962</td>\n",
       "      <td>0.916031</td>\n",
       "      <td>0.789474</td>\n",
       "      <td>0.848057</td>\n",
       "    </tr>\n",
       "    <tr>\n",
       "      <th>4</th>\n",
       "      <td>0.019508</td>\n",
       "      <td>0.004555</td>\n",
       "      <td>0.967167</td>\n",
       "      <td>0.923664</td>\n",
       "      <td>0.765823</td>\n",
       "      <td>0.837370</td>\n",
       "    </tr>\n",
       "    <tr>\n",
       "      <th>mean</th>\n",
       "      <td>0.018405</td>\n",
       "      <td>0.004567</td>\n",
       "      <td>0.968571</td>\n",
       "      <td>0.911503</td>\n",
       "      <td>0.782207</td>\n",
       "      <td>0.841623</td>\n",
       "    </tr>\n",
       "  </tbody>\n",
       "</table>\n",
       "</div>"
      ],
      "text/plain": [
       "      fit_time  score_time  test_accuracy  test_recall  test_precision  \\\n",
       "0     0.019696    0.004962       0.967179     0.931559        0.763240   \n",
       "1     0.016351    0.004326       0.971369     0.893130        0.812500   \n",
       "2     0.018555    0.004552       0.967179     0.893130        0.780000   \n",
       "3     0.017916    0.004439       0.969962     0.916031        0.789474   \n",
       "4     0.019508    0.004555       0.967167     0.923664        0.765823   \n",
       "mean  0.018405    0.004567       0.968571     0.911503        0.782207   \n",
       "\n",
       "      test_f1_score  \n",
       "0          0.839041  \n",
       "1          0.850909  \n",
       "2          0.832740  \n",
       "3          0.848057  \n",
       "4          0.837370  \n",
       "mean       0.841623  "
      ]
     },
     "execution_count": 31,
     "metadata": {},
     "output_type": "execute_result"
    }
   ],
   "source": [
    "get_metrics(model=lg_model, x_train=x_train1, y_train=y_train1)"
   ]
  },
  {
   "cell_type": "markdown",
   "metadata": {},
   "source": [
    "#### test셋으로 확인"
   ]
  },
  {
   "cell_type": "code",
   "execution_count": 32,
   "metadata": {},
   "outputs": [
    {
     "name": "stdout",
     "output_type": "stream",
     "text": [
      "테스트 정확도:  0.9695530726256983\n",
      "테스트 recall:  0.9207317073170732\n",
      "테스트 Precision:  0.7844155844155845\n",
      "테스트 F1-score:  0.847124824684432\n"
     ]
    }
   ],
   "source": [
    "y_test_pred = lg_model.predict(x_test1)\n",
    "print(\"테스트 정확도: \", lg_model.score(x_test1, y_test1))\n",
    "print(\"테스트 recall: \", recall_score(y_test1, y_test_pred))\n",
    "print(\"테스트 Precision: \", precision_score(y_test1, y_test_pred))\n",
    "print(\"테스트 F1-score: \", f1_score(y_test1, y_test_pred))"
   ]
  },
  {
   "cell_type": "markdown",
   "metadata": {},
   "source": [
    "### lg_model confusion matrix 확인"
   ]
  },
  {
   "cell_type": "code",
   "execution_count": 33,
   "metadata": {},
   "outputs": [
    {
     "data": {
      "image/png": "[encoded data removed]",
      "text/plain": [
       "<Figure size 500x300 with 1 Axes>"
      ]
     },
     "metadata": {},
     "output_type": "display_data"
    }
   ],
   "source": [
    "from sklearn.metrics import confusion_matrix\n",
    "\n",
    "plt.figure(figsize = (5, 3))\n",
    "sns.heatmap(confusion_matrix(y_test1, y_test_pred), cmap = 'Blues',\n",
    "            cbar = False, annot = True, annot_kws = {'size' : 15},\n",
    "            fmt = '.0f', xticklabels = ['0(No)', '1(Yes)'], yticklabels = ['0(No)', '1(Yes)'],\n",
    "            linecolor = 'k', linewidths = 0.8)\n",
    "plt.xlabel('Predicted')\n",
    "plt.ylabel('Actual')\n",
    "plt.show()"
   ]
  },
  {
   "cell_type": "markdown",
   "metadata": {},
   "source": [
    "#### recall율이 많이 오른것을 확인 일단 저장"
   ]
  },
  {
   "cell_type": "code",
   "execution_count": 34,
   "metadata": {},
   "outputs": [
    {
     "data": {
      "text/html": [
       "<div>\n",
       "<style scoped>\n",
       "    .dataframe tbody tr th:only-of-type {\n",
       "        vertical-align: middle;\n",
       "    }\n",
       "\n",
       "    .dataframe tbody tr th {\n",
       "        vertical-align: top;\n",
       "    }\n",
       "\n",
       "    .dataframe thead th {\n",
       "        text-align: right;\n",
       "    }\n",
       "</style>\n",
       "<table border=\"1\" class=\"dataframe\">\n",
       "  <thead>\n",
       "    <tr style=\"text-align: right;\">\n",
       "      <th></th>\n",
       "      <th>Test Accuracy</th>\n",
       "      <th>Test Precision</th>\n",
       "      <th>Test Recall</th>\n",
       "      <th>Test F1</th>\n",
       "    </tr>\n",
       "    <tr>\n",
       "      <th>Model</th>\n",
       "      <th></th>\n",
       "      <th></th>\n",
       "      <th></th>\n",
       "      <th></th>\n",
       "    </tr>\n",
       "  </thead>\n",
       "  <tbody>\n",
       "    <tr>\n",
       "      <th>base</th>\n",
       "      <td>0.98</td>\n",
       "      <td>0.93</td>\n",
       "      <td>0.79</td>\n",
       "      <td>0.85</td>\n",
       "    </tr>\n",
       "    <tr>\n",
       "      <th>lg_test</th>\n",
       "      <td>0.97</td>\n",
       "      <td>0.78</td>\n",
       "      <td>0.92</td>\n",
       "      <td>0.85</td>\n",
       "    </tr>\n",
       "  </tbody>\n",
       "</table>\n",
       "</div>"
      ],
      "text/plain": [
       "         Test Accuracy  Test Precision  Test Recall  Test F1\n",
       "Model                                                       \n",
       "base              0.98            0.93         0.79     0.85\n",
       "lg_test           0.97            0.78         0.92     0.85"
      ]
     },
     "execution_count": 34,
     "metadata": {},
     "output_type": "execute_result"
    }
   ],
   "source": [
    "base_metrics = {\n",
    "    'Test Accuracy': 0.98,\n",
    "    'Test Precision': 0.93,\n",
    "    'Test Recall': 0.79,\n",
    "    'Test F1': 0.85\n",
    "}\n",
    "\n",
    "lg_test_metrics = {\n",
    "    'Test Accuracy': lg_model.score(x_test1, y_test1).round(2),\n",
    "    'Test Precision': precision_score(y_test1, y_test_pred).round(2),\n",
    "    'Test Recall': recall_score(y_test1, y_test_pred).round(2),\n",
    "    'Test F1': f1_score(y_test1, y_test_pred).round(2)\n",
    "}\n",
    "\n",
    "base_df = pd.DataFrame([base_metrics])\n",
    "lg_test_df = pd.DataFrame([lg_test_metrics])\n",
    "\n",
    "base_df['Model'] = 'base'\n",
    "lg_test_df['Model'] = 'lg_test'\n",
    "\n",
    "base_df.set_index('Model', inplace=True)\n",
    "lg_test_df.set_index('Model', inplace=True)\n",
    "\n",
    "lg_result_df = pd.concat([base_df, lg_test_df])\n",
    "\n",
    "lg_result_df"
   ]
  },
  {
   "cell_type": "code",
   "execution_count": 36,
   "metadata": {},
   "outputs": [],
   "source": [
    "import pickle\n",
    "\n",
    "# 모델 피클링 (저장)\n",
    "with open('lg_model.pkl', 'wb') as file:\n",
    "    pickle.dump(lg_model, file)\n",
    "\n",
    "# scaler 저장\n",
    "with open('lg_scaler.pkl', 'wb') as file:\n",
    "    pickle.dump(scaler, file)\n",
    "\n",
    "# # 모델 언피클링 (불러오기)\n",
    "# with open('model.pkl', 'rb') as file:\n",
    "#     loaded_model = pickle.load(file)"
   ]
  },
  {
   "cell_type": "markdown",
   "metadata": {},
   "source": [
    "## RandomForest 시작!!!"
   ]
  },
  {
   "cell_type": "code",
   "execution_count": 166,
   "metadata": {},
   "outputs": [
    {
     "name": "stdout",
     "output_type": "stream",
     "text": [
      "훈련 정확도:  0.9999301578432742\n",
      "훈련 recall:  0.9992412746585736\n",
      "훈련 Precision:  1.0\n",
      "훈련 F1-score:  0.9996204933586337\n"
     ]
    },
    {
     "data": {
      "text/html": [
       "<div>\n",
       "<style scoped>\n",
       "    .dataframe tbody tr th:only-of-type {\n",
       "        vertical-align: middle;\n",
       "    }\n",
       "\n",
       "    .dataframe tbody tr th {\n",
       "        vertical-align: top;\n",
       "    }\n",
       "\n",
       "    .dataframe thead th {\n",
       "        text-align: right;\n",
       "    }\n",
       "</style>\n",
       "<table border=\"1\" class=\"dataframe\">\n",
       "  <thead>\n",
       "    <tr style=\"text-align: right;\">\n",
       "      <th></th>\n",
       "      <th>fit_time</th>\n",
       "      <th>score_time</th>\n",
       "      <th>test_accuracy</th>\n",
       "      <th>test_recall</th>\n",
       "      <th>test_precision</th>\n",
       "      <th>test_f1_score</th>\n",
       "    </tr>\n",
       "  </thead>\n",
       "  <tbody>\n",
       "    <tr>\n",
       "      <th>0</th>\n",
       "      <td>1.493037</td>\n",
       "      <td>0.026562</td>\n",
       "      <td>0.977654</td>\n",
       "      <td>0.825758</td>\n",
       "      <td>0.923729</td>\n",
       "      <td>0.872000</td>\n",
       "    </tr>\n",
       "    <tr>\n",
       "      <th>1</th>\n",
       "      <td>1.472955</td>\n",
       "      <td>0.026848</td>\n",
       "      <td>0.981494</td>\n",
       "      <td>0.859848</td>\n",
       "      <td>0.934156</td>\n",
       "      <td>0.895464</td>\n",
       "    </tr>\n",
       "    <tr>\n",
       "      <th>2</th>\n",
       "      <td>1.528115</td>\n",
       "      <td>0.027096</td>\n",
       "      <td>0.975908</td>\n",
       "      <td>0.814394</td>\n",
       "      <td>0.914894</td>\n",
       "      <td>0.861723</td>\n",
       "    </tr>\n",
       "    <tr>\n",
       "      <th>3</th>\n",
       "      <td>1.528467</td>\n",
       "      <td>0.027235</td>\n",
       "      <td>0.983933</td>\n",
       "      <td>0.882129</td>\n",
       "      <td>0.939271</td>\n",
       "      <td>0.909804</td>\n",
       "    </tr>\n",
       "    <tr>\n",
       "      <th>4</th>\n",
       "      <td>1.542356</td>\n",
       "      <td>0.027336</td>\n",
       "      <td>0.977297</td>\n",
       "      <td>0.813688</td>\n",
       "      <td>0.930435</td>\n",
       "      <td>0.868154</td>\n",
       "    </tr>\n",
       "    <tr>\n",
       "      <th>mean</th>\n",
       "      <td>1.512986</td>\n",
       "      <td>0.027015</td>\n",
       "      <td>0.979257</td>\n",
       "      <td>0.839163</td>\n",
       "      <td>0.928497</td>\n",
       "      <td>0.881429</td>\n",
       "    </tr>\n",
       "  </tbody>\n",
       "</table>\n",
       "</div>"
      ],
      "text/plain": [
       "      fit_time  score_time  test_accuracy  test_recall  test_precision  \\\n",
       "0     1.493037    0.026562       0.977654     0.825758        0.923729   \n",
       "1     1.472955    0.026848       0.981494     0.859848        0.934156   \n",
       "2     1.528115    0.027096       0.975908     0.814394        0.914894   \n",
       "3     1.528467    0.027235       0.983933     0.882129        0.939271   \n",
       "4     1.542356    0.027336       0.977297     0.813688        0.930435   \n",
       "mean  1.512986    0.027015       0.979257     0.839163        0.928497   \n",
       "\n",
       "      test_f1_score  \n",
       "0          0.872000  \n",
       "1          0.895464  \n",
       "2          0.861723  \n",
       "3          0.909804  \n",
       "4          0.868154  \n",
       "mean       0.881429  "
      ]
     },
     "execution_count": 166,
     "metadata": {},
     "output_type": "execute_result"
    }
   ],
   "source": [
    "# x_train1\n",
    "\n",
    "rf_model = RandomForestClassifier(random_state=42)\n",
    "get_metrics(model=rf_model, x_train=x_train1, y_train=y_train1)"
   ]
  },
  {
   "cell_type": "code",
   "execution_count": 167,
   "metadata": {},
   "outputs": [
    {
     "name": "stdout",
     "output_type": "stream",
     "text": [
      "훈련 정확도:  1.0\n",
      "훈련 recall:  1.0\n",
      "훈련 Precision:  1.0\n",
      "훈련 F1-score:  1.0\n"
     ]
    },
    {
     "data": {
      "text/html": [
       "<div>\n",
       "<style scoped>\n",
       "    .dataframe tbody tr th:only-of-type {\n",
       "        vertical-align: middle;\n",
       "    }\n",
       "\n",
       "    .dataframe tbody tr th {\n",
       "        vertical-align: top;\n",
       "    }\n",
       "\n",
       "    .dataframe thead th {\n",
       "        text-align: right;\n",
       "    }\n",
       "</style>\n",
       "<table border=\"1\" class=\"dataframe\">\n",
       "  <thead>\n",
       "    <tr style=\"text-align: right;\">\n",
       "      <th></th>\n",
       "      <th>fit_time</th>\n",
       "      <th>score_time</th>\n",
       "      <th>test_accuracy</th>\n",
       "      <th>test_recall</th>\n",
       "      <th>test_precision</th>\n",
       "      <th>test_f1_score</th>\n",
       "    </tr>\n",
       "  </thead>\n",
       "  <tbody>\n",
       "    <tr>\n",
       "      <th>0</th>\n",
       "      <td>3.043891</td>\n",
       "      <td>0.052222</td>\n",
       "      <td>0.969482</td>\n",
       "      <td>0.971242</td>\n",
       "      <td>0.967902</td>\n",
       "      <td>0.969569</td>\n",
       "    </tr>\n",
       "    <tr>\n",
       "      <th>1</th>\n",
       "      <td>2.956297</td>\n",
       "      <td>0.049643</td>\n",
       "      <td>0.934933</td>\n",
       "      <td>0.902224</td>\n",
       "      <td>0.965531</td>\n",
       "      <td>0.932805</td>\n",
       "    </tr>\n",
       "    <tr>\n",
       "      <th>2</th>\n",
       "      <td>3.012503</td>\n",
       "      <td>0.050397</td>\n",
       "      <td>0.927817</td>\n",
       "      <td>0.884586</td>\n",
       "      <td>0.968514</td>\n",
       "      <td>0.924649</td>\n",
       "    </tr>\n",
       "    <tr>\n",
       "      <th>3</th>\n",
       "      <td>2.978909</td>\n",
       "      <td>0.050779</td>\n",
       "      <td>0.969284</td>\n",
       "      <td>0.966258</td>\n",
       "      <td>0.972222</td>\n",
       "      <td>0.969231</td>\n",
       "    </tr>\n",
       "    <tr>\n",
       "      <th>4</th>\n",
       "      <td>2.992874</td>\n",
       "      <td>0.049836</td>\n",
       "      <td>0.929161</td>\n",
       "      <td>0.885353</td>\n",
       "      <td>0.970576</td>\n",
       "      <td>0.926008</td>\n",
       "    </tr>\n",
       "    <tr>\n",
       "      <th>mean</th>\n",
       "      <td>2.996895</td>\n",
       "      <td>0.050575</td>\n",
       "      <td>0.946135</td>\n",
       "      <td>0.921933</td>\n",
       "      <td>0.968949</td>\n",
       "      <td>0.944452</td>\n",
       "    </tr>\n",
       "  </tbody>\n",
       "</table>\n",
       "</div>"
      ],
      "text/plain": [
       "      fit_time  score_time  test_accuracy  test_recall  test_precision  \\\n",
       "0     3.043891    0.052222       0.969482     0.971242        0.967902   \n",
       "1     2.956297    0.049643       0.934933     0.902224        0.965531   \n",
       "2     3.012503    0.050397       0.927817     0.884586        0.968514   \n",
       "3     2.978909    0.050779       0.969284     0.966258        0.972222   \n",
       "4     2.992874    0.049836       0.929161     0.885353        0.970576   \n",
       "mean  2.996895    0.050575       0.946135     0.921933        0.968949   \n",
       "\n",
       "      test_f1_score  \n",
       "0          0.969569  \n",
       "1          0.932805  \n",
       "2          0.924649  \n",
       "3          0.969231  \n",
       "4          0.926008  \n",
       "mean       0.944452  "
      ]
     },
     "execution_count": 167,
     "metadata": {},
     "output_type": "execute_result"
    }
   ],
   "source": [
    "# x_train2\n",
    "\n",
    "get_metrics(model=rf_model, x_train=x_train2, y_train=y_train2)"
   ]
  },
  {
   "cell_type": "code",
   "execution_count": 168,
   "metadata": {},
   "outputs": [
    {
     "name": "stdout",
     "output_type": "stream",
     "text": [
      "훈련 정확도:  0.9999301578432742\n",
      "훈련 recall:  0.9992412746585736\n",
      "훈련 Precision:  1.0\n",
      "훈련 F1-score:  0.9996204933586337\n"
     ]
    },
    {
     "data": {
      "text/html": [
       "<div>\n",
       "<style scoped>\n",
       "    .dataframe tbody tr th:only-of-type {\n",
       "        vertical-align: middle;\n",
       "    }\n",
       "\n",
       "    .dataframe tbody tr th {\n",
       "        vertical-align: top;\n",
       "    }\n",
       "\n",
       "    .dataframe thead th {\n",
       "        text-align: right;\n",
       "    }\n",
       "</style>\n",
       "<table border=\"1\" class=\"dataframe\">\n",
       "  <thead>\n",
       "    <tr style=\"text-align: right;\">\n",
       "      <th></th>\n",
       "      <th>fit_time</th>\n",
       "      <th>score_time</th>\n",
       "      <th>test_accuracy</th>\n",
       "      <th>test_recall</th>\n",
       "      <th>test_precision</th>\n",
       "      <th>test_f1_score</th>\n",
       "    </tr>\n",
       "  </thead>\n",
       "  <tbody>\n",
       "    <tr>\n",
       "      <th>0</th>\n",
       "      <td>1.492306</td>\n",
       "      <td>0.026881</td>\n",
       "      <td>0.978003</td>\n",
       "      <td>0.825758</td>\n",
       "      <td>0.927660</td>\n",
       "      <td>0.873747</td>\n",
       "    </tr>\n",
       "    <tr>\n",
       "      <th>1</th>\n",
       "      <td>1.471965</td>\n",
       "      <td>0.027209</td>\n",
       "      <td>0.981494</td>\n",
       "      <td>0.859848</td>\n",
       "      <td>0.934156</td>\n",
       "      <td>0.895464</td>\n",
       "    </tr>\n",
       "    <tr>\n",
       "      <th>2</th>\n",
       "      <td>1.521879</td>\n",
       "      <td>0.027089</td>\n",
       "      <td>0.975908</td>\n",
       "      <td>0.814394</td>\n",
       "      <td>0.914894</td>\n",
       "      <td>0.861723</td>\n",
       "    </tr>\n",
       "    <tr>\n",
       "      <th>3</th>\n",
       "      <td>1.515591</td>\n",
       "      <td>0.027131</td>\n",
       "      <td>0.983933</td>\n",
       "      <td>0.882129</td>\n",
       "      <td>0.939271</td>\n",
       "      <td>0.909804</td>\n",
       "    </tr>\n",
       "    <tr>\n",
       "      <th>4</th>\n",
       "      <td>1.538992</td>\n",
       "      <td>0.027520</td>\n",
       "      <td>0.977646</td>\n",
       "      <td>0.817490</td>\n",
       "      <td>0.930736</td>\n",
       "      <td>0.870445</td>\n",
       "    </tr>\n",
       "    <tr>\n",
       "      <th>mean</th>\n",
       "      <td>1.508147</td>\n",
       "      <td>0.027166</td>\n",
       "      <td>0.979397</td>\n",
       "      <td>0.839924</td>\n",
       "      <td>0.929343</td>\n",
       "      <td>0.882237</td>\n",
       "    </tr>\n",
       "  </tbody>\n",
       "</table>\n",
       "</div>"
      ],
      "text/plain": [
       "      fit_time  score_time  test_accuracy  test_recall  test_precision  \\\n",
       "0     1.492306    0.026881       0.978003     0.825758        0.927660   \n",
       "1     1.471965    0.027209       0.981494     0.859848        0.934156   \n",
       "2     1.521879    0.027089       0.975908     0.814394        0.914894   \n",
       "3     1.515591    0.027131       0.983933     0.882129        0.939271   \n",
       "4     1.538992    0.027520       0.977646     0.817490        0.930736   \n",
       "mean  1.508147    0.027166       0.979397     0.839924        0.929343   \n",
       "\n",
       "      test_f1_score  \n",
       "0          0.873747  \n",
       "1          0.895464  \n",
       "2          0.861723  \n",
       "3          0.909804  \n",
       "4          0.870445  \n",
       "mean       0.882237  "
      ]
     },
     "execution_count": 168,
     "metadata": {},
     "output_type": "execute_result"
    }
   ],
   "source": [
    "# x_train3\n",
    "\n",
    "get_metrics(model=rf_model, x_train=x_train3, y_train=y_train3)"
   ]
  },
  {
   "cell_type": "code",
   "execution_count": 169,
   "metadata": {},
   "outputs": [
    {
     "name": "stdout",
     "output_type": "stream",
     "text": [
      "훈련 정확도:  1.0\n",
      "훈련 recall:  1.0\n",
      "훈련 Precision:  1.0\n",
      "훈련 F1-score:  1.0\n"
     ]
    },
    {
     "data": {
      "text/html": [
       "<div>\n",
       "<style scoped>\n",
       "    .dataframe tbody tr th:only-of-type {\n",
       "        vertical-align: middle;\n",
       "    }\n",
       "\n",
       "    .dataframe tbody tr th {\n",
       "        vertical-align: top;\n",
       "    }\n",
       "\n",
       "    .dataframe thead th {\n",
       "        text-align: right;\n",
       "    }\n",
       "</style>\n",
       "<table border=\"1\" class=\"dataframe\">\n",
       "  <thead>\n",
       "    <tr style=\"text-align: right;\">\n",
       "      <th></th>\n",
       "      <th>fit_time</th>\n",
       "      <th>score_time</th>\n",
       "      <th>test_accuracy</th>\n",
       "      <th>test_recall</th>\n",
       "      <th>test_precision</th>\n",
       "      <th>test_f1_score</th>\n",
       "    </tr>\n",
       "  </thead>\n",
       "  <tbody>\n",
       "    <tr>\n",
       "      <th>0</th>\n",
       "      <td>2.970759</td>\n",
       "      <td>0.051120</td>\n",
       "      <td>0.939458</td>\n",
       "      <td>0.914330</td>\n",
       "      <td>0.962783</td>\n",
       "      <td>0.937931</td>\n",
       "    </tr>\n",
       "    <tr>\n",
       "      <th>1</th>\n",
       "      <td>3.062492</td>\n",
       "      <td>0.050195</td>\n",
       "      <td>0.932539</td>\n",
       "      <td>0.898194</td>\n",
       "      <td>0.964521</td>\n",
       "      <td>0.930177</td>\n",
       "    </tr>\n",
       "    <tr>\n",
       "      <th>2</th>\n",
       "      <td>2.926706</td>\n",
       "      <td>0.050182</td>\n",
       "      <td>0.949452</td>\n",
       "      <td>0.933538</td>\n",
       "      <td>0.964286</td>\n",
       "      <td>0.948663</td>\n",
       "    </tr>\n",
       "    <tr>\n",
       "      <th>3</th>\n",
       "      <td>2.980451</td>\n",
       "      <td>0.050194</td>\n",
       "      <td>0.945993</td>\n",
       "      <td>0.922397</td>\n",
       "      <td>0.968145</td>\n",
       "      <td>0.944718</td>\n",
       "    </tr>\n",
       "    <tr>\n",
       "      <th>4</th>\n",
       "      <td>2.945428</td>\n",
       "      <td>0.050360</td>\n",
       "      <td>0.958678</td>\n",
       "      <td>0.951978</td>\n",
       "      <td>0.964953</td>\n",
       "      <td>0.958422</td>\n",
       "    </tr>\n",
       "    <tr>\n",
       "      <th>mean</th>\n",
       "      <td>2.977167</td>\n",
       "      <td>0.050410</td>\n",
       "      <td>0.945224</td>\n",
       "      <td>0.924088</td>\n",
       "      <td>0.964938</td>\n",
       "      <td>0.943982</td>\n",
       "    </tr>\n",
       "  </tbody>\n",
       "</table>\n",
       "</div>"
      ],
      "text/plain": [
       "      fit_time  score_time  test_accuracy  test_recall  test_precision  \\\n",
       "0     2.970759    0.051120       0.939458     0.914330        0.962783   \n",
       "1     3.062492    0.050195       0.932539     0.898194        0.964521   \n",
       "2     2.926706    0.050182       0.949452     0.933538        0.964286   \n",
       "3     2.980451    0.050194       0.945993     0.922397        0.968145   \n",
       "4     2.945428    0.050360       0.958678     0.951978        0.964953   \n",
       "mean  2.977167    0.050410       0.945224     0.924088        0.964938   \n",
       "\n",
       "      test_f1_score  \n",
       "0          0.937931  \n",
       "1          0.930177  \n",
       "2          0.948663  \n",
       "3          0.944718  \n",
       "4          0.958422  \n",
       "mean       0.943982  "
      ]
     },
     "execution_count": 169,
     "metadata": {},
     "output_type": "execute_result"
    }
   ],
   "source": [
    "# x_train4\n",
    "\n",
    "get_metrics(model=rf_model, x_train=x_train4, y_train=y_train4)"
   ]
  },
  {
   "cell_type": "markdown",
   "metadata": {},
   "source": [
    "#### RandomForest모델에서는 Standard를 사용하고 오버샘플링을 사용한 데이터가 가장 기본으로 만들었을때 성능이 좋았음\n",
    "- x_train2 채택!\n",
    "- 어느정도 성능이 높게 나왔지만 살짝 과적합 의심\n",
    "- 조금 더 안정화를 시켜야한다고 생각하고 파라미터 조정"
   ]
  },
  {
   "cell_type": "markdown",
   "metadata": {},
   "source": [
    "## RandomForest 하이퍼파라미터 조정(x_train2)\n",
    "- 일단 오버샘플링을 해놓은 데이터이기에 class_weight는 조정해보기로(할수도있고 안할수도?)\n",
    "- 최적의 조합을 찾기위해 어느정도 파라미터가 많기에 그리드서치 or 랜덤서치 기법 활용해보기로\n",
    "\n",
    "#### 참고자료\n",
    "https://scikit-learn.org/stable/modules/generated/sklearn.ensemble.RandomForestClassifier.html#sklearn.ensemble.RandomForestClassifier"
   ]
  },
  {
   "cell_type": "code",
   "execution_count": 143,
   "metadata": {},
   "outputs": [],
   "source": [
    "from sklearn.model_selection import GridSearchCV, RandomizedSearchCV\n",
    "from scipy.stats import randint"
   ]
  },
  {
   "cell_type": "markdown",
   "metadata": {},
   "source": [
    "##### Random Search 활용\n",
    "- 과적합인지 아닌지 조금 불확실해서 조합을 잘 생각해봐야할듯"
   ]
  },
  {
   "cell_type": "code",
   "execution_count": 165,
   "metadata": {},
   "outputs": [
    {
     "name": "stdout",
     "output_type": "stream",
     "text": [
      "최적의 하이퍼파라미터:  {'bootstrap': False, 'max_depth': 9, 'min_samples_leaf': 15, 'min_samples_split': 19, 'n_estimators': 876}\n",
      "최고 recall:  0.8702453987730061\n"
     ]
    }
   ],
   "source": [
    "rf_model = RandomForestClassifier(random_state=42,\n",
    "                                  class_weight='balanced')\n",
    "param_dist = {\n",
    "    'n_estimators': randint(100, 1000), # 이 값을 늘리면 더 많은 트리를 사용하여 예측을 평균화하므로 일반화 성능을 향상시킬 수 있다.\n",
    "    'max_depth': randint(1, 10), # 작은 값으로 설정하면 트리의 복잡성이 줄어들어 과적합을 방지\n",
    "    'min_samples_split': randint(2, 20), # 큰 값으로 설정하면 과적합을 방지하는 데 도움\n",
    "    'min_samples_leaf': randint(2, 20), # 큰 값으로 설정하면 과적합을 방지하는 데 도움\n",
    "    'max_features' : randint(1, 8), # 특성 수를 제한하여 과적합을 줄일 수 있다.\n",
    "    'bootstrap' : [True, False] # True로 설정하면 bagging이 활성화되어 일반화 성능을 향상시킬 수 있다.\n",
    "}\n",
    "\n",
    "# 랜덤 서치 수행\n",
    "random_search = RandomizedSearchCV(\n",
    "    rf_model, param_distributions=param_dist, n_iter=10, cv=5, scoring='recall', random_state=42\n",
    ")\n",
    "\n",
    "# 학습 데이터에 랜덤 서치 수행\n",
    "random_search.fit(x_train2, y_train2)\n",
    "\n",
    "# 최적의 하이퍼파라미터와 평가 지표 출력\n",
    "print(\"최적의 하이퍼파라미터: \", random_search.best_params_)\n",
    "print(\"최고 recall: \", random_search.best_score_)"
   ]
  },
  {
   "cell_type": "markdown",
   "metadata": {},
   "source": [
    "- 랜덤서치1<br>\n",
    "최적의 하이퍼파라미터:  {'max_depth': 7, 'max_features': 6, 'min_samples_leaf': 9, 'min_samples_split': 8, 'n_estimators': 423}\n",
    "최고 recall:  0.8520705521472394\n",
    "\n",
    "- 랜덤서치2<br>\n",
    "최적의 하이퍼파라미터:  {'bootstrap': False, 'max_depth': 1, 'max_features': 4, 'min_samples_leaf': 5, 'min_samples_split': 4, 'n_estimators': 796}\n",
    "최고 recall:  0.8881901840490798\n",
    "\n",
    "- 랜덤서치3<br>\n",
    "최적의 하이퍼파라미터:  {'bootstrap': True, 'max_depth': 8, 'max_features': 12, 'min_samples_leaf': 11, 'min_samples_split': 5, 'n_estimators': 863}\n",
    "최고 recall:  0.8757668711656443\n",
    "\n",
    "- 랜덤서치4<br>\n",
    "최적의 하이퍼파라미터:  {'bootstrap': True, 'max_depth': 8, 'max_features': 11, 'min_samples_leaf': 12, 'min_samples_split': 13, 'n_estimators': 932}\n",
    "최고 recall:  0.8756134969325154\n",
    "\n",
    "- 랜덤서치5<br>\n",
    "최적의 하이퍼파라미터:  {'bootstrap': False, 'max_depth': 9, 'max_features': 3, 'min_samples_leaf': 15, 'min_samples_split': 14, 'n_estimators': 919}\n",
    "최고 recall:  0.8782208588957054\n",
    "\n",
    "- 랜덤서치6<br>\n",
    "최적의 하이퍼파라미터:  {'bootstrap': False, 'max_depth': 9, 'min_samples_leaf': 4, 'min_samples_split': 2, 'n_estimators': 82}\n",
    "최고 recall:  0.8759202453987729\n",
    "\n",
    "- 랜덤서치7<br>\n",
    "최적의 하이퍼파라미터:  {'bootstrap': False, 'max_depth': 8, 'max_features': 6, 'min_samples_leaf': 3, 'min_samples_split': 4, 'n_estimators': 113}\n",
    "최고 recall:  0.8733128834355828\n",
    "\n",
    "- 랜덤서치8<br>\n",
    "최적의 하이퍼파라미터:  {'bootstrap': True, 'max_depth': 9, 'min_samples_leaf': 2, 'min_samples_split': 4, 'n_estimators': 158}\n",
    "최고 recall:  0.8781441717791412\n",
    "\n",
    "- 랜덤서치9<br>\n",
    "최적의 하이퍼파라미터:  {'bootstrap': True, 'max_depth': 9, 'min_samples_leaf': 2, 'min_samples_split': 4, 'n_estimators': 158}\n",
    "최고 recall:  0.8781441717791412\n",
    "\n",
    "- 랜덤서치10<br>\n",
    "최적의 하이퍼파라미터:  {'bootstrap': False, 'max_depth': 9, 'min_samples_leaf': 15, 'min_samples_split': 19, 'n_estimators': 876}\n",
    "최고 recall:  0.8702453987730061"
   ]
  },
  {
   "cell_type": "markdown",
   "metadata": {},
   "source": [
    "#### 테스트용"
   ]
  },
  {
   "cell_type": "code",
   "execution_count": 145,
   "metadata": {},
   "outputs": [],
   "source": [
    "rf_model = RandomForestClassifier(class_weight='balanced',\n",
    "                                  max_depth=9,\n",
    "                                  min_samples_leaf=3,\n",
    "                                  min_samples_split=6,\n",
    "                                  n_estimators=456,\n",
    "                                  random_state=42)"
   ]
  },
  {
   "cell_type": "code",
   "execution_count": 171,
   "metadata": {},
   "outputs": [
    {
     "name": "stdout",
     "output_type": "stream",
     "text": [
      "훈련 정확도:  1.0\n",
      "훈련 recall:  1.0\n",
      "훈련 Precision:  1.0\n",
      "훈련 F1-score:  1.0\n"
     ]
    },
    {
     "data": {
      "text/html": [
       "<div>\n",
       "<style scoped>\n",
       "    .dataframe tbody tr th:only-of-type {\n",
       "        vertical-align: middle;\n",
       "    }\n",
       "\n",
       "    .dataframe tbody tr th {\n",
       "        vertical-align: top;\n",
       "    }\n",
       "\n",
       "    .dataframe thead th {\n",
       "        text-align: right;\n",
       "    }\n",
       "</style>\n",
       "<table border=\"1\" class=\"dataframe\">\n",
       "  <thead>\n",
       "    <tr style=\"text-align: right;\">\n",
       "      <th></th>\n",
       "      <th>fit_time</th>\n",
       "      <th>score_time</th>\n",
       "      <th>test_accuracy</th>\n",
       "      <th>test_recall</th>\n",
       "      <th>test_precision</th>\n",
       "      <th>test_f1_score</th>\n",
       "    </tr>\n",
       "  </thead>\n",
       "  <tbody>\n",
       "    <tr>\n",
       "      <th>0</th>\n",
       "      <td>3.045087</td>\n",
       "      <td>0.052375</td>\n",
       "      <td>0.969482</td>\n",
       "      <td>0.971242</td>\n",
       "      <td>0.967902</td>\n",
       "      <td>0.969569</td>\n",
       "    </tr>\n",
       "    <tr>\n",
       "      <th>1</th>\n",
       "      <td>2.964457</td>\n",
       "      <td>0.050176</td>\n",
       "      <td>0.934933</td>\n",
       "      <td>0.902224</td>\n",
       "      <td>0.965531</td>\n",
       "      <td>0.932805</td>\n",
       "    </tr>\n",
       "    <tr>\n",
       "      <th>2</th>\n",
       "      <td>3.036021</td>\n",
       "      <td>0.050621</td>\n",
       "      <td>0.927817</td>\n",
       "      <td>0.884586</td>\n",
       "      <td>0.968514</td>\n",
       "      <td>0.924649</td>\n",
       "    </tr>\n",
       "    <tr>\n",
       "      <th>3</th>\n",
       "      <td>2.995503</td>\n",
       "      <td>0.051119</td>\n",
       "      <td>0.969284</td>\n",
       "      <td>0.966258</td>\n",
       "      <td>0.972222</td>\n",
       "      <td>0.969231</td>\n",
       "    </tr>\n",
       "    <tr>\n",
       "      <th>4</th>\n",
       "      <td>2.992252</td>\n",
       "      <td>0.049468</td>\n",
       "      <td>0.929161</td>\n",
       "      <td>0.885353</td>\n",
       "      <td>0.970576</td>\n",
       "      <td>0.926008</td>\n",
       "    </tr>\n",
       "    <tr>\n",
       "      <th>mean</th>\n",
       "      <td>3.006664</td>\n",
       "      <td>0.050752</td>\n",
       "      <td>0.946135</td>\n",
       "      <td>0.921933</td>\n",
       "      <td>0.968949</td>\n",
       "      <td>0.944452</td>\n",
       "    </tr>\n",
       "  </tbody>\n",
       "</table>\n",
       "</div>"
      ],
      "text/plain": [
       "      fit_time  score_time  test_accuracy  test_recall  test_precision  \\\n",
       "0     3.045087    0.052375       0.969482     0.971242        0.967902   \n",
       "1     2.964457    0.050176       0.934933     0.902224        0.965531   \n",
       "2     3.036021    0.050621       0.927817     0.884586        0.968514   \n",
       "3     2.995503    0.051119       0.969284     0.966258        0.972222   \n",
       "4     2.992252    0.049468       0.929161     0.885353        0.970576   \n",
       "mean  3.006664    0.050752       0.946135     0.921933        0.968949   \n",
       "\n",
       "      test_f1_score  \n",
       "0          0.969569  \n",
       "1          0.932805  \n",
       "2          0.924649  \n",
       "3          0.969231  \n",
       "4          0.926008  \n",
       "mean       0.944452  "
      ]
     },
     "execution_count": 171,
     "metadata": {},
     "output_type": "execute_result"
    }
   ],
   "source": [
    "get_metrics(model=rf_model, x_train=x_train2, y_train=y_train2)"
   ]
  },
  {
   "cell_type": "code",
   "execution_count": 172,
   "metadata": {},
   "outputs": [
    {
     "name": "stdout",
     "output_type": "stream",
     "text": [
      "테스트 정확도:  0.9639664804469273\n",
      "테스트 recall:  0.8963414634146342\n",
      "테스트 Precision:  0.7557840616966581\n",
      "테스트 F1-score:  0.8200836820083682\n"
     ]
    }
   ],
   "source": [
    "y_test_pred = rf_model.predict(x_test2)\n",
    "print(\"테스트 정확도: \", rf_model.score(x_test2, y_test2))\n",
    "print(\"테스트 recall: \", recall_score(y_test2, y_test_pred))\n",
    "print(\"테스트 Precision: \", precision_score(y_test2, y_test_pred))\n",
    "print(\"테스트 F1-score: \", f1_score(y_test2, y_test_pred))"
   ]
  },
  {
   "cell_type": "markdown",
   "metadata": {},
   "source": [
    "#### Grid Search 활용"
   ]
  },
  {
   "cell_type": "code",
   "execution_count": 173,
   "metadata": {},
   "outputs": [
    {
     "name": "stdout",
     "output_type": "stream",
     "text": [
      "최적의 하이퍼파라미터: {'max_depth': 15, 'min_samples_leaf': 1, 'min_samples_split': 2, 'n_estimators': 200}\n",
      "최고 Recall: 0.9259969325153374\n"
     ]
    }
   ],
   "source": [
    "# 모델 생성\n",
    "model = RandomForestClassifier()\n",
    "\n",
    "# 하이퍼파라미터 후보들을 딕셔너리 형태로 정의\n",
    "param_grid = {\n",
    "    'n_estimators': [200, 300, 400, 500, 600, 700],  # 결정 트리 개수 후보\n",
    "    'max_depth': [None, 1, 5, 10, 15, 20],  # 최대 깊이 후보\n",
    "    'min_samples_split': [2, 5, 10, 15, 20],  # 노드를 분할하기 위한 최소 샘플 수 후보\n",
    "    'min_samples_leaf': [1, 2, 4, 6, 8, 10]  # 리프 노드에 필요한 최소 샘플 수 후보\n",
    "}\n",
    "\n",
    "# Recall을 사용하여 그리드 서치 수행\n",
    "grid_search = GridSearchCV(model, param_grid, cv=5, scoring='recall')\n",
    "\n",
    "# 학습 데이터에 그리드 서치 수행\n",
    "grid_search.fit(x_train2, y_train2)\n",
    "\n",
    "# 최적의 파라미터와 성능 확인\n",
    "print(\"최적의 하이퍼파라미터:\", grid_search.best_params_)\n",
    "print(\"최고 Recall:\", grid_search.best_score_)"
   ]
  },
  {
   "cell_type": "markdown",
   "metadata": {},
   "source": [
    "#### Grid 1829분 동안 돌린결과...\n",
    "\n",
    "최적의 하이퍼파라미터: {'max_depth': 15, 'min_samples_leaf': 1, 'min_samples_split': 2, 'n_estimators': 200}\n",
    "최고 Recall: 0.9259969325153374"
   ]
  },
  {
   "cell_type": "code",
   "execution_count": 22,
   "metadata": {},
   "outputs": [],
   "source": [
    "rf_model = RandomForestClassifier(\n",
    "                                  max_depth=15,\n",
    "                                  min_samples_leaf=1,\n",
    "                                  min_samples_split=2,\n",
    "                                  n_estimators=200,\n",
    "                                  random_state=42)"
   ]
  },
  {
   "cell_type": "markdown",
   "metadata": {},
   "source": [
    "### class_weight 하기전 성능"
   ]
  },
  {
   "cell_type": "code",
   "execution_count": 20,
   "metadata": {},
   "outputs": [
    {
     "name": "stdout",
     "output_type": "stream",
     "text": [
      "훈련 정확도:  0.9928974546012976\n",
      "훈련 recall:  0.9997699386503067\n",
      "훈련 Precision:  0.9862319388758605\n",
      "훈련 F1-score:  0.9929547964507407\n"
     ]
    },
    {
     "data": {
      "text/html": [
       "<div>\n",
       "<style scoped>\n",
       "    .dataframe tbody tr th:only-of-type {\n",
       "        vertical-align: middle;\n",
       "    }\n",
       "\n",
       "    .dataframe tbody tr th {\n",
       "        vertical-align: top;\n",
       "    }\n",
       "\n",
       "    .dataframe thead th {\n",
       "        text-align: right;\n",
       "    }\n",
       "</style>\n",
       "<table border=\"1\" class=\"dataframe\">\n",
       "  <thead>\n",
       "    <tr style=\"text-align: right;\">\n",
       "      <th></th>\n",
       "      <th>fit_time</th>\n",
       "      <th>score_time</th>\n",
       "      <th>test_accuracy</th>\n",
       "      <th>test_recall</th>\n",
       "      <th>test_precision</th>\n",
       "      <th>test_f1_score</th>\n",
       "    </tr>\n",
       "  </thead>\n",
       "  <tbody>\n",
       "    <tr>\n",
       "      <th>0</th>\n",
       "      <td>5.589598</td>\n",
       "      <td>0.096383</td>\n",
       "      <td>0.966219</td>\n",
       "      <td>0.972776</td>\n",
       "      <td>0.960257</td>\n",
       "      <td>0.966476</td>\n",
       "    </tr>\n",
       "    <tr>\n",
       "      <th>1</th>\n",
       "      <td>5.580424</td>\n",
       "      <td>0.093824</td>\n",
       "      <td>0.935509</td>\n",
       "      <td>0.906058</td>\n",
       "      <td>0.962918</td>\n",
       "      <td>0.933623</td>\n",
       "    </tr>\n",
       "    <tr>\n",
       "      <th>2</th>\n",
       "      <td>5.659273</td>\n",
       "      <td>0.093072</td>\n",
       "      <td>0.927049</td>\n",
       "      <td>0.890721</td>\n",
       "      <td>0.960711</td>\n",
       "      <td>0.924393</td>\n",
       "    </tr>\n",
       "    <tr>\n",
       "      <th>3</th>\n",
       "      <td>5.606857</td>\n",
       "      <td>0.094006</td>\n",
       "      <td>0.966980</td>\n",
       "      <td>0.966258</td>\n",
       "      <td>0.967742</td>\n",
       "      <td>0.966999</td>\n",
       "    </tr>\n",
       "    <tr>\n",
       "      <th>4</th>\n",
       "      <td>5.610049</td>\n",
       "      <td>0.093220</td>\n",
       "      <td>0.926473</td>\n",
       "      <td>0.885736</td>\n",
       "      <td>0.964509</td>\n",
       "      <td>0.923446</td>\n",
       "    </tr>\n",
       "    <tr>\n",
       "      <th>mean</th>\n",
       "      <td>5.609240</td>\n",
       "      <td>0.094101</td>\n",
       "      <td>0.944446</td>\n",
       "      <td>0.924310</td>\n",
       "      <td>0.963228</td>\n",
       "      <td>0.942988</td>\n",
       "    </tr>\n",
       "  </tbody>\n",
       "</table>\n",
       "</div>"
      ],
      "text/plain": [
       "      fit_time  score_time  test_accuracy  test_recall  test_precision  \\\n",
       "0     5.589598    0.096383       0.966219     0.972776        0.960257   \n",
       "1     5.580424    0.093824       0.935509     0.906058        0.962918   \n",
       "2     5.659273    0.093072       0.927049     0.890721        0.960711   \n",
       "3     5.606857    0.094006       0.966980     0.966258        0.967742   \n",
       "4     5.610049    0.093220       0.926473     0.885736        0.964509   \n",
       "mean  5.609240    0.094101       0.944446     0.924310        0.963228   \n",
       "\n",
       "      test_f1_score  \n",
       "0          0.966476  \n",
       "1          0.933623  \n",
       "2          0.924393  \n",
       "3          0.966999  \n",
       "4          0.923446  \n",
       "mean       0.942988  "
      ]
     },
     "execution_count": 20,
     "metadata": {},
     "output_type": "execute_result"
    }
   ],
   "source": [
    "get_metrics(model=rf_model, x_train=x_train2, y_train=y_train2)"
   ]
  },
  {
   "cell_type": "markdown",
   "metadata": {},
   "source": [
    "### class_weight balanced 설정 후"
   ]
  },
  {
   "cell_type": "code",
   "execution_count": 257,
   "metadata": {},
   "outputs": [],
   "source": [
    "rf_model = RandomForestClassifier(class_weight='balanced',\n",
    "                                  max_depth=15,\n",
    "                                  min_samples_leaf=1,\n",
    "                                  min_samples_split=2,\n",
    "                                  n_estimators=200)"
   ]
  },
  {
   "cell_type": "code",
   "execution_count": 258,
   "metadata": {},
   "outputs": [
    {
     "name": "stdout",
     "output_type": "stream",
     "text": [
      "훈련 정확도:  0.9930510231504588\n",
      "훈련 recall:  0.9999233128834356\n",
      "훈련 Precision:  0.986383236250851\n",
      "훈련 F1-score:  0.9931071251761301\n"
     ]
    },
    {
     "data": {
      "text/html": [
       "<div>\n",
       "<style scoped>\n",
       "    .dataframe tbody tr th:only-of-type {\n",
       "        vertical-align: middle;\n",
       "    }\n",
       "\n",
       "    .dataframe tbody tr th {\n",
       "        vertical-align: top;\n",
       "    }\n",
       "\n",
       "    .dataframe thead th {\n",
       "        text-align: right;\n",
       "    }\n",
       "</style>\n",
       "<table border=\"1\" class=\"dataframe\">\n",
       "  <thead>\n",
       "    <tr style=\"text-align: right;\">\n",
       "      <th></th>\n",
       "      <th>fit_time</th>\n",
       "      <th>score_time</th>\n",
       "      <th>test_accuracy</th>\n",
       "      <th>test_recall</th>\n",
       "      <th>test_precision</th>\n",
       "      <th>test_f1_score</th>\n",
       "    </tr>\n",
       "  </thead>\n",
       "  <tbody>\n",
       "    <tr>\n",
       "      <th>0</th>\n",
       "      <td>5.661268</td>\n",
       "      <td>0.092438</td>\n",
       "      <td>0.967754</td>\n",
       "      <td>0.974310</td>\n",
       "      <td>0.961771</td>\n",
       "      <td>0.968000</td>\n",
       "    </tr>\n",
       "    <tr>\n",
       "      <th>1</th>\n",
       "      <td>5.681469</td>\n",
       "      <td>0.090371</td>\n",
       "      <td>0.935125</td>\n",
       "      <td>0.908742</td>\n",
       "      <td>0.959514</td>\n",
       "      <td>0.933438</td>\n",
       "    </tr>\n",
       "    <tr>\n",
       "      <th>2</th>\n",
       "      <td>5.697196</td>\n",
       "      <td>0.090614</td>\n",
       "      <td>0.928009</td>\n",
       "      <td>0.892638</td>\n",
       "      <td>0.960792</td>\n",
       "      <td>0.925462</td>\n",
       "    </tr>\n",
       "    <tr>\n",
       "      <th>3</th>\n",
       "      <td>5.604351</td>\n",
       "      <td>0.091473</td>\n",
       "      <td>0.968708</td>\n",
       "      <td>0.969709</td>\n",
       "      <td>0.967853</td>\n",
       "      <td>0.968780</td>\n",
       "    </tr>\n",
       "    <tr>\n",
       "      <th>4</th>\n",
       "      <td>5.646397</td>\n",
       "      <td>0.089529</td>\n",
       "      <td>0.928009</td>\n",
       "      <td>0.887270</td>\n",
       "      <td>0.966180</td>\n",
       "      <td>0.925045</td>\n",
       "    </tr>\n",
       "    <tr>\n",
       "      <th>mean</th>\n",
       "      <td>5.658136</td>\n",
       "      <td>0.090885</td>\n",
       "      <td>0.945521</td>\n",
       "      <td>0.926534</td>\n",
       "      <td>0.963222</td>\n",
       "      <td>0.944145</td>\n",
       "    </tr>\n",
       "  </tbody>\n",
       "</table>\n",
       "</div>"
      ],
      "text/plain": [
       "      fit_time  score_time  test_accuracy  test_recall  test_precision  \\\n",
       "0     5.661268    0.092438       0.967754     0.974310        0.961771   \n",
       "1     5.681469    0.090371       0.935125     0.908742        0.959514   \n",
       "2     5.697196    0.090614       0.928009     0.892638        0.960792   \n",
       "3     5.604351    0.091473       0.968708     0.969709        0.967853   \n",
       "4     5.646397    0.089529       0.928009     0.887270        0.966180   \n",
       "mean  5.658136    0.090885       0.945521     0.926534        0.963222   \n",
       "\n",
       "      test_f1_score  \n",
       "0          0.968000  \n",
       "1          0.933438  \n",
       "2          0.925462  \n",
       "3          0.968780  \n",
       "4          0.925045  \n",
       "mean       0.944145  "
      ]
     },
     "execution_count": 258,
     "metadata": {},
     "output_type": "execute_result"
    }
   ],
   "source": [
    "get_metrics(model=rf_model, x_train=x_train2, y_train=y_train2)"
   ]
  },
  {
   "cell_type": "code",
   "execution_count": 259,
   "metadata": {},
   "outputs": [
    {
     "name": "stdout",
     "output_type": "stream",
     "text": [
      "테스트 정확도:  0.9578212290502793\n",
      "테스트 recall:  0.899390243902439\n",
      "테스트 Precision:  0.7142857142857143\n",
      "테스트 F1-score:  0.7962213225371121\n"
     ]
    }
   ],
   "source": [
    "y_test_pred = rf_model.predict(x_test2)\n",
    "print(\"테스트 정확도: \", rf_model.score(x_test2, y_test2))\n",
    "print(\"테스트 recall: \", recall_score(y_test2, y_test_pred))\n",
    "print(\"테스트 Precision: \", precision_score(y_test2, y_test_pred))\n",
    "print(\"테스트 F1-score: \", f1_score(y_test2, y_test_pred))"
   ]
  },
  {
   "cell_type": "markdown",
   "metadata": {},
   "source": [
    "### rf_model confusion matrix 확인"
   ]
  },
  {
   "cell_type": "code",
   "execution_count": 260,
   "metadata": {},
   "outputs": [
    {
     "data": {
      "image/png": "[encoded data removed]",
      "text/plain": [
       "<Figure size 500x300 with 1 Axes>"
      ]
     },
     "metadata": {},
     "output_type": "display_data"
    }
   ],
   "source": [
    "from sklearn.metrics import confusion_matrix\n",
    "\n",
    "plt.figure(figsize = (5, 3))\n",
    "sns.heatmap(confusion_matrix(y_test2, y_test_pred), cmap = 'Blues',\n",
    "            cbar = False, annot = True, annot_kws = {'size' : 15},\n",
    "            fmt = '.0f', xticklabels = ['0(No)', '1(Yes)'], yticklabels = ['0(No)', '1(Yes)'],\n",
    "            linecolor = 'k', linewidths = 0.8)\n",
    "plt.xlabel('Predicted')\n",
    "plt.ylabel('Actual')\n",
    "plt.show()"
   ]
  },
  {
   "cell_type": "markdown",
   "metadata": {},
   "source": [
    "### rf_model pickling"
   ]
  },
  {
   "cell_type": "code",
   "execution_count": 28,
   "metadata": {},
   "outputs": [],
   "source": [
    "import pickle\n",
    "\n",
    "# 모델 피클링 (저장)\n",
    "with open('rf_model.pkl', 'wb') as file:\n",
    "    pickle.dump(rf_model, file)"
   ]
  },
  {
   "cell_type": "markdown",
   "metadata": {},
   "source": [
    "### 데이터프레임으로 base_model과 성능 비교"
   ]
  },
  {
   "cell_type": "code",
   "execution_count": 261,
   "metadata": {},
   "outputs": [
    {
     "data": {
      "text/html": [
       "<div>\n",
       "<style scoped>\n",
       "    .dataframe tbody tr th:only-of-type {\n",
       "        vertical-align: middle;\n",
       "    }\n",
       "\n",
       "    .dataframe tbody tr th {\n",
       "        vertical-align: top;\n",
       "    }\n",
       "\n",
       "    .dataframe thead th {\n",
       "        text-align: right;\n",
       "    }\n",
       "</style>\n",
       "<table border=\"1\" class=\"dataframe\">\n",
       "  <thead>\n",
       "    <tr style=\"text-align: right;\">\n",
       "      <th></th>\n",
       "      <th>Test Accuracy</th>\n",
       "      <th>Test Precision</th>\n",
       "      <th>Test Recall</th>\n",
       "      <th>Test F1</th>\n",
       "    </tr>\n",
       "    <tr>\n",
       "      <th>Model</th>\n",
       "      <th></th>\n",
       "      <th></th>\n",
       "      <th></th>\n",
       "      <th></th>\n",
       "    </tr>\n",
       "  </thead>\n",
       "  <tbody>\n",
       "    <tr>\n",
       "      <th>base</th>\n",
       "      <td>0.98</td>\n",
       "      <td>0.93</td>\n",
       "      <td>0.79</td>\n",
       "      <td>0.85</td>\n",
       "    </tr>\n",
       "    <tr>\n",
       "      <th>rf_test</th>\n",
       "      <td>0.96</td>\n",
       "      <td>0.71</td>\n",
       "      <td>0.90</td>\n",
       "      <td>0.80</td>\n",
       "    </tr>\n",
       "  </tbody>\n",
       "</table>\n",
       "</div>"
      ],
      "text/plain": [
       "         Test Accuracy  Test Precision  Test Recall  Test F1\n",
       "Model                                                       \n",
       "base              0.98            0.93         0.79     0.85\n",
       "rf_test           0.96            0.71         0.90     0.80"
      ]
     },
     "execution_count": 261,
     "metadata": {},
     "output_type": "execute_result"
    }
   ],
   "source": [
    "base_metrics = {\n",
    "    'Test Accuracy': 0.98,\n",
    "    'Test Precision': 0.93,\n",
    "    'Test Recall': 0.79,\n",
    "    'Test F1': 0.85\n",
    "}\n",
    "\n",
    "rf_test_metrics = {\n",
    "    'Test Accuracy': round(rf_model.score(x_test2, y_test2), 2),\n",
    "    'Test Precision': round(precision_score(y_test2, y_test_pred), 2),\n",
    "    'Test Recall': round(recall_score(y_test2, y_test_pred), 2),\n",
    "    'Test F1': round(f1_score(y_test2, y_test_pred), 2)\n",
    "}\n",
    "\n",
    "base_df = pd.DataFrame([base_metrics])\n",
    "rf_test_df = pd.DataFrame([rf_test_metrics])\n",
    "\n",
    "base_df['Model'] = 'base'\n",
    "rf_test_df['Model'] = 'rf_test'\n",
    "\n",
    "base_df.set_index('Model', inplace=True)\n",
    "rf_test_df.set_index('Model', inplace=True)\n",
    "\n",
    "rf_result_df = pd.concat([base_df, rf_test_df])\n",
    "\n",
    "rf_result_df"
   ]
  },
  {
   "cell_type": "markdown",
   "metadata": {},
   "source": [
    "## xgboost 모델링 시작!!!"
   ]
  },
  {
   "cell_type": "code",
   "execution_count": 56,
   "metadata": {},
   "outputs": [
    {
     "name": "stdout",
     "output_type": "stream",
     "text": [
      "훈련 정확도:  0.9979745774549518\n",
      "훈련 recall:  0.9794050343249427\n",
      "훈련 Precision:  0.9984447900466563\n",
      "훈련 F1-score:  0.9888332691567193\n"
     ]
    },
    {
     "data": {
      "text/html": [
       "<div>\n",
       "<style scoped>\n",
       "    .dataframe tbody tr th:only-of-type {\n",
       "        vertical-align: middle;\n",
       "    }\n",
       "\n",
       "    .dataframe tbody tr th {\n",
       "        vertical-align: top;\n",
       "    }\n",
       "\n",
       "    .dataframe thead th {\n",
       "        text-align: right;\n",
       "    }\n",
       "</style>\n",
       "<table border=\"1\" class=\"dataframe\">\n",
       "  <thead>\n",
       "    <tr style=\"text-align: right;\">\n",
       "      <th></th>\n",
       "      <th>fit_time</th>\n",
       "      <th>score_time</th>\n",
       "      <th>test_accuracy</th>\n",
       "      <th>test_recall</th>\n",
       "      <th>test_precision</th>\n",
       "      <th>test_f1_score</th>\n",
       "    </tr>\n",
       "  </thead>\n",
       "  <tbody>\n",
       "    <tr>\n",
       "      <th>0</th>\n",
       "      <td>0.433223</td>\n",
       "      <td>0.007129</td>\n",
       "      <td>0.983240</td>\n",
       "      <td>0.878327</td>\n",
       "      <td>0.935223</td>\n",
       "      <td>0.905882</td>\n",
       "    </tr>\n",
       "    <tr>\n",
       "      <th>1</th>\n",
       "      <td>0.436506</td>\n",
       "      <td>0.006653</td>\n",
       "      <td>0.978003</td>\n",
       "      <td>0.851145</td>\n",
       "      <td>0.902834</td>\n",
       "      <td>0.876228</td>\n",
       "    </tr>\n",
       "    <tr>\n",
       "      <th>2</th>\n",
       "      <td>0.423644</td>\n",
       "      <td>0.006916</td>\n",
       "      <td>0.976955</td>\n",
       "      <td>0.835878</td>\n",
       "      <td>0.904959</td>\n",
       "      <td>0.869048</td>\n",
       "    </tr>\n",
       "    <tr>\n",
       "      <th>3</th>\n",
       "      <td>0.493274</td>\n",
       "      <td>0.006900</td>\n",
       "      <td>0.978344</td>\n",
       "      <td>0.812977</td>\n",
       "      <td>0.942478</td>\n",
       "      <td>0.872951</td>\n",
       "    </tr>\n",
       "    <tr>\n",
       "      <th>4</th>\n",
       "      <td>0.452393</td>\n",
       "      <td>0.006341</td>\n",
       "      <td>0.979392</td>\n",
       "      <td>0.862595</td>\n",
       "      <td>0.907631</td>\n",
       "      <td>0.884540</td>\n",
       "    </tr>\n",
       "    <tr>\n",
       "      <th>mean</th>\n",
       "      <td>0.447808</td>\n",
       "      <td>0.006788</td>\n",
       "      <td>0.979187</td>\n",
       "      <td>0.848184</td>\n",
       "      <td>0.918625</td>\n",
       "      <td>0.881730</td>\n",
       "    </tr>\n",
       "  </tbody>\n",
       "</table>\n",
       "</div>"
      ],
      "text/plain": [
       "      fit_time  score_time  test_accuracy  test_recall  test_precision  \\\n",
       "0     0.433223    0.007129       0.983240     0.878327        0.935223   \n",
       "1     0.436506    0.006653       0.978003     0.851145        0.902834   \n",
       "2     0.423644    0.006916       0.976955     0.835878        0.904959   \n",
       "3     0.493274    0.006900       0.978344     0.812977        0.942478   \n",
       "4     0.452393    0.006341       0.979392     0.862595        0.907631   \n",
       "mean  0.447808    0.006788       0.979187     0.848184        0.918625   \n",
       "\n",
       "      test_f1_score  \n",
       "0          0.905882  \n",
       "1          0.876228  \n",
       "2          0.869048  \n",
       "3          0.872951  \n",
       "4          0.884540  \n",
       "mean       0.881730  "
      ]
     },
     "execution_count": 56,
     "metadata": {},
     "output_type": "execute_result"
    }
   ],
   "source": [
    "# x_train1\n",
    "\n",
    "xgb_model = XGBClassifier(random_state=42)\n",
    "get_metrics(model=xgb_model, x_train=x_train1, y_train=y_train1)"
   ]
  },
  {
   "cell_type": "code",
   "execution_count": 57,
   "metadata": {},
   "outputs": [
    {
     "name": "stdout",
     "output_type": "stream",
     "text": [
      "훈련 정확도:  0.9923599646792337\n",
      "훈련 recall:  0.9987730061349693\n",
      "훈련 Precision:  0.9861437116680548\n",
      "훈련 F1-score:  0.992418181125462\n"
     ]
    },
    {
     "data": {
      "text/html": [
       "<div>\n",
       "<style scoped>\n",
       "    .dataframe tbody tr th:only-of-type {\n",
       "        vertical-align: middle;\n",
       "    }\n",
       "\n",
       "    .dataframe tbody tr th {\n",
       "        vertical-align: top;\n",
       "    }\n",
       "\n",
       "    .dataframe thead th {\n",
       "        text-align: right;\n",
       "    }\n",
       "</style>\n",
       "<table border=\"1\" class=\"dataframe\">\n",
       "  <thead>\n",
       "    <tr style=\"text-align: right;\">\n",
       "      <th></th>\n",
       "      <th>fit_time</th>\n",
       "      <th>score_time</th>\n",
       "      <th>test_accuracy</th>\n",
       "      <th>test_recall</th>\n",
       "      <th>test_precision</th>\n",
       "      <th>test_f1_score</th>\n",
       "    </tr>\n",
       "  </thead>\n",
       "  <tbody>\n",
       "    <tr>\n",
       "      <th>0</th>\n",
       "      <td>0.809069</td>\n",
       "      <td>0.008820</td>\n",
       "      <td>0.962764</td>\n",
       "      <td>0.973543</td>\n",
       "      <td>0.953078</td>\n",
       "      <td>0.963202</td>\n",
       "    </tr>\n",
       "    <tr>\n",
       "      <th>1</th>\n",
       "      <td>0.716761</td>\n",
       "      <td>0.008201</td>\n",
       "      <td>0.932821</td>\n",
       "      <td>0.912960</td>\n",
       "      <td>0.950879</td>\n",
       "      <td>0.931534</td>\n",
       "    </tr>\n",
       "    <tr>\n",
       "      <th>2</th>\n",
       "      <td>0.711860</td>\n",
       "      <td>0.008786</td>\n",
       "      <td>0.934728</td>\n",
       "      <td>0.907975</td>\n",
       "      <td>0.959481</td>\n",
       "      <td>0.933018</td>\n",
       "    </tr>\n",
       "    <tr>\n",
       "      <th>3</th>\n",
       "      <td>0.715259</td>\n",
       "      <td>0.008339</td>\n",
       "      <td>0.960069</td>\n",
       "      <td>0.962423</td>\n",
       "      <td>0.958015</td>\n",
       "      <td>0.960214</td>\n",
       "    </tr>\n",
       "    <tr>\n",
       "      <th>4</th>\n",
       "      <td>0.688872</td>\n",
       "      <td>0.008815</td>\n",
       "      <td>0.926665</td>\n",
       "      <td>0.893021</td>\n",
       "      <td>0.957648</td>\n",
       "      <td>0.924206</td>\n",
       "    </tr>\n",
       "    <tr>\n",
       "      <th>mean</th>\n",
       "      <td>0.728364</td>\n",
       "      <td>0.008592</td>\n",
       "      <td>0.943410</td>\n",
       "      <td>0.929985</td>\n",
       "      <td>0.955820</td>\n",
       "      <td>0.942435</td>\n",
       "    </tr>\n",
       "  </tbody>\n",
       "</table>\n",
       "</div>"
      ],
      "text/plain": [
       "      fit_time  score_time  test_accuracy  test_recall  test_precision  \\\n",
       "0     0.809069    0.008820       0.962764     0.973543        0.953078   \n",
       "1     0.716761    0.008201       0.932821     0.912960        0.950879   \n",
       "2     0.711860    0.008786       0.934728     0.907975        0.959481   \n",
       "3     0.715259    0.008339       0.960069     0.962423        0.958015   \n",
       "4     0.688872    0.008815       0.926665     0.893021        0.957648   \n",
       "mean  0.728364    0.008592       0.943410     0.929985        0.955820   \n",
       "\n",
       "      test_f1_score  \n",
       "0          0.963202  \n",
       "1          0.931534  \n",
       "2          0.933018  \n",
       "3          0.960214  \n",
       "4          0.924206  \n",
       "mean       0.942435  "
      ]
     },
     "execution_count": 57,
     "metadata": {},
     "output_type": "execute_result"
    }
   ],
   "source": [
    "# x_train2\n",
    "\n",
    "get_metrics(model=xgb_model, x_train=x_train2, y_train=y_train2)"
   ]
  },
  {
   "cell_type": "code",
   "execution_count": 58,
   "metadata": {},
   "outputs": [
    {
     "name": "stdout",
     "output_type": "stream",
     "text": [
      "훈련 정확도:  0.9979745774549518\n",
      "훈련 recall:  0.9794050343249427\n",
      "훈련 Precision:  0.9984447900466563\n",
      "훈련 F1-score:  0.9888332691567193\n"
     ]
    },
    {
     "data": {
      "text/html": [
       "<div>\n",
       "<style scoped>\n",
       "    .dataframe tbody tr th:only-of-type {\n",
       "        vertical-align: middle;\n",
       "    }\n",
       "\n",
       "    .dataframe tbody tr th {\n",
       "        vertical-align: top;\n",
       "    }\n",
       "\n",
       "    .dataframe thead th {\n",
       "        text-align: right;\n",
       "    }\n",
       "</style>\n",
       "<table border=\"1\" class=\"dataframe\">\n",
       "  <thead>\n",
       "    <tr style=\"text-align: right;\">\n",
       "      <th></th>\n",
       "      <th>fit_time</th>\n",
       "      <th>score_time</th>\n",
       "      <th>test_accuracy</th>\n",
       "      <th>test_recall</th>\n",
       "      <th>test_precision</th>\n",
       "      <th>test_f1_score</th>\n",
       "    </tr>\n",
       "  </thead>\n",
       "  <tbody>\n",
       "    <tr>\n",
       "      <th>0</th>\n",
       "      <td>0.443341</td>\n",
       "      <td>0.006385</td>\n",
       "      <td>0.983240</td>\n",
       "      <td>0.878327</td>\n",
       "      <td>0.935223</td>\n",
       "      <td>0.905882</td>\n",
       "    </tr>\n",
       "    <tr>\n",
       "      <th>1</th>\n",
       "      <td>0.452637</td>\n",
       "      <td>0.009092</td>\n",
       "      <td>0.978003</td>\n",
       "      <td>0.851145</td>\n",
       "      <td>0.902834</td>\n",
       "      <td>0.876228</td>\n",
       "    </tr>\n",
       "    <tr>\n",
       "      <th>2</th>\n",
       "      <td>0.474649</td>\n",
       "      <td>0.006999</td>\n",
       "      <td>0.976955</td>\n",
       "      <td>0.835878</td>\n",
       "      <td>0.904959</td>\n",
       "      <td>0.869048</td>\n",
       "    </tr>\n",
       "    <tr>\n",
       "      <th>3</th>\n",
       "      <td>0.446731</td>\n",
       "      <td>0.006966</td>\n",
       "      <td>0.978344</td>\n",
       "      <td>0.812977</td>\n",
       "      <td>0.942478</td>\n",
       "      <td>0.872951</td>\n",
       "    </tr>\n",
       "    <tr>\n",
       "      <th>4</th>\n",
       "      <td>0.421380</td>\n",
       "      <td>0.006494</td>\n",
       "      <td>0.979392</td>\n",
       "      <td>0.862595</td>\n",
       "      <td>0.907631</td>\n",
       "      <td>0.884540</td>\n",
       "    </tr>\n",
       "    <tr>\n",
       "      <th>mean</th>\n",
       "      <td>0.447748</td>\n",
       "      <td>0.007187</td>\n",
       "      <td>0.979187</td>\n",
       "      <td>0.848184</td>\n",
       "      <td>0.918625</td>\n",
       "      <td>0.881730</td>\n",
       "    </tr>\n",
       "  </tbody>\n",
       "</table>\n",
       "</div>"
      ],
      "text/plain": [
       "      fit_time  score_time  test_accuracy  test_recall  test_precision  \\\n",
       "0     0.443341    0.006385       0.983240     0.878327        0.935223   \n",
       "1     0.452637    0.009092       0.978003     0.851145        0.902834   \n",
       "2     0.474649    0.006999       0.976955     0.835878        0.904959   \n",
       "3     0.446731    0.006966       0.978344     0.812977        0.942478   \n",
       "4     0.421380    0.006494       0.979392     0.862595        0.907631   \n",
       "mean  0.447748    0.007187       0.979187     0.848184        0.918625   \n",
       "\n",
       "      test_f1_score  \n",
       "0          0.905882  \n",
       "1          0.876228  \n",
       "2          0.869048  \n",
       "3          0.872951  \n",
       "4          0.884540  \n",
       "mean       0.881730  "
      ]
     },
     "execution_count": 58,
     "metadata": {},
     "output_type": "execute_result"
    }
   ],
   "source": [
    "# x_train3\n",
    "\n",
    "get_metrics(model=xgb_model, x_train=x_train3, y_train=y_train3)"
   ]
  },
  {
   "cell_type": "code",
   "execution_count": 59,
   "metadata": {},
   "outputs": [
    {
     "name": "stdout",
     "output_type": "stream",
     "text": [
      "훈련 정확도:  0.9923599646792337\n",
      "훈련 recall:  0.9987730061349693\n",
      "훈련 Precision:  0.9861437116680548\n",
      "훈련 F1-score:  0.992418181125462\n"
     ]
    },
    {
     "data": {
      "text/html": [
       "<div>\n",
       "<style scoped>\n",
       "    .dataframe tbody tr th:only-of-type {\n",
       "        vertical-align: middle;\n",
       "    }\n",
       "\n",
       "    .dataframe tbody tr th {\n",
       "        vertical-align: top;\n",
       "    }\n",
       "\n",
       "    .dataframe thead th {\n",
       "        text-align: right;\n",
       "    }\n",
       "</style>\n",
       "<table border=\"1\" class=\"dataframe\">\n",
       "  <thead>\n",
       "    <tr style=\"text-align: right;\">\n",
       "      <th></th>\n",
       "      <th>fit_time</th>\n",
       "      <th>score_time</th>\n",
       "      <th>test_accuracy</th>\n",
       "      <th>test_recall</th>\n",
       "      <th>test_precision</th>\n",
       "      <th>test_f1_score</th>\n",
       "    </tr>\n",
       "  </thead>\n",
       "  <tbody>\n",
       "    <tr>\n",
       "      <th>0</th>\n",
       "      <td>0.737323</td>\n",
       "      <td>0.008672</td>\n",
       "      <td>0.962764</td>\n",
       "      <td>0.973543</td>\n",
       "      <td>0.953078</td>\n",
       "      <td>0.963202</td>\n",
       "    </tr>\n",
       "    <tr>\n",
       "      <th>1</th>\n",
       "      <td>0.720871</td>\n",
       "      <td>0.008131</td>\n",
       "      <td>0.932821</td>\n",
       "      <td>0.912960</td>\n",
       "      <td>0.950879</td>\n",
       "      <td>0.931534</td>\n",
       "    </tr>\n",
       "    <tr>\n",
       "      <th>2</th>\n",
       "      <td>0.703078</td>\n",
       "      <td>0.008778</td>\n",
       "      <td>0.934728</td>\n",
       "      <td>0.907975</td>\n",
       "      <td>0.959481</td>\n",
       "      <td>0.933018</td>\n",
       "    </tr>\n",
       "    <tr>\n",
       "      <th>3</th>\n",
       "      <td>0.714682</td>\n",
       "      <td>0.008406</td>\n",
       "      <td>0.960069</td>\n",
       "      <td>0.962423</td>\n",
       "      <td>0.958015</td>\n",
       "      <td>0.960214</td>\n",
       "    </tr>\n",
       "    <tr>\n",
       "      <th>4</th>\n",
       "      <td>0.734586</td>\n",
       "      <td>0.008716</td>\n",
       "      <td>0.926665</td>\n",
       "      <td>0.893021</td>\n",
       "      <td>0.957648</td>\n",
       "      <td>0.924206</td>\n",
       "    </tr>\n",
       "    <tr>\n",
       "      <th>mean</th>\n",
       "      <td>0.722108</td>\n",
       "      <td>0.008541</td>\n",
       "      <td>0.943410</td>\n",
       "      <td>0.929985</td>\n",
       "      <td>0.955820</td>\n",
       "      <td>0.942435</td>\n",
       "    </tr>\n",
       "  </tbody>\n",
       "</table>\n",
       "</div>"
      ],
      "text/plain": [
       "      fit_time  score_time  test_accuracy  test_recall  test_precision  \\\n",
       "0     0.737323    0.008672       0.962764     0.973543        0.953078   \n",
       "1     0.720871    0.008131       0.932821     0.912960        0.950879   \n",
       "2     0.703078    0.008778       0.934728     0.907975        0.959481   \n",
       "3     0.714682    0.008406       0.960069     0.962423        0.958015   \n",
       "4     0.734586    0.008716       0.926665     0.893021        0.957648   \n",
       "mean  0.722108    0.008541       0.943410     0.929985        0.955820   \n",
       "\n",
       "      test_f1_score  \n",
       "0          0.963202  \n",
       "1          0.931534  \n",
       "2          0.933018  \n",
       "3          0.960214  \n",
       "4          0.924206  \n",
       "mean       0.942435  "
      ]
     },
     "execution_count": 59,
     "metadata": {},
     "output_type": "execute_result"
    }
   ],
   "source": [
    "# x_train4\n",
    "\n",
    "get_metrics(model=xgb_model, x_train=x_train4, y_train=y_train4)"
   ]
  },
  {
   "cell_type": "markdown",
   "metadata": {},
   "source": [
    "### x_train4로 채택!!! 하이퍼파라미터 수정\n",
    "#### 참고자료\n",
    "https://xgboost.readthedocs.io/en/stable/parameter.html"
   ]
  },
  {
   "cell_type": "markdown",
   "metadata": {},
   "source": [
    "#### scale_pos_weight 설정하기\n",
    "sum(negative instances) / sum(positive instances)"
   ]
  },
  {
   "cell_type": "code",
   "execution_count": 47,
   "metadata": {},
   "outputs": [
    {
     "data": {
      "text/plain": [
       "1    13040\n",
       "0    13007\n",
       "Name: Class, dtype: int64"
      ]
     },
     "execution_count": 47,
     "metadata": {},
     "output_type": "execute_result"
    }
   ],
   "source": [
    "y_train4.value_counts()"
   ]
  },
  {
   "cell_type": "code",
   "execution_count": 48,
   "metadata": {},
   "outputs": [
    {
     "data": {
      "text/plain": [
       "1.0025370954101638"
      ]
     },
     "execution_count": 48,
     "metadata": {},
     "output_type": "execute_result"
    }
   ],
   "source": [
    "y_train4.value_counts()[1] / y_train4.value_counts()[0]"
   ]
  },
  {
   "cell_type": "code",
   "execution_count": 54,
   "metadata": {},
   "outputs": [
    {
     "name": "stdout",
     "output_type": "stream",
     "text": [
      "최적의 하이퍼파라미터:  {'eta': 0.4254442364744264, 'max_depth': 14, 'min_child_weight': 4, 'scale_pos_weight': 1.0025370954101638, 'subsample': 0.8324426408004217}\n",
      "최고 recall:  0.9365797546012269\n"
     ]
    }
   ],
   "source": [
    "from scipy.stats import randint, uniform\n",
    "from sklearn.model_selection import GridSearchCV, RandomizedSearchCV\n",
    "\n",
    "xgb_model = XGBClassifier(random_state=42)\n",
    "\n",
    "param_dist = {\n",
    "    'eta': uniform(0.1, 0.5),\n",
    "    'max_depth': randint(10, 20),\n",
    "    'min_child_weight': randint(3, 15),\n",
    "    'subsample': uniform(0, 1),\n",
    "    'scale_pos_weight':[1, 1.0025370954101638]\n",
    "}\n",
    "\n",
    "# 랜덤 서치 수행\n",
    "random_search = RandomizedSearchCV(\n",
    "    xgb_model, param_distributions=param_dist, n_iter=20, cv=5, scoring='recall', random_state=42\n",
    ")\n",
    "\n",
    "# 학습 데이터에 랜덤 서치 수행\n",
    "random_search.fit(x_train4, y_train4)\n",
    "\n",
    "# 최적의 하이퍼파라미터와 평가 지표 출력\n",
    "print(\"최적의 하이퍼파라미터: \", random_search.best_params_)\n",
    "print(\"최고 recall: \", random_search.best_score_)"
   ]
  },
  {
   "cell_type": "markdown",
   "metadata": {},
   "source": [
    "- 랜덤서치1<br>\n",
    "최적의 하이퍼파라미터:  {'eta': 0.31233911067827613, 'max_depth': 9, 'min_child_weight': 5, 'subsample': 0.6174815096277165}\n",
    "최고 recall:  0.924463190184049\n",
    "\n",
    "- 랜덤서치2<br>\n",
    "최적의 하이퍼파라미터:  {'eta': 0.22203823484477883, 'max_depth': 12, 'min_child_weight': 5, 'subsample': 0.9093204020787821}\n",
    "최고 recall:  0.934739263803681\n",
    "\n",
    "- 랜덤서치3<br>\n",
    "최적의 하이퍼파라미터:  {'eta': 0.31233911067827613, 'max_depth': 14, 'min_child_weight': 3, 'scale_pos_weight': 1.0025370954101638, 'subsample': 0.6116531604882809}\n",
    "최고 recall:  0.9355828220858896\n",
    "\n",
    "- 랜덤서치4<br>\n",
    "최적의 하이퍼파라미터:  {'eta': 0.4254442364744264, 'max_depth': 14, 'min_child_weight': 4, 'scale_pos_weight': 1.0025370954101638, 'subsample': 0.8324426408004217}\n",
    "최고 recall:  0.9365797546012269"
   ]
  },
  {
   "cell_type": "markdown",
   "metadata": {},
   "source": [
    "### 얼추 좁혀진거 같아 gridsearch 실행"
   ]
  },
  {
   "cell_type": "code",
   "execution_count": 115,
   "metadata": {},
   "outputs": [
    {
     "data": {
      "text/plain": [
       "array([0.71455783, 0.97758467, 0.96883675])"
      ]
     },
     "execution_count": 115,
     "metadata": {},
     "output_type": "execute_result"
    }
   ],
   "source": [
    "np.random.uniform(0.5, 1, size=3)"
   ]
  },
  {
   "cell_type": "code",
   "execution_count": 116,
   "metadata": {},
   "outputs": [
    {
     "name": "stdout",
     "output_type": "stream",
     "text": [
      "최적의 하이퍼파라미터: {'eta': 0.2745630943366134, 'max_depth': 15, 'min_child_weight': 2, 'subsample': 0.6503680200652304}\n",
      "최고 Recall: 0.9383435582822086\n"
     ]
    }
   ],
   "source": [
    "# scale_pos_weight는 공통적으로 사용하는게 랜덤서치에서 좋다고 나왔기에 기본으로 넣어줌\n",
    "xgb_model = XGBClassifier(random_state=42,\n",
    "                          scale_pos_weight=1.0025370954101638)\n",
    "\n",
    "# 하이퍼파라미터 후보들을 딕셔너리 형태로 정의\n",
    "param_grid = {\n",
    "    'eta': uniform(0.2, 0.5).rvs(size=5),\n",
    "    'max_depth': [10, 12, 13, 14, 15, 16],\n",
    "    'min_child_weight': [2, 3, 4, 5],\n",
    "    'subsample': np.random.uniform(0.5, 1, size=5)\n",
    "}\n",
    "\n",
    "# Recall을 사용하여 그리드 서치 수행\n",
    "grid_search = GridSearchCV(xgb_model, param_grid, cv=5, scoring='recall')\n",
    "\n",
    "# 학습 데이터에 그리드 서치 수행\n",
    "grid_search.fit(x_train4, y_train4)\n",
    "\n",
    "# 최적의 파라미터와 성능 확인\n",
    "print(\"최적의 하이퍼파라미터:\", grid_search.best_params_)\n",
    "print(\"최고 Recall:\", grid_search.best_score_)"
   ]
  },
  {
   "cell_type": "markdown",
   "metadata": {},
   "source": [
    "그리드 1번째<br>\n",
    "최적의 하이퍼파라미터: {'eta': 0.43068163499005674, 'max_depth': 13, 'min_child_weight': 4, 'subsample': 0.9230745887758103}\n",
    "최고 Recall: 0.9384202453987729\n",
    "\n",
    "그리드 2번째<br>\n",
    "최적의 하이퍼파라미터: {'eta': 0.40239289093045316, 'max_depth': 10, 'min_child_weight': 2, 'subsample': 0.9448253028438883}\n",
    "최고 Recall: 0.9375766871165643\n",
    "\n",
    "그리드 3번째<br>\n",
    "최적의 하이퍼파라미터: {'eta': 0.2532364497780402, 'max_depth': 15, 'min_child_weight': 2, 'subsample': 0.47041608426002957}\n",
    "최고 Recall: 0.9363496932515337\n",
    "\n",
    "그리드 4번째<br>\n",
    "최적의 하이퍼파라미터: {'eta': 0.34468504731034727, 'max_depth': 13, 'min_child_weight': 2, 'subsample': 0.6297275262414841}\n",
    "최고 Recall: 0.9366564417177914\n",
    "\n",
    "그리드 5번째<br>\n",
    "최적의 하이퍼파라미터: {'eta': 0.2745630943366134, 'max_depth': 15, 'min_child_weight': 2, 'subsample': 0.6503680200652304}\n",
    "최고 Recall: 0.9383435582822086"
   ]
  },
  {
   "cell_type": "markdown",
   "metadata": {},
   "source": [
    "### 1번째와 5번째 grid_search 실험!!!"
   ]
  },
  {
   "cell_type": "code",
   "execution_count": 122,
   "metadata": {},
   "outputs": [],
   "source": [
    "# 1번째\n",
    "\n",
    "xgb_model = XGBClassifier(random_state=42,\n",
    "                          scale_pos_weight=1.0025370954101638,\n",
    "                          max_depth=13,\n",
    "                          min_child_weight=4,\n",
    "                          subsample=0.9230745887758103,\n",
    "                          eta=0.43068163499005674)"
   ]
  },
  {
   "cell_type": "code",
   "execution_count": 123,
   "metadata": {},
   "outputs": [
    {
     "name": "stdout",
     "output_type": "stream",
     "text": [
      "훈련 정확도:  0.9997696471762583\n",
      "훈련 recall:  1.0\n",
      "훈련 Precision:  0.9995400889161429\n",
      "훈련 F1-score:  0.9997699915663574\n"
     ]
    },
    {
     "data": {
      "text/html": [
       "<div>\n",
       "<style scoped>\n",
       "    .dataframe tbody tr th:only-of-type {\n",
       "        vertical-align: middle;\n",
       "    }\n",
       "\n",
       "    .dataframe tbody tr th {\n",
       "        vertical-align: top;\n",
       "    }\n",
       "\n",
       "    .dataframe thead th {\n",
       "        text-align: right;\n",
       "    }\n",
       "</style>\n",
       "<table border=\"1\" class=\"dataframe\">\n",
       "  <thead>\n",
       "    <tr style=\"text-align: right;\">\n",
       "      <th></th>\n",
       "      <th>fit_time</th>\n",
       "      <th>score_time</th>\n",
       "      <th>test_accuracy</th>\n",
       "      <th>test_recall</th>\n",
       "      <th>test_precision</th>\n",
       "      <th>test_f1_score</th>\n",
       "    </tr>\n",
       "  </thead>\n",
       "  <tbody>\n",
       "    <tr>\n",
       "      <th>0</th>\n",
       "      <td>1.332876</td>\n",
       "      <td>0.011478</td>\n",
       "      <td>0.966219</td>\n",
       "      <td>0.971626</td>\n",
       "      <td>0.961305</td>\n",
       "      <td>0.966438</td>\n",
       "    </tr>\n",
       "    <tr>\n",
       "      <th>1</th>\n",
       "      <td>1.270952</td>\n",
       "      <td>0.011933</td>\n",
       "      <td>0.941075</td>\n",
       "      <td>0.920245</td>\n",
       "      <td>0.960384</td>\n",
       "      <td>0.939886</td>\n",
       "    </tr>\n",
       "    <tr>\n",
       "      <th>2</th>\n",
       "      <td>1.270099</td>\n",
       "      <td>0.012422</td>\n",
       "      <td>0.941831</td>\n",
       "      <td>0.922929</td>\n",
       "      <td>0.959346</td>\n",
       "      <td>0.940786</td>\n",
       "    </tr>\n",
       "    <tr>\n",
       "      <th>3</th>\n",
       "      <td>1.246727</td>\n",
       "      <td>0.010891</td>\n",
       "      <td>0.965636</td>\n",
       "      <td>0.968558</td>\n",
       "      <td>0.963019</td>\n",
       "      <td>0.965781</td>\n",
       "    </tr>\n",
       "    <tr>\n",
       "      <th>4</th>\n",
       "      <td>1.249036</td>\n",
       "      <td>0.010507</td>\n",
       "      <td>0.936648</td>\n",
       "      <td>0.908742</td>\n",
       "      <td>0.962632</td>\n",
       "      <td>0.934911</td>\n",
       "    </tr>\n",
       "    <tr>\n",
       "      <th>mean</th>\n",
       "      <td>1.273938</td>\n",
       "      <td>0.011446</td>\n",
       "      <td>0.950282</td>\n",
       "      <td>0.938420</td>\n",
       "      <td>0.961337</td>\n",
       "      <td>0.949560</td>\n",
       "    </tr>\n",
       "  </tbody>\n",
       "</table>\n",
       "</div>"
      ],
      "text/plain": [
       "      fit_time  score_time  test_accuracy  test_recall  test_precision  \\\n",
       "0     1.332876    0.011478       0.966219     0.971626        0.961305   \n",
       "1     1.270952    0.011933       0.941075     0.920245        0.960384   \n",
       "2     1.270099    0.012422       0.941831     0.922929        0.959346   \n",
       "3     1.246727    0.010891       0.965636     0.968558        0.963019   \n",
       "4     1.249036    0.010507       0.936648     0.908742        0.962632   \n",
       "mean  1.273938    0.011446       0.950282     0.938420        0.961337   \n",
       "\n",
       "      test_f1_score  \n",
       "0          0.966438  \n",
       "1          0.939886  \n",
       "2          0.940786  \n",
       "3          0.965781  \n",
       "4          0.934911  \n",
       "mean       0.949560  "
      ]
     },
     "execution_count": 123,
     "metadata": {},
     "output_type": "execute_result"
    }
   ],
   "source": [
    "get_metrics(model=xgb_model, x_train=x_train4, y_train=y_train4)"
   ]
  },
  {
   "cell_type": "code",
   "execution_count": 156,
   "metadata": {},
   "outputs": [],
   "source": [
    "# 5번째\n",
    "\n",
    "xgb_model = XGBClassifier(random_state=42,\n",
    "                          scale_pos_weight=1.0025370954101638,\n",
    "                          max_depth=15,\n",
    "                          min_child_weight=2,\n",
    "                          subsample=0.6503680200652304,\n",
    "                          eta=0.2745630943366134,\n",
    "                          )"
   ]
  },
  {
   "cell_type": "code",
   "execution_count": 157,
   "metadata": {},
   "outputs": [
    {
     "name": "stdout",
     "output_type": "stream",
     "text": [
      "훈련 정확도:  0.9998464314508388\n",
      "훈련 recall:  1.0\n",
      "훈련 Precision:  0.9996933455995094\n",
      "훈련 F1-score:  0.9998466492869192\n"
     ]
    },
    {
     "data": {
      "text/html": [
       "<div>\n",
       "<style scoped>\n",
       "    .dataframe tbody tr th:only-of-type {\n",
       "        vertical-align: middle;\n",
       "    }\n",
       "\n",
       "    .dataframe tbody tr th {\n",
       "        vertical-align: top;\n",
       "    }\n",
       "\n",
       "    .dataframe thead th {\n",
       "        text-align: right;\n",
       "    }\n",
       "</style>\n",
       "<table border=\"1\" class=\"dataframe\">\n",
       "  <thead>\n",
       "    <tr style=\"text-align: right;\">\n",
       "      <th></th>\n",
       "      <th>fit_time</th>\n",
       "      <th>score_time</th>\n",
       "      <th>test_accuracy</th>\n",
       "      <th>test_recall</th>\n",
       "      <th>test_precision</th>\n",
       "      <th>test_f1_score</th>\n",
       "    </tr>\n",
       "  </thead>\n",
       "  <tbody>\n",
       "    <tr>\n",
       "      <th>0</th>\n",
       "      <td>1.374365</td>\n",
       "      <td>0.011057</td>\n",
       "      <td>0.969674</td>\n",
       "      <td>0.975077</td>\n",
       "      <td>0.964719</td>\n",
       "      <td>0.969870</td>\n",
       "    </tr>\n",
       "    <tr>\n",
       "      <th>1</th>\n",
       "      <td>1.380245</td>\n",
       "      <td>0.010685</td>\n",
       "      <td>0.940883</td>\n",
       "      <td>0.919095</td>\n",
       "      <td>0.961107</td>\n",
       "      <td>0.939632</td>\n",
       "    </tr>\n",
       "    <tr>\n",
       "      <th>2</th>\n",
       "      <td>1.318626</td>\n",
       "      <td>0.012166</td>\n",
       "      <td>0.943367</td>\n",
       "      <td>0.923313</td>\n",
       "      <td>0.962046</td>\n",
       "      <td>0.942281</td>\n",
       "    </tr>\n",
       "    <tr>\n",
       "      <th>3</th>\n",
       "      <td>1.372126</td>\n",
       "      <td>0.011727</td>\n",
       "      <td>0.963333</td>\n",
       "      <td>0.963574</td>\n",
       "      <td>0.963204</td>\n",
       "      <td>0.963389</td>\n",
       "    </tr>\n",
       "    <tr>\n",
       "      <th>4</th>\n",
       "      <td>1.333764</td>\n",
       "      <td>0.010791</td>\n",
       "      <td>0.938568</td>\n",
       "      <td>0.910660</td>\n",
       "      <td>0.964663</td>\n",
       "      <td>0.936884</td>\n",
       "    </tr>\n",
       "    <tr>\n",
       "      <th>mean</th>\n",
       "      <td>1.355825</td>\n",
       "      <td>0.011285</td>\n",
       "      <td>0.951165</td>\n",
       "      <td>0.938344</td>\n",
       "      <td>0.963148</td>\n",
       "      <td>0.950411</td>\n",
       "    </tr>\n",
       "  </tbody>\n",
       "</table>\n",
       "</div>"
      ],
      "text/plain": [
       "      fit_time  score_time  test_accuracy  test_recall  test_precision  \\\n",
       "0     1.374365    0.011057       0.969674     0.975077        0.964719   \n",
       "1     1.380245    0.010685       0.940883     0.919095        0.961107   \n",
       "2     1.318626    0.012166       0.943367     0.923313        0.962046   \n",
       "3     1.372126    0.011727       0.963333     0.963574        0.963204   \n",
       "4     1.333764    0.010791       0.938568     0.910660        0.964663   \n",
       "mean  1.355825    0.011285       0.951165     0.938344        0.963148   \n",
       "\n",
       "      test_f1_score  \n",
       "0          0.969870  \n",
       "1          0.939632  \n",
       "2          0.942281  \n",
       "3          0.963389  \n",
       "4          0.936884  \n",
       "mean       0.950411  "
      ]
     },
     "execution_count": 157,
     "metadata": {},
     "output_type": "execute_result"
    }
   ],
   "source": [
    "get_metrics(model=xgb_model, x_train=x_train4, y_train=y_train4)"
   ]
  },
  {
   "cell_type": "markdown",
   "metadata": {},
   "source": [
    "### 둘다 성능이 뛰어나지만 recall이 아주 조금 떨어지고 전체적으로 성능이 조금더 뛰어난 5번째로 채택!!!"
   ]
  },
  {
   "cell_type": "code",
   "execution_count": 180,
   "metadata": {},
   "outputs": [
    {
     "data": {
      "text/html": [
       "<style>#sk-container-id-8 {color: black;background-color: white;}#sk-container-id-8 pre{padding: 0;}#sk-container-id-8 div.sk-toggleable {background-color: white;}#sk-container-id-8 label.sk-toggleable__label {cursor: pointer;display: block;width: 100%;margin-bottom: 0;padding: 0.3em;box-sizing: border-box;text-align: center;}#sk-container-id-8 label.sk-toggleable__label-arrow:before {content: \"▸\";float: left;margin-right: 0.25em;color: #696969;}#sk-container-id-8 label.sk-toggleable__label-arrow:hover:before {color: black;}#sk-container-id-8 div.sk-estimator:hover label.sk-toggleable__label-arrow:before {color: black;}#sk-container-id-8 div.sk-toggleable__content {max-height: 0;max-width: 0;overflow: hidden;text-align: left;background-color: #f0f8ff;}#sk-container-id-8 div.sk-toggleable__content pre {margin: 0.2em;color: black;border-radius: 0.25em;background-color: #f0f8ff;}#sk-container-id-8 input.sk-toggleable__control:checked~div.sk-toggleable__content {max-height: 200px;max-width: 100%;overflow: auto;}#sk-container-id-8 input.sk-toggleable__control:checked~label.sk-toggleable__label-arrow:before {content: \"▾\";}#sk-container-id-8 div.sk-estimator input.sk-toggleable__control:checked~label.sk-toggleable__label {background-color: #d4ebff;}#sk-container-id-8 div.sk-label input.sk-toggleable__control:checked~label.sk-toggleable__label {background-color: #d4ebff;}#sk-container-id-8 input.sk-hidden--visually {border: 0;clip: rect(1px 1px 1px 1px);clip: rect(1px, 1px, 1px, 1px);height: 1px;margin: -1px;overflow: hidden;padding: 0;position: absolute;width: 1px;}#sk-container-id-8 div.sk-estimator {font-family: monospace;background-color: #f0f8ff;border: 1px dotted black;border-radius: 0.25em;box-sizing: border-box;margin-bottom: 0.5em;}#sk-container-id-8 div.sk-estimator:hover {background-color: #d4ebff;}#sk-container-id-8 div.sk-parallel-item::after {content: \"\";width: 100%;border-bottom: 1px solid gray;flex-grow: 1;}#sk-container-id-8 div.sk-label:hover label.sk-toggleable__label {background-color: #d4ebff;}#sk-container-id-8 div.sk-serial::before {content: \"\";position: absolute;border-left: 1px solid gray;box-sizing: border-box;top: 0;bottom: 0;left: 50%;z-index: 0;}#sk-container-id-8 div.sk-serial {display: flex;flex-direction: column;align-items: center;background-color: white;padding-right: 0.2em;padding-left: 0.2em;position: relative;}#sk-container-id-8 div.sk-item {position: relative;z-index: 1;}#sk-container-id-8 div.sk-parallel {display: flex;align-items: stretch;justify-content: center;background-color: white;position: relative;}#sk-container-id-8 div.sk-item::before, #sk-container-id-8 div.sk-parallel-item::before {content: \"\";position: absolute;border-left: 1px solid gray;box-sizing: border-box;top: 0;bottom: 0;left: 50%;z-index: -1;}#sk-container-id-8 div.sk-parallel-item {display: flex;flex-direction: column;z-index: 1;position: relative;background-color: white;}#sk-container-id-8 div.sk-parallel-item:first-child::after {align-self: flex-end;width: 50%;}#sk-container-id-8 div.sk-parallel-item:last-child::after {align-self: flex-start;width: 50%;}#sk-container-id-8 div.sk-parallel-item:only-child::after {width: 0;}#sk-container-id-8 div.sk-dashed-wrapped {border: 1px dashed gray;margin: 0 0.4em 0.5em 0.4em;box-sizing: border-box;padding-bottom: 0.4em;background-color: white;}#sk-container-id-8 div.sk-label label {font-family: monospace;font-weight: bold;display: inline-block;line-height: 1.2em;}#sk-container-id-8 div.sk-label-container {text-align: center;}#sk-container-id-8 div.sk-container {/* jupyter's `normalize.less` sets `[hidden] { display: none; }` but bootstrap.min.css set `[hidden] { display: none !important; }` so we also need the `!important` here to be able to override the default hidden behavior on the sphinx rendered scikit-learn.org. See: https://github.com/scikit-learn/scikit-learn/issues/21755 */display: inline-block !important;position: relative;}#sk-container-id-8 div.sk-text-repr-fallback {display: none;}</style><div id=\"sk-container-id-8\" class=\"sk-top-container\"><div class=\"sk-text-repr-fallback\"><pre>XGBClassifier(base_score=0.5, booster=&#x27;gbtree&#x27;, callbacks=None,\n",
       "              colsample_bylevel=1, colsample_bynode=1, colsample_bytree=1,\n",
       "              early_stopping_rounds=None, enable_categorical=False,\n",
       "              eta=0.2745630943366134, eval_metric=None, feature_types=None,\n",
       "              gamma=0, gpu_id=-1, grow_policy=&#x27;depthwise&#x27;, importance_type=None,\n",
       "              interaction_constraints=&#x27;&#x27;, learning_rate=0.274563104,\n",
       "              max_bin=256, max_cat_threshold=64, max_cat_to_onehot=4,\n",
       "              max_delta_step=0, max_depth=15, max_leaves=0, min_child_weight=2,\n",
       "              missing=nan, monotone_constraints=&#x27;()&#x27;, n_estimators=100,\n",
       "              n_jobs=0, num_parallel_tree=1, predictor=&#x27;auto&#x27;, ...)</pre><b>In a Jupyter environment, please rerun this cell to show the HTML representation or trust the notebook. <br />On GitHub, the HTML representation is unable to render, please try loading this page with nbviewer.org.</b></div><div class=\"sk-container\" hidden><div class=\"sk-item\"><div class=\"sk-estimator sk-toggleable\"><input class=\"sk-toggleable__control sk-hidden--visually\" id=\"sk-estimator-id-8\" type=\"checkbox\" checked><label for=\"sk-estimator-id-8\" class=\"sk-toggleable__label sk-toggleable__label-arrow\">XGBClassifier</label><div class=\"sk-toggleable__content\"><pre>XGBClassifier(base_score=0.5, booster=&#x27;gbtree&#x27;, callbacks=None,\n",
       "              colsample_bylevel=1, colsample_bynode=1, colsample_bytree=1,\n",
       "              early_stopping_rounds=None, enable_categorical=False,\n",
       "              eta=0.2745630943366134, eval_metric=None, feature_types=None,\n",
       "              gamma=0, gpu_id=-1, grow_policy=&#x27;depthwise&#x27;, importance_type=None,\n",
       "              interaction_constraints=&#x27;&#x27;, learning_rate=0.274563104,\n",
       "              max_bin=256, max_cat_threshold=64, max_cat_to_onehot=4,\n",
       "              max_delta_step=0, max_depth=15, max_leaves=0, min_child_weight=2,\n",
       "              missing=nan, monotone_constraints=&#x27;()&#x27;, n_estimators=100,\n",
       "              n_jobs=0, num_parallel_tree=1, predictor=&#x27;auto&#x27;, ...)</pre></div></div></div></div></div>"
      ],
      "text/plain": [
       "XGBClassifier(base_score=0.5, booster='gbtree', callbacks=None,\n",
       "              colsample_bylevel=1, colsample_bynode=1, colsample_bytree=1,\n",
       "              early_stopping_rounds=None, enable_categorical=False,\n",
       "              eta=0.2745630943366134, eval_metric=None, feature_types=None,\n",
       "              gamma=0, gpu_id=-1, grow_policy='depthwise', importance_type=None,\n",
       "              interaction_constraints='', learning_rate=0.274563104,\n",
       "              max_bin=256, max_cat_threshold=64, max_cat_to_onehot=4,\n",
       "              max_delta_step=0, max_depth=15, max_leaves=0, min_child_weight=2,\n",
       "              missing=nan, monotone_constraints='()', n_estimators=100,\n",
       "              n_jobs=0, num_parallel_tree=1, predictor='auto', ...)"
      ]
     },
     "execution_count": 180,
     "metadata": {},
     "output_type": "execute_result"
    }
   ],
   "source": [
    "xgb_model_final = XGBClassifier(\n",
    "                          scale_pos_weight=1.0025370954101638,\n",
    "                          max_depth=15,\n",
    "                          min_child_weight=2,\n",
    "                          subsample=0.6503680200652304,\n",
    "                          eta=0.2745630943366134,\n",
    "                          )\n",
    "xgb_model_final.fit(x_train4, y_train4)"
   ]
  },
  {
   "cell_type": "code",
   "execution_count": 181,
   "metadata": {},
   "outputs": [
    {
     "name": "stdout",
     "output_type": "stream",
     "text": [
      "테스트 정확도:  0.9561452513966481\n",
      "테스트 recall:  0.9054878048780488\n",
      "테스트 Precision:  0.7021276595744681\n",
      "테스트 F1-score:  0.7909454061251665\n"
     ]
    }
   ],
   "source": [
    "y_test_pred = xgb_model_final.predict(x_test4)\n",
    "print(\"테스트 정확도: \", accuracy_score(y_test4, y_test_pred))\n",
    "print(\"테스트 recall: \", recall_score(y_test4, y_test_pred))\n",
    "print(\"테스트 Precision: \", precision_score(y_test4, y_test_pred))\n",
    "print(\"테스트 F1-score: \", f1_score(y_test4, y_test_pred))"
   ]
  },
  {
   "cell_type": "markdown",
   "metadata": {},
   "source": [
    "### xgboost pickling"
   ]
  },
  {
   "cell_type": "code",
   "execution_count": 182,
   "metadata": {},
   "outputs": [],
   "source": [
    "import pickle\n",
    "\n",
    "# 모델 피클링 (저장)\n",
    "with open('xgb_model_final.pkl', 'wb') as file:\n",
    "    pickle.dump(xgb_model_final, file)"
   ]
  },
  {
   "cell_type": "markdown",
   "metadata": {},
   "source": [
    "### xgboost matrix 확인!!"
   ]
  },
  {
   "cell_type": "code",
   "execution_count": 183,
   "metadata": {},
   "outputs": [
    {
     "data": {
      "image/png": "[encoded data removed]",
      "text/plain": [
       "<Figure size 500x300 with 1 Axes>"
      ]
     },
     "metadata": {},
     "output_type": "display_data"
    }
   ],
   "source": [
    "from sklearn.metrics import confusion_matrix\n",
    "\n",
    "plt.figure(figsize = (5, 3))\n",
    "sns.heatmap(confusion_matrix(y_test4, y_test_pred), cmap = 'Blues',\n",
    "            cbar = False, annot = True, annot_kws = {'size' : 15},\n",
    "            fmt = '.0f', xticklabels = ['0(No)', '1(Yes)'], yticklabels = ['0(No)', '1(Yes)'],\n",
    "            linecolor = 'k', linewidths = 0.8)\n",
    "plt.xlabel('Predicted')\n",
    "plt.ylabel('Actual')\n",
    "plt.show()"
   ]
  },
  {
   "cell_type": "code",
   "execution_count": 262,
   "metadata": {},
   "outputs": [
    {
     "data": {
      "text/html": [
       "<div>\n",
       "<style scoped>\n",
       "    .dataframe tbody tr th:only-of-type {\n",
       "        vertical-align: middle;\n",
       "    }\n",
       "\n",
       "    .dataframe tbody tr th {\n",
       "        vertical-align: top;\n",
       "    }\n",
       "\n",
       "    .dataframe thead th {\n",
       "        text-align: right;\n",
       "    }\n",
       "</style>\n",
       "<table border=\"1\" class=\"dataframe\">\n",
       "  <thead>\n",
       "    <tr style=\"text-align: right;\">\n",
       "      <th></th>\n",
       "      <th>Test Accuracy</th>\n",
       "      <th>Test Precision</th>\n",
       "      <th>Test Recall</th>\n",
       "      <th>Test F1</th>\n",
       "    </tr>\n",
       "    <tr>\n",
       "      <th>Model</th>\n",
       "      <th></th>\n",
       "      <th></th>\n",
       "      <th></th>\n",
       "      <th></th>\n",
       "    </tr>\n",
       "  </thead>\n",
       "  <tbody>\n",
       "    <tr>\n",
       "      <th>base</th>\n",
       "      <td>0.98</td>\n",
       "      <td>0.93</td>\n",
       "      <td>0.79</td>\n",
       "      <td>0.85</td>\n",
       "    </tr>\n",
       "    <tr>\n",
       "      <th>xgb_test</th>\n",
       "      <td>0.96</td>\n",
       "      <td>0.71</td>\n",
       "      <td>0.90</td>\n",
       "      <td>0.80</td>\n",
       "    </tr>\n",
       "  </tbody>\n",
       "</table>\n",
       "</div>"
      ],
      "text/plain": [
       "          Test Accuracy  Test Precision  Test Recall  Test F1\n",
       "Model                                                        \n",
       "base               0.98            0.93         0.79     0.85\n",
       "xgb_test           0.96            0.71         0.90     0.80"
      ]
     },
     "execution_count": 262,
     "metadata": {},
     "output_type": "execute_result"
    }
   ],
   "source": [
    "base_metrics = {\n",
    "    'Test Accuracy': 0.98,\n",
    "    'Test Precision': 0.93,\n",
    "    'Test Recall': 0.79,\n",
    "    'Test F1': 0.85\n",
    "}\n",
    "\n",
    "xgb_test_metrics = {\n",
    "    'Test Accuracy': round(xgb_model_final.score(x_test4, y_test4), 2),\n",
    "    'Test Precision': round(precision_score(y_test4, y_test_pred), 2),\n",
    "    'Test Recall': round(recall_score(y_test4, y_test_pred), 2),\n",
    "    'Test F1': round(f1_score(y_test4, y_test_pred), 2)\n",
    "}\n",
    "\n",
    "base_df = pd.DataFrame([base_metrics])\n",
    "xgb_test_df = pd.DataFrame([xgb_test_metrics])\n",
    "\n",
    "base_df['Model'] = 'base'\n",
    "xgb_test_df['Model'] = 'xgb_test'\n",
    "\n",
    "base_df.set_index('Model', inplace=True)\n",
    "xgb_test_df.set_index('Model', inplace=True)\n",
    "\n",
    "xgb_result_df = pd.concat([base_df, xgb_test_df])\n",
    "\n",
    "xgb_result_df"
   ]
  },
  {
   "cell_type": "markdown",
   "metadata": {},
   "source": [
    "## SVM start!!!\n",
    "#### 참고자료\n",
    "https://scikit-learn.org/stable/modules/generated/sklearn.svm.SVC.html"
   ]
  },
  {
   "cell_type": "code",
   "execution_count": 185,
   "metadata": {},
   "outputs": [],
   "source": [
    "from sklearn.svm import SVC"
   ]
  },
  {
   "cell_type": "code",
   "execution_count": 194,
   "metadata": {},
   "outputs": [
    {
     "name": "stdout",
     "output_type": "stream",
     "text": [
      "훈련 정확도:  0.9795362480793407\n",
      "훈련 recall:  0.8299008390541571\n",
      "훈련 Precision:  0.9395509499136442\n",
      "훈련 F1-score:  0.8813284730660186\n"
     ]
    },
    {
     "data": {
      "text/html": [
       "<div>\n",
       "<style scoped>\n",
       "    .dataframe tbody tr th:only-of-type {\n",
       "        vertical-align: middle;\n",
       "    }\n",
       "\n",
       "    .dataframe tbody tr th {\n",
       "        vertical-align: top;\n",
       "    }\n",
       "\n",
       "    .dataframe thead th {\n",
       "        text-align: right;\n",
       "    }\n",
       "</style>\n",
       "<table border=\"1\" class=\"dataframe\">\n",
       "  <thead>\n",
       "    <tr style=\"text-align: right;\">\n",
       "      <th></th>\n",
       "      <th>fit_time</th>\n",
       "      <th>score_time</th>\n",
       "      <th>test_accuracy</th>\n",
       "      <th>test_recall</th>\n",
       "      <th>test_precision</th>\n",
       "      <th>test_f1_score</th>\n",
       "    </tr>\n",
       "  </thead>\n",
       "  <tbody>\n",
       "    <tr>\n",
       "      <th>0</th>\n",
       "      <td>0.404438</td>\n",
       "      <td>0.204538</td>\n",
       "      <td>0.981494</td>\n",
       "      <td>0.847909</td>\n",
       "      <td>0.944915</td>\n",
       "      <td>0.893788</td>\n",
       "    </tr>\n",
       "    <tr>\n",
       "      <th>1</th>\n",
       "      <td>0.379573</td>\n",
       "      <td>0.195475</td>\n",
       "      <td>0.977304</td>\n",
       "      <td>0.820611</td>\n",
       "      <td>0.922747</td>\n",
       "      <td>0.868687</td>\n",
       "    </tr>\n",
       "    <tr>\n",
       "      <th>2</th>\n",
       "      <td>0.383675</td>\n",
       "      <td>0.196222</td>\n",
       "      <td>0.978701</td>\n",
       "      <td>0.809160</td>\n",
       "      <td>0.950673</td>\n",
       "      <td>0.874227</td>\n",
       "    </tr>\n",
       "    <tr>\n",
       "      <th>3</th>\n",
       "      <td>0.374344</td>\n",
       "      <td>0.193501</td>\n",
       "      <td>0.977995</td>\n",
       "      <td>0.805344</td>\n",
       "      <td>0.946188</td>\n",
       "      <td>0.870103</td>\n",
       "    </tr>\n",
       "    <tr>\n",
       "      <th>4</th>\n",
       "      <td>0.379670</td>\n",
       "      <td>0.194503</td>\n",
       "      <td>0.977995</td>\n",
       "      <td>0.824427</td>\n",
       "      <td>0.927039</td>\n",
       "      <td>0.872727</td>\n",
       "    </tr>\n",
       "    <tr>\n",
       "      <th>mean</th>\n",
       "      <td>0.384340</td>\n",
       "      <td>0.196848</td>\n",
       "      <td>0.978698</td>\n",
       "      <td>0.821490</td>\n",
       "      <td>0.938312</td>\n",
       "      <td>0.875906</td>\n",
       "    </tr>\n",
       "  </tbody>\n",
       "</table>\n",
       "</div>"
      ],
      "text/plain": [
       "      fit_time  score_time  test_accuracy  test_recall  test_precision  \\\n",
       "0     0.404438    0.204538       0.981494     0.847909        0.944915   \n",
       "1     0.379573    0.195475       0.977304     0.820611        0.922747   \n",
       "2     0.383675    0.196222       0.978701     0.809160        0.950673   \n",
       "3     0.374344    0.193501       0.977995     0.805344        0.946188   \n",
       "4     0.379670    0.194503       0.977995     0.824427        0.927039   \n",
       "mean  0.384340    0.196848       0.978698     0.821490        0.938312   \n",
       "\n",
       "      test_f1_score  \n",
       "0          0.893788  \n",
       "1          0.868687  \n",
       "2          0.874227  \n",
       "3          0.870103  \n",
       "4          0.872727  \n",
       "mean       0.875906  "
      ]
     },
     "execution_count": 194,
     "metadata": {},
     "output_type": "execute_result"
    }
   ],
   "source": [
    "# x_train1\n",
    "\n",
    "svm_model = SVC(random_state=42)\n",
    "get_metrics(model=svm_model, x_train=x_train1, y_train=y_train1)"
   ]
  },
  {
   "cell_type": "code",
   "execution_count": 195,
   "metadata": {},
   "outputs": [
    {
     "name": "stdout",
     "output_type": "stream",
     "text": [
      "훈련 정확도:  0.8849003724037318\n",
      "훈련 recall:  0.8506134969325153\n",
      "훈련 Precision:  0.9135233075275901\n",
      "훈련 F1-score:  0.8809467079660075\n"
     ]
    },
    {
     "data": {
      "text/html": [
       "<div>\n",
       "<style scoped>\n",
       "    .dataframe tbody tr th:only-of-type {\n",
       "        vertical-align: middle;\n",
       "    }\n",
       "\n",
       "    .dataframe tbody tr th {\n",
       "        vertical-align: top;\n",
       "    }\n",
       "\n",
       "    .dataframe thead th {\n",
       "        text-align: right;\n",
       "    }\n",
       "</style>\n",
       "<table border=\"1\" class=\"dataframe\">\n",
       "  <thead>\n",
       "    <tr style=\"text-align: right;\">\n",
       "      <th></th>\n",
       "      <th>fit_time</th>\n",
       "      <th>score_time</th>\n",
       "      <th>test_accuracy</th>\n",
       "      <th>test_recall</th>\n",
       "      <th>test_precision</th>\n",
       "      <th>test_f1_score</th>\n",
       "    </tr>\n",
       "  </thead>\n",
       "  <tbody>\n",
       "    <tr>\n",
       "      <th>0</th>\n",
       "      <td>7.072067</td>\n",
       "      <td>3.450258</td>\n",
       "      <td>0.885029</td>\n",
       "      <td>0.868098</td>\n",
       "      <td>0.898769</td>\n",
       "      <td>0.883168</td>\n",
       "    </tr>\n",
       "    <tr>\n",
       "      <th>1</th>\n",
       "      <td>6.665959</td>\n",
       "      <td>3.194055</td>\n",
       "      <td>0.857006</td>\n",
       "      <td>0.786810</td>\n",
       "      <td>0.915663</td>\n",
       "      <td>0.846360</td>\n",
       "    </tr>\n",
       "    <tr>\n",
       "      <th>2</th>\n",
       "      <td>6.469014</td>\n",
       "      <td>3.179439</td>\n",
       "      <td>0.860626</td>\n",
       "      <td>0.795629</td>\n",
       "      <td>0.914903</td>\n",
       "      <td>0.851107</td>\n",
       "    </tr>\n",
       "    <tr>\n",
       "      <th>3</th>\n",
       "      <td>6.837163</td>\n",
       "      <td>3.369539</td>\n",
       "      <td>0.899981</td>\n",
       "      <td>0.883052</td>\n",
       "      <td>0.914252</td>\n",
       "      <td>0.898381</td>\n",
       "    </tr>\n",
       "    <tr>\n",
       "      <th>4</th>\n",
       "      <td>6.513832</td>\n",
       "      <td>3.206488</td>\n",
       "      <td>0.856786</td>\n",
       "      <td>0.788727</td>\n",
       "      <td>0.913410</td>\n",
       "      <td>0.846502</td>\n",
       "    </tr>\n",
       "    <tr>\n",
       "      <th>mean</th>\n",
       "      <td>6.711607</td>\n",
       "      <td>3.279956</td>\n",
       "      <td>0.871886</td>\n",
       "      <td>0.824463</td>\n",
       "      <td>0.911399</td>\n",
       "      <td>0.865104</td>\n",
       "    </tr>\n",
       "  </tbody>\n",
       "</table>\n",
       "</div>"
      ],
      "text/plain": [
       "      fit_time  score_time  test_accuracy  test_recall  test_precision  \\\n",
       "0     7.072067    3.450258       0.885029     0.868098        0.898769   \n",
       "1     6.665959    3.194055       0.857006     0.786810        0.915663   \n",
       "2     6.469014    3.179439       0.860626     0.795629        0.914903   \n",
       "3     6.837163    3.369539       0.899981     0.883052        0.914252   \n",
       "4     6.513832    3.206488       0.856786     0.788727        0.913410   \n",
       "mean  6.711607    3.279956       0.871886     0.824463        0.911399   \n",
       "\n",
       "      test_f1_score  \n",
       "0          0.883168  \n",
       "1          0.846360  \n",
       "2          0.851107  \n",
       "3          0.898381  \n",
       "4          0.846502  \n",
       "mean       0.865104  "
      ]
     },
     "execution_count": 195,
     "metadata": {},
     "output_type": "execute_result"
    }
   ],
   "source": [
    "# x_train2\n",
    "\n",
    "svm_model = SVC(random_state=42)\n",
    "get_metrics(model=svm_model, x_train=x_train2, y_train=y_train2)"
   ]
  },
  {
   "cell_type": "code",
   "execution_count": 196,
   "metadata": {},
   "outputs": [
    {
     "name": "stdout",
     "output_type": "stream",
     "text": [
      "훈련 정확도:  0.9790473529822601\n",
      "훈련 recall:  0.8192219679633868\n",
      "훈련 Precision:  0.9445910290237467\n",
      "훈련 F1-score:  0.877450980392157\n"
     ]
    },
    {
     "data": {
      "text/html": [
       "<div>\n",
       "<style scoped>\n",
       "    .dataframe tbody tr th:only-of-type {\n",
       "        vertical-align: middle;\n",
       "    }\n",
       "\n",
       "    .dataframe tbody tr th {\n",
       "        vertical-align: top;\n",
       "    }\n",
       "\n",
       "    .dataframe thead th {\n",
       "        text-align: right;\n",
       "    }\n",
       "</style>\n",
       "<table border=\"1\" class=\"dataframe\">\n",
       "  <thead>\n",
       "    <tr style=\"text-align: right;\">\n",
       "      <th></th>\n",
       "      <th>fit_time</th>\n",
       "      <th>score_time</th>\n",
       "      <th>test_accuracy</th>\n",
       "      <th>test_recall</th>\n",
       "      <th>test_precision</th>\n",
       "      <th>test_f1_score</th>\n",
       "    </tr>\n",
       "  </thead>\n",
       "  <tbody>\n",
       "    <tr>\n",
       "      <th>0</th>\n",
       "      <td>0.380075</td>\n",
       "      <td>0.203320</td>\n",
       "      <td>0.980796</td>\n",
       "      <td>0.832700</td>\n",
       "      <td>0.952174</td>\n",
       "      <td>0.888438</td>\n",
       "    </tr>\n",
       "    <tr>\n",
       "      <th>1</th>\n",
       "      <td>0.357702</td>\n",
       "      <td>0.193276</td>\n",
       "      <td>0.976606</td>\n",
       "      <td>0.812977</td>\n",
       "      <td>0.922078</td>\n",
       "      <td>0.864097</td>\n",
       "    </tr>\n",
       "    <tr>\n",
       "      <th>2</th>\n",
       "      <td>0.358018</td>\n",
       "      <td>0.193849</td>\n",
       "      <td>0.977304</td>\n",
       "      <td>0.793893</td>\n",
       "      <td>0.949772</td>\n",
       "      <td>0.864865</td>\n",
       "    </tr>\n",
       "    <tr>\n",
       "      <th>3</th>\n",
       "      <td>0.357141</td>\n",
       "      <td>0.196741</td>\n",
       "      <td>0.976249</td>\n",
       "      <td>0.778626</td>\n",
       "      <td>0.953271</td>\n",
       "      <td>0.857143</td>\n",
       "    </tr>\n",
       "    <tr>\n",
       "      <th>4</th>\n",
       "      <td>0.361639</td>\n",
       "      <td>0.196123</td>\n",
       "      <td>0.977646</td>\n",
       "      <td>0.820611</td>\n",
       "      <td>0.926724</td>\n",
       "      <td>0.870445</td>\n",
       "    </tr>\n",
       "    <tr>\n",
       "      <th>mean</th>\n",
       "      <td>0.362915</td>\n",
       "      <td>0.196662</td>\n",
       "      <td>0.977720</td>\n",
       "      <td>0.807761</td>\n",
       "      <td>0.940804</td>\n",
       "      <td>0.868998</td>\n",
       "    </tr>\n",
       "  </tbody>\n",
       "</table>\n",
       "</div>"
      ],
      "text/plain": [
       "      fit_time  score_time  test_accuracy  test_recall  test_precision  \\\n",
       "0     0.380075    0.203320       0.980796     0.832700        0.952174   \n",
       "1     0.357702    0.193276       0.976606     0.812977        0.922078   \n",
       "2     0.358018    0.193849       0.977304     0.793893        0.949772   \n",
       "3     0.357141    0.196741       0.976249     0.778626        0.953271   \n",
       "4     0.361639    0.196123       0.977646     0.820611        0.926724   \n",
       "mean  0.362915    0.196662       0.977720     0.807761        0.940804   \n",
       "\n",
       "      test_f1_score  \n",
       "0          0.888438  \n",
       "1          0.864097  \n",
       "2          0.864865  \n",
       "3          0.857143  \n",
       "4          0.870445  \n",
       "mean       0.868998  "
      ]
     },
     "execution_count": 196,
     "metadata": {},
     "output_type": "execute_result"
    }
   ],
   "source": [
    "# x_train3\n",
    "\n",
    "svm_model = SVC(random_state=42)\n",
    "get_metrics(model=svm_model, x_train=x_train3, y_train=y_train3)"
   ]
  },
  {
   "cell_type": "code",
   "execution_count": 197,
   "metadata": {},
   "outputs": [
    {
     "name": "stdout",
     "output_type": "stream",
     "text": [
      "훈련 정확도:  0.8775290820439974\n",
      "훈련 recall:  0.8329754601226994\n",
      "훈련 Precision:  0.9147717702543372\n",
      "훈련 F1-score:  0.8719595408204224\n"
     ]
    },
    {
     "data": {
      "text/html": [
       "<div>\n",
       "<style scoped>\n",
       "    .dataframe tbody tr th:only-of-type {\n",
       "        vertical-align: middle;\n",
       "    }\n",
       "\n",
       "    .dataframe tbody tr th {\n",
       "        vertical-align: top;\n",
       "    }\n",
       "\n",
       "    .dataframe thead th {\n",
       "        text-align: right;\n",
       "    }\n",
       "</style>\n",
       "<table border=\"1\" class=\"dataframe\">\n",
       "  <thead>\n",
       "    <tr style=\"text-align: right;\">\n",
       "      <th></th>\n",
       "      <th>fit_time</th>\n",
       "      <th>score_time</th>\n",
       "      <th>test_accuracy</th>\n",
       "      <th>test_recall</th>\n",
       "      <th>test_precision</th>\n",
       "      <th>test_f1_score</th>\n",
       "    </tr>\n",
       "  </thead>\n",
       "  <tbody>\n",
       "    <tr>\n",
       "      <th>0</th>\n",
       "      <td>7.717880</td>\n",
       "      <td>3.778352</td>\n",
       "      <td>0.890403</td>\n",
       "      <td>0.877684</td>\n",
       "      <td>0.900826</td>\n",
       "      <td>0.889105</td>\n",
       "    </tr>\n",
       "    <tr>\n",
       "      <th>1</th>\n",
       "      <td>7.020598</td>\n",
       "      <td>3.451303</td>\n",
       "      <td>0.850480</td>\n",
       "      <td>0.770706</td>\n",
       "      <td>0.917389</td>\n",
       "      <td>0.837675</td>\n",
       "    </tr>\n",
       "    <tr>\n",
       "      <th>2</th>\n",
       "      <td>6.806848</td>\n",
       "      <td>3.432065</td>\n",
       "      <td>0.851219</td>\n",
       "      <td>0.774156</td>\n",
       "      <td>0.915646</td>\n",
       "      <td>0.838978</td>\n",
       "    </tr>\n",
       "    <tr>\n",
       "      <th>3</th>\n",
       "      <td>7.421661</td>\n",
       "      <td>3.662397</td>\n",
       "      <td>0.887886</td>\n",
       "      <td>0.857362</td>\n",
       "      <td>0.913399</td>\n",
       "      <td>0.884494</td>\n",
       "    </tr>\n",
       "    <tr>\n",
       "      <th>4</th>\n",
       "      <td>7.221303</td>\n",
       "      <td>3.484910</td>\n",
       "      <td>0.851219</td>\n",
       "      <td>0.775307</td>\n",
       "      <td>0.914518</td>\n",
       "      <td>0.839178</td>\n",
       "    </tr>\n",
       "    <tr>\n",
       "      <th>mean</th>\n",
       "      <td>7.237658</td>\n",
       "      <td>3.561805</td>\n",
       "      <td>0.866241</td>\n",
       "      <td>0.811043</td>\n",
       "      <td>0.912356</td>\n",
       "      <td>0.857886</td>\n",
       "    </tr>\n",
       "  </tbody>\n",
       "</table>\n",
       "</div>"
      ],
      "text/plain": [
       "      fit_time  score_time  test_accuracy  test_recall  test_precision  \\\n",
       "0     7.717880    3.778352       0.890403     0.877684        0.900826   \n",
       "1     7.020598    3.451303       0.850480     0.770706        0.917389   \n",
       "2     6.806848    3.432065       0.851219     0.774156        0.915646   \n",
       "3     7.421661    3.662397       0.887886     0.857362        0.913399   \n",
       "4     7.221303    3.484910       0.851219     0.775307        0.914518   \n",
       "mean  7.237658    3.561805       0.866241     0.811043        0.912356   \n",
       "\n",
       "      test_f1_score  \n",
       "0          0.889105  \n",
       "1          0.837675  \n",
       "2          0.838978  \n",
       "3          0.884494  \n",
       "4          0.839178  \n",
       "mean       0.857886  "
      ]
     },
     "execution_count": 197,
     "metadata": {},
     "output_type": "execute_result"
    }
   ],
   "source": [
    "# x_train4\n",
    "\n",
    "svm_model = SVC(random_state=42)\n",
    "get_metrics(model=svm_model, x_train=x_train4, y_train=y_train4)"
   ]
  },
  {
   "cell_type": "markdown",
   "metadata": {},
   "source": [
    "### x_train1 채택!!!(전체적으로 recall도 크게 차이 안나고 무난해보임)\n",
    "#### 하이퍼 파라미터 조정!!!"
   ]
  },
  {
   "cell_type": "code",
   "execution_count": 207,
   "metadata": {},
   "outputs": [
    {
     "name": "stdout",
     "output_type": "stream",
     "text": [
      "최적의 하이퍼파라미터:  {'C': 38.454011884736246, 'gamma': 11.932646184587496, 'kernel': 'linear'}\n",
      "최고 recall:  0.9038806490000871\n"
     ]
    }
   ],
   "source": [
    "svm_model = SVC(random_state=42,\n",
    "                class_weight='balanced')\n",
    "\n",
    "param_dist = {\n",
    "    'C': uniform(1, 100),\n",
    "    'kernel': ['linear', 'rbf'], # sigmoid는 성능이 안좋았음...\n",
    "    'gamma': np.random.uniform(1, 100, size=5),\n",
    "}\n",
    "\n",
    "# 랜덤 서치 수행\n",
    "random_search = RandomizedSearchCV(\n",
    "    svm_model, param_distributions=param_dist, n_iter=20, cv=5, scoring='recall', random_state=42\n",
    ")\n",
    "\n",
    "# 학습 데이터에 랜덤 서치 수행\n",
    "random_search.fit(x_train1, y_train1)\n",
    "\n",
    "# 최적의 하이퍼파라미터와 평가 지표 출력\n",
    "print(\"최적의 하이퍼파라미터: \", random_search.best_params_)\n",
    "print(\"최고 recall: \", random_search.best_score_)"
   ]
  },
  {
   "cell_type": "markdown",
   "metadata": {},
   "source": [
    "랜덤서치 1번<br>\n",
    "최적의 하이퍼파라미터:  {'C': 3.0584494295802447, 'class_weight': 'balanced', 'gamma': 'auto', 'kernel': 'rbf'}\n",
    "최고 recall:  0.9107392679882738\n",
    "\n",
    "- gamma를 auto 랑 scale만 썼는데 한번 직접 숫자로 기입해서 시작\n",
    "랜덤서치 2번<br>\n",
    "최적의 하이퍼파라미터:  {'C': 524.7574316322379, 'class_weight': 'balanced', 'gamma': 3.1123314993496725, 'kernel': 'linear'}\n",
    "최고 recall:  0.9038806490000871\n",
    "\n",
    "- class_weight의 경우 balanced를 설정하는게 다 나오므로 빼고 fit에 설정\n",
    "랜덤서치 3번<br>\n",
    "최적의 하이퍼파라미터:  {'C': 525.7564316322379, 'class_weight': 'balanced', 'gamma': 9.753524084905528, 'kernel': 'linear'}\n",
    "최고 recall:  0.9038806490000871\n",
    "\n",
    "랜덤서치 4번<br>\n",
    "최적의 하이퍼파라미터:  {'C': 4.745401188473625, 'gamma': 1.753647357648114, 'kernel': 'linear'}\n",
    "최고 recall:  0.903117290221461\n",
    "\n",
    "랜덤서치 5번<br>\n",
    "최적의 하이퍼파라미터:  {'C': 38.454011884736246, 'gamma': 11.932646184587496, 'kernel': 'linear'}\n",
    "최고 recall:  0.9038806490000871"
   ]
  },
  {
   "cell_type": "markdown",
   "metadata": {},
   "source": [
    "### GridSearch 시작!!!"
   ]
  },
  {
   "cell_type": "code",
   "execution_count": 216,
   "metadata": {},
   "outputs": [
    {
     "name": "stdout",
     "output_type": "stream",
     "text": [
      "최적의 하이퍼파라미터: {'C': 601.6590243055539, 'degree': 3, 'gamma': 'auto', 'kernel': 'poly'}\n",
      "최고 Recall: 0.9008301163904449\n"
     ]
    }
   ],
   "source": [
    "svm_model = SVC(random_state=42,\n",
    "                class_weight='balanced')\n",
    "\n",
    "# 하이퍼파라미터 후보들을 딕셔너리 형태로 정의\n",
    "param_grid = {\n",
    "    'C': np.random.uniform(1, 1000, size=5),\n",
    "    'kernel': ['poly'],\n",
    "    'gamma': ['scale', 'auto'], # np.random.uniform(1, 100, size=5)\n",
    "    'degree' : [2, 3, 4, 5]\n",
    "}\n",
    "\n",
    "# Recall을 사용하여 그리드 서치 수행\n",
    "grid_search = GridSearchCV(svm_model, param_grid, cv=5, scoring='recall')\n",
    "\n",
    "# 학습 데이터에 그리드 서치 수행\n",
    "grid_search.fit(x_train1, y_train1)\n",
    "\n",
    "# 최적의 파라미터와 성능 확인\n",
    "print(\"최적의 하이퍼파라미터:\", grid_search.best_params_)\n",
    "print(\"최고 Recall:\", grid_search.best_score_)"
   ]
  },
  {
   "cell_type": "markdown",
   "metadata": {},
   "source": [
    "그리드서치 1번<br>\n",
    "최적의 하이퍼파라미터: {'C': 24.67637920139087, 'gamma': 78.06155282858109, 'kernel': 'linear'}\n",
    "최고 Recall: 0.9038806490000871\n",
    "\n",
    "- gamma값 직접해보니 더 떨어지는 기분이라 다시 scale, auto로 변경\n",
    "그리드서치 2번<br>\n",
    "최적의 하이퍼파라미터: {'C': 32.819449744559364, 'gamma': 'scale', 'kernel': 'rbf'}\n",
    "최고 Recall: 0.9076974428932167\n",
    "\n",
    "- 계속 하이퍼파라미터는 바뀌는데 recall값이 너무 말도 안되게 똑같이 나오는 경우가 많다...\n",
    "그리드서치 3번<br>\n",
    "최적의 하이퍼파라미터: {'C': 191.74273161997786, 'gamma': 'scale', 'kernel': 'linear'}\n",
    "최고 Recall: 0.9038806490000871\n",
    "\n",
    "- 더 이상 성능 개선이 되지 않는것 같아 다항식 커널을 사용해보기로(poly)\n",
    "그리드서치 4번<br>\n",
    "최적의 하이퍼파라미터: {'C': 601.6590243055539, 'degree': 3, 'gamma': 'auto', 'kernel': 'poly'}\n",
    "최고 Recall: 0.9008301163904449\n",
    "- 시간에 비해 성능이 그닥... 그래도 테스트는 어떨지 잘 모르니 해보기"
   ]
  },
  {
   "cell_type": "markdown",
   "metadata": {},
   "source": [
    "### 랜덤서치랑 그리드서치중 괜찮은거 몇개 테스트!!!"
   ]
  },
  {
   "cell_type": "markdown",
   "metadata": {},
   "source": [
    "랜덤서치 1번<br>\n",
    "최적의 하이퍼파라미터:  {'C': 3.0584494295802447, 'class_weight': 'balanced', 'gamma': 'auto', 'kernel': 'rbf'}\n",
    "최고 recall:  0.9107392679882738"
   ]
  },
  {
   "cell_type": "code",
   "execution_count": 219,
   "metadata": {},
   "outputs": [],
   "source": [
    "svm_model_final = SVC(random_state=42,\n",
    "                class_weight='balanced',\n",
    "                C=3.0584494295802447,\n",
    "                gamma='auto',\n",
    "                kernel='rbf',\n",
    "                )"
   ]
  },
  {
   "cell_type": "code",
   "execution_count": 218,
   "metadata": {},
   "outputs": [
    {
     "name": "stdout",
     "output_type": "stream",
     "text": [
      "훈련 정확도:  0.9748568235787121\n",
      "훈련 recall:  0.9221967963386728\n",
      "훈련 Precision:  0.8241308793456033\n",
      "훈련 F1-score:  0.8704103671706264\n"
     ]
    },
    {
     "data": {
      "text/html": [
       "<div>\n",
       "<style scoped>\n",
       "    .dataframe tbody tr th:only-of-type {\n",
       "        vertical-align: middle;\n",
       "    }\n",
       "\n",
       "    .dataframe tbody tr th {\n",
       "        vertical-align: top;\n",
       "    }\n",
       "\n",
       "    .dataframe thead th {\n",
       "        text-align: right;\n",
       "    }\n",
       "</style>\n",
       "<table border=\"1\" class=\"dataframe\">\n",
       "  <thead>\n",
       "    <tr style=\"text-align: right;\">\n",
       "      <th></th>\n",
       "      <th>fit_time</th>\n",
       "      <th>score_time</th>\n",
       "      <th>test_accuracy</th>\n",
       "      <th>test_recall</th>\n",
       "      <th>test_precision</th>\n",
       "      <th>test_f1_score</th>\n",
       "    </tr>\n",
       "  </thead>\n",
       "  <tbody>\n",
       "    <tr>\n",
       "      <th>0</th>\n",
       "      <td>1.202702</td>\n",
       "      <td>0.475776</td>\n",
       "      <td>0.978003</td>\n",
       "      <td>0.931559</td>\n",
       "      <td>0.844828</td>\n",
       "      <td>0.886076</td>\n",
       "    </tr>\n",
       "    <tr>\n",
       "      <th>1</th>\n",
       "      <td>1.027924</td>\n",
       "      <td>0.436474</td>\n",
       "      <td>0.969972</td>\n",
       "      <td>0.896947</td>\n",
       "      <td>0.799320</td>\n",
       "      <td>0.845324</td>\n",
       "    </tr>\n",
       "    <tr>\n",
       "      <th>2</th>\n",
       "      <td>1.082092</td>\n",
       "      <td>0.443005</td>\n",
       "      <td>0.972067</td>\n",
       "      <td>0.896947</td>\n",
       "      <td>0.815972</td>\n",
       "      <td>0.854545</td>\n",
       "    </tr>\n",
       "    <tr>\n",
       "      <th>3</th>\n",
       "      <td>1.114252</td>\n",
       "      <td>0.452060</td>\n",
       "      <td>0.976947</td>\n",
       "      <td>0.912214</td>\n",
       "      <td>0.847518</td>\n",
       "      <td>0.878676</td>\n",
       "    </tr>\n",
       "    <tr>\n",
       "      <th>4</th>\n",
       "      <td>1.054024</td>\n",
       "      <td>0.449009</td>\n",
       "      <td>0.973105</td>\n",
       "      <td>0.916031</td>\n",
       "      <td>0.813559</td>\n",
       "      <td>0.861759</td>\n",
       "    </tr>\n",
       "    <tr>\n",
       "      <th>mean</th>\n",
       "      <td>1.096199</td>\n",
       "      <td>0.451265</td>\n",
       "      <td>0.974019</td>\n",
       "      <td>0.910739</td>\n",
       "      <td>0.824239</td>\n",
       "      <td>0.865276</td>\n",
       "    </tr>\n",
       "  </tbody>\n",
       "</table>\n",
       "</div>"
      ],
      "text/plain": [
       "      fit_time  score_time  test_accuracy  test_recall  test_precision  \\\n",
       "0     1.202702    0.475776       0.978003     0.931559        0.844828   \n",
       "1     1.027924    0.436474       0.969972     0.896947        0.799320   \n",
       "2     1.082092    0.443005       0.972067     0.896947        0.815972   \n",
       "3     1.114252    0.452060       0.976947     0.912214        0.847518   \n",
       "4     1.054024    0.449009       0.973105     0.916031        0.813559   \n",
       "mean  1.096199    0.451265       0.974019     0.910739        0.824239   \n",
       "\n",
       "      test_f1_score  \n",
       "0          0.886076  \n",
       "1          0.845324  \n",
       "2          0.854545  \n",
       "3          0.878676  \n",
       "4          0.861759  \n",
       "mean       0.865276  "
      ]
     },
     "execution_count": 218,
     "metadata": {},
     "output_type": "execute_result"
    }
   ],
   "source": [
    "get_metrics(model=svm_model_final, x_train=x_train1, y_train=y_train1)"
   ]
  },
  {
   "cell_type": "markdown",
   "metadata": {},
   "source": [
    "그리드서치 2번<br>\n",
    "최적의 하이퍼파라미터: {'C': 32.819449744559364, 'gamma': 'scale', 'kernel': 'rbf'}\n",
    "최고 Recall: 0.9076974428932167"
   ]
  },
  {
   "cell_type": "code",
   "execution_count": 220,
   "metadata": {},
   "outputs": [],
   "source": [
    "svm_model_final = SVC(random_state=42,\n",
    "                class_weight='balanced',\n",
    "                C=32.819449744559364,\n",
    "                gamma='scale',\n",
    "                kernel='rbf',\n",
    "                )"
   ]
  },
  {
   "cell_type": "code",
   "execution_count": 221,
   "metadata": {},
   "outputs": [
    {
     "name": "stdout",
     "output_type": "stream",
     "text": [
      "훈련 정확도:  0.9763235088699539\n",
      "훈련 recall:  0.92372234935164\n",
      "훈련 Precision:  0.8351724137931035\n",
      "훈련 F1-score:  0.8772183991307497\n"
     ]
    },
    {
     "data": {
      "text/html": [
       "<div>\n",
       "<style scoped>\n",
       "    .dataframe tbody tr th:only-of-type {\n",
       "        vertical-align: middle;\n",
       "    }\n",
       "\n",
       "    .dataframe tbody tr th {\n",
       "        vertical-align: top;\n",
       "    }\n",
       "\n",
       "    .dataframe thead th {\n",
       "        text-align: right;\n",
       "    }\n",
       "</style>\n",
       "<table border=\"1\" class=\"dataframe\">\n",
       "  <thead>\n",
       "    <tr style=\"text-align: right;\">\n",
       "      <th></th>\n",
       "      <th>fit_time</th>\n",
       "      <th>score_time</th>\n",
       "      <th>test_accuracy</th>\n",
       "      <th>test_recall</th>\n",
       "      <th>test_precision</th>\n",
       "      <th>test_f1_score</th>\n",
       "    </tr>\n",
       "  </thead>\n",
       "  <tbody>\n",
       "    <tr>\n",
       "      <th>0</th>\n",
       "      <td>1.458997</td>\n",
       "      <td>0.445336</td>\n",
       "      <td>0.974860</td>\n",
       "      <td>0.916350</td>\n",
       "      <td>0.828179</td>\n",
       "      <td>0.870036</td>\n",
       "    </tr>\n",
       "    <tr>\n",
       "      <th>1</th>\n",
       "      <td>1.267944</td>\n",
       "      <td>0.404984</td>\n",
       "      <td>0.972067</td>\n",
       "      <td>0.896947</td>\n",
       "      <td>0.815972</td>\n",
       "      <td>0.854545</td>\n",
       "    </tr>\n",
       "    <tr>\n",
       "      <th>2</th>\n",
       "      <td>1.306233</td>\n",
       "      <td>0.414326</td>\n",
       "      <td>0.972416</td>\n",
       "      <td>0.900763</td>\n",
       "      <td>0.816609</td>\n",
       "      <td>0.856624</td>\n",
       "    </tr>\n",
       "    <tr>\n",
       "      <th>3</th>\n",
       "      <td>1.345309</td>\n",
       "      <td>0.423401</td>\n",
       "      <td>0.976598</td>\n",
       "      <td>0.912214</td>\n",
       "      <td>0.844523</td>\n",
       "      <td>0.877064</td>\n",
       "    </tr>\n",
       "    <tr>\n",
       "      <th>4</th>\n",
       "      <td>1.271762</td>\n",
       "      <td>0.412452</td>\n",
       "      <td>0.970311</td>\n",
       "      <td>0.912214</td>\n",
       "      <td>0.794020</td>\n",
       "      <td>0.849023</td>\n",
       "    </tr>\n",
       "    <tr>\n",
       "      <th>mean</th>\n",
       "      <td>1.330049</td>\n",
       "      <td>0.420100</td>\n",
       "      <td>0.973250</td>\n",
       "      <td>0.907697</td>\n",
       "      <td>0.819861</td>\n",
       "      <td>0.861459</td>\n",
       "    </tr>\n",
       "  </tbody>\n",
       "</table>\n",
       "</div>"
      ],
      "text/plain": [
       "      fit_time  score_time  test_accuracy  test_recall  test_precision  \\\n",
       "0     1.458997    0.445336       0.974860     0.916350        0.828179   \n",
       "1     1.267944    0.404984       0.972067     0.896947        0.815972   \n",
       "2     1.306233    0.414326       0.972416     0.900763        0.816609   \n",
       "3     1.345309    0.423401       0.976598     0.912214        0.844523   \n",
       "4     1.271762    0.412452       0.970311     0.912214        0.794020   \n",
       "mean  1.330049    0.420100       0.973250     0.907697        0.819861   \n",
       "\n",
       "      test_f1_score  \n",
       "0          0.870036  \n",
       "1          0.854545  \n",
       "2          0.856624  \n",
       "3          0.877064  \n",
       "4          0.849023  \n",
       "mean       0.861459  "
      ]
     },
     "execution_count": 221,
     "metadata": {},
     "output_type": "execute_result"
    }
   ],
   "source": [
    "get_metrics(model=svm_model_final, x_train=x_train1, y_train=y_train1)"
   ]
  },
  {
   "cell_type": "markdown",
   "metadata": {},
   "source": [
    "그리드서치 4번<br>\n",
    "최적의 하이퍼파라미터: {'C': 601.6590243055539, 'degree': 3, 'gamma': 'auto', 'kernel': 'poly'}\n",
    "최고 Recall: 0.9008301163904449"
   ]
  },
  {
   "cell_type": "code",
   "execution_count": 222,
   "metadata": {},
   "outputs": [],
   "source": [
    "svm_model_final = SVC(random_state=42,\n",
    "                class_weight='balanced',\n",
    "                C=601.6590243055539,\n",
    "                gamma='auto',\n",
    "                kernel='poly',\n",
    "                degree=3)"
   ]
  },
  {
   "cell_type": "code",
   "execution_count": 223,
   "metadata": {},
   "outputs": [
    {
     "name": "stdout",
     "output_type": "stream",
     "text": [
      "훈련 정확도:  0.9763235088699539\n",
      "훈련 recall:  0.9191456903127384\n",
      "훈련 Precision:  0.8379694019471489\n",
      "훈련 F1-score:  0.8766824299745363\n"
     ]
    },
    {
     "data": {
      "text/html": [
       "<div>\n",
       "<style scoped>\n",
       "    .dataframe tbody tr th:only-of-type {\n",
       "        vertical-align: middle;\n",
       "    }\n",
       "\n",
       "    .dataframe tbody tr th {\n",
       "        vertical-align: top;\n",
       "    }\n",
       "\n",
       "    .dataframe thead th {\n",
       "        text-align: right;\n",
       "    }\n",
       "</style>\n",
       "<table border=\"1\" class=\"dataframe\">\n",
       "  <thead>\n",
       "    <tr style=\"text-align: right;\">\n",
       "      <th></th>\n",
       "      <th>fit_time</th>\n",
       "      <th>score_time</th>\n",
       "      <th>test_accuracy</th>\n",
       "      <th>test_recall</th>\n",
       "      <th>test_precision</th>\n",
       "      <th>test_f1_score</th>\n",
       "    </tr>\n",
       "  </thead>\n",
       "  <tbody>\n",
       "    <tr>\n",
       "      <th>0</th>\n",
       "      <td>26.462101</td>\n",
       "      <td>0.143102</td>\n",
       "      <td>0.974860</td>\n",
       "      <td>0.912548</td>\n",
       "      <td>0.830450</td>\n",
       "      <td>0.869565</td>\n",
       "    </tr>\n",
       "    <tr>\n",
       "      <th>1</th>\n",
       "      <td>27.275526</td>\n",
       "      <td>0.130971</td>\n",
       "      <td>0.971718</td>\n",
       "      <td>0.885496</td>\n",
       "      <td>0.819788</td>\n",
       "      <td>0.851376</td>\n",
       "    </tr>\n",
       "    <tr>\n",
       "      <th>2</th>\n",
       "      <td>32.556572</td>\n",
       "      <td>0.133745</td>\n",
       "      <td>0.971718</td>\n",
       "      <td>0.889313</td>\n",
       "      <td>0.817544</td>\n",
       "      <td>0.851920</td>\n",
       "    </tr>\n",
       "    <tr>\n",
       "      <th>3</th>\n",
       "      <td>29.513940</td>\n",
       "      <td>0.135940</td>\n",
       "      <td>0.975201</td>\n",
       "      <td>0.900763</td>\n",
       "      <td>0.839858</td>\n",
       "      <td>0.869245</td>\n",
       "    </tr>\n",
       "    <tr>\n",
       "      <th>4</th>\n",
       "      <td>29.014335</td>\n",
       "      <td>0.133644</td>\n",
       "      <td>0.975201</td>\n",
       "      <td>0.916031</td>\n",
       "      <td>0.830450</td>\n",
       "      <td>0.871143</td>\n",
       "    </tr>\n",
       "    <tr>\n",
       "      <th>mean</th>\n",
       "      <td>28.964495</td>\n",
       "      <td>0.135480</td>\n",
       "      <td>0.973740</td>\n",
       "      <td>0.900830</td>\n",
       "      <td>0.827618</td>\n",
       "      <td>0.862650</td>\n",
       "    </tr>\n",
       "  </tbody>\n",
       "</table>\n",
       "</div>"
      ],
      "text/plain": [
       "       fit_time  score_time  test_accuracy  test_recall  test_precision  \\\n",
       "0     26.462101    0.143102       0.974860     0.912548        0.830450   \n",
       "1     27.275526    0.130971       0.971718     0.885496        0.819788   \n",
       "2     32.556572    0.133745       0.971718     0.889313        0.817544   \n",
       "3     29.513940    0.135940       0.975201     0.900763        0.839858   \n",
       "4     29.014335    0.133644       0.975201     0.916031        0.830450   \n",
       "mean  28.964495    0.135480       0.973740     0.900830        0.827618   \n",
       "\n",
       "      test_f1_score  \n",
       "0          0.869565  \n",
       "1          0.851376  \n",
       "2          0.851920  \n",
       "3          0.869245  \n",
       "4          0.871143  \n",
       "mean       0.862650  "
      ]
     },
     "execution_count": 223,
     "metadata": {},
     "output_type": "execute_result"
    }
   ],
   "source": [
    "get_metrics(model=svm_model_final, x_train=x_train1, y_train=y_train1)"
   ]
  },
  {
   "cell_type": "markdown",
   "metadata": {},
   "source": [
    "### 최종은 역시 1번"
   ]
  },
  {
   "cell_type": "code",
   "execution_count": 227,
   "metadata": {},
   "outputs": [
    {
     "data": {
      "text/html": [
       "<style>#sk-container-id-11 {color: black;background-color: white;}#sk-container-id-11 pre{padding: 0;}#sk-container-id-11 div.sk-toggleable {background-color: white;}#sk-container-id-11 label.sk-toggleable__label {cursor: pointer;display: block;width: 100%;margin-bottom: 0;padding: 0.3em;box-sizing: border-box;text-align: center;}#sk-container-id-11 label.sk-toggleable__label-arrow:before {content: \"▸\";float: left;margin-right: 0.25em;color: #696969;}#sk-container-id-11 label.sk-toggleable__label-arrow:hover:before {color: black;}#sk-container-id-11 div.sk-estimator:hover label.sk-toggleable__label-arrow:before {color: black;}#sk-container-id-11 div.sk-toggleable__content {max-height: 0;max-width: 0;overflow: hidden;text-align: left;background-color: #f0f8ff;}#sk-container-id-11 div.sk-toggleable__content pre {margin: 0.2em;color: black;border-radius: 0.25em;background-color: #f0f8ff;}#sk-container-id-11 input.sk-toggleable__control:checked~div.sk-toggleable__content {max-height: 200px;max-width: 100%;overflow: auto;}#sk-container-id-11 input.sk-toggleable__control:checked~label.sk-toggleable__label-arrow:before {content: \"▾\";}#sk-container-id-11 div.sk-estimator input.sk-toggleable__control:checked~label.sk-toggleable__label {background-color: #d4ebff;}#sk-container-id-11 div.sk-label input.sk-toggleable__control:checked~label.sk-toggleable__label {background-color: #d4ebff;}#sk-container-id-11 input.sk-hidden--visually {border: 0;clip: rect(1px 1px 1px 1px);clip: rect(1px, 1px, 1px, 1px);height: 1px;margin: -1px;overflow: hidden;padding: 0;position: absolute;width: 1px;}#sk-container-id-11 div.sk-estimator {font-family: monospace;background-color: #f0f8ff;border: 1px dotted black;border-radius: 0.25em;box-sizing: border-box;margin-bottom: 0.5em;}#sk-container-id-11 div.sk-estimator:hover {background-color: #d4ebff;}#sk-container-id-11 div.sk-parallel-item::after {content: \"\";width: 100%;border-bottom: 1px solid gray;flex-grow: 1;}#sk-container-id-11 div.sk-label:hover label.sk-toggleable__label {background-color: #d4ebff;}#sk-container-id-11 div.sk-serial::before {content: \"\";position: absolute;border-left: 1px solid gray;box-sizing: border-box;top: 0;bottom: 0;left: 50%;z-index: 0;}#sk-container-id-11 div.sk-serial {display: flex;flex-direction: column;align-items: center;background-color: white;padding-right: 0.2em;padding-left: 0.2em;position: relative;}#sk-container-id-11 div.sk-item {position: relative;z-index: 1;}#sk-container-id-11 div.sk-parallel {display: flex;align-items: stretch;justify-content: center;background-color: white;position: relative;}#sk-container-id-11 div.sk-item::before, #sk-container-id-11 div.sk-parallel-item::before {content: \"\";position: absolute;border-left: 1px solid gray;box-sizing: border-box;top: 0;bottom: 0;left: 50%;z-index: -1;}#sk-container-id-11 div.sk-parallel-item {display: flex;flex-direction: column;z-index: 1;position: relative;background-color: white;}#sk-container-id-11 div.sk-parallel-item:first-child::after {align-self: flex-end;width: 50%;}#sk-container-id-11 div.sk-parallel-item:last-child::after {align-self: flex-start;width: 50%;}#sk-container-id-11 div.sk-parallel-item:only-child::after {width: 0;}#sk-container-id-11 div.sk-dashed-wrapped {border: 1px dashed gray;margin: 0 0.4em 0.5em 0.4em;box-sizing: border-box;padding-bottom: 0.4em;background-color: white;}#sk-container-id-11 div.sk-label label {font-family: monospace;font-weight: bold;display: inline-block;line-height: 1.2em;}#sk-container-id-11 div.sk-label-container {text-align: center;}#sk-container-id-11 div.sk-container {/* jupyter's `normalize.less` sets `[hidden] { display: none; }` but bootstrap.min.css set `[hidden] { display: none !important; }` so we also need the `!important` here to be able to override the default hidden behavior on the sphinx rendered scikit-learn.org. See: https://github.com/scikit-learn/scikit-learn/issues/21755 */display: inline-block !important;position: relative;}#sk-container-id-11 div.sk-text-repr-fallback {display: none;}</style><div id=\"sk-container-id-11\" class=\"sk-top-container\"><div class=\"sk-text-repr-fallback\"><pre>SVC(C=32.819449744559364, class_weight=&#x27;balanced&#x27;, random_state=42)</pre><b>In a Jupyter environment, please rerun this cell to show the HTML representation or trust the notebook. <br />On GitHub, the HTML representation is unable to render, please try loading this page with nbviewer.org.</b></div><div class=\"sk-container\" hidden><div class=\"sk-item\"><div class=\"sk-estimator sk-toggleable\"><input class=\"sk-toggleable__control sk-hidden--visually\" id=\"sk-estimator-id-11\" type=\"checkbox\" checked><label for=\"sk-estimator-id-11\" class=\"sk-toggleable__label sk-toggleable__label-arrow\">SVC</label><div class=\"sk-toggleable__content\"><pre>SVC(C=32.819449744559364, class_weight=&#x27;balanced&#x27;, random_state=42)</pre></div></div></div></div></div>"
      ],
      "text/plain": [
       "SVC(C=32.819449744559364, class_weight='balanced', random_state=42)"
      ]
     },
     "execution_count": 227,
     "metadata": {},
     "output_type": "execute_result"
    }
   ],
   "source": [
    "svm_model_final = SVC(random_state=42,\n",
    "                class_weight='balanced',\n",
    "                C=32.819449744559364,\n",
    "                gamma='scale',\n",
    "                kernel='rbf',\n",
    "                )\n",
    "\n",
    "svm_model_final.fit(x_train1, y_train1)"
   ]
  },
  {
   "cell_type": "code",
   "execution_count": 228,
   "metadata": {},
   "outputs": [
    {
     "name": "stdout",
     "output_type": "stream",
     "text": [
      "테스트 정확도:  0.9731843575418995\n",
      "테스트 recall:  0.9085365853658537\n",
      "테스트 Precision:  0.8186813186813187\n",
      "테스트 F1-score:  0.8612716763005781\n"
     ]
    }
   ],
   "source": [
    "y_test_pred = svm_model_final.predict(x_test1)\n",
    "print(\"테스트 정확도: \", accuracy_score(y_test1, y_test_pred))\n",
    "print(\"테스트 recall: \", recall_score(y_test1, y_test_pred))\n",
    "print(\"테스트 Precision: \", precision_score(y_test1, y_test_pred))\n",
    "print(\"테스트 F1-score: \", f1_score(y_test1, y_test_pred))"
   ]
  },
  {
   "cell_type": "markdown",
   "metadata": {},
   "source": [
    "### SVM pikling"
   ]
  },
  {
   "cell_type": "code",
   "execution_count": 229,
   "metadata": {},
   "outputs": [],
   "source": [
    "import pickle\n",
    "\n",
    "# 모델 피클링 (저장)\n",
    "with open('svm_model_final.pkl', 'wb') as file:\n",
    "    pickle.dump(svm_model_final, file)"
   ]
  },
  {
   "cell_type": "markdown",
   "metadata": {},
   "source": [
    "### matrix 확인"
   ]
  },
  {
   "cell_type": "code",
   "execution_count": 230,
   "metadata": {},
   "outputs": [
    {
     "data": {
      "image/png": "[encoded data removed]",
      "text/plain": [
       "<Figure size 500x300 with 1 Axes>"
      ]
     },
     "metadata": {},
     "output_type": "display_data"
    }
   ],
   "source": [
    "from sklearn.metrics import confusion_matrix\n",
    "\n",
    "plt.figure(figsize = (5, 3))\n",
    "sns.heatmap(confusion_matrix(y_test1, y_test_pred), cmap = 'Blues',\n",
    "            cbar = False, annot = True, annot_kws = {'size' : 15},\n",
    "            fmt = '.0f', xticklabels = ['0(No)', '1(Yes)'], yticklabels = ['0(No)', '1(Yes)'],\n",
    "            linecolor = 'k', linewidths = 0.8)\n",
    "plt.xlabel('Predicted')\n",
    "plt.ylabel('Actual')\n",
    "plt.show()"
   ]
  },
  {
   "cell_type": "code",
   "execution_count": 263,
   "metadata": {},
   "outputs": [
    {
     "data": {
      "text/html": [
       "<div>\n",
       "<style scoped>\n",
       "    .dataframe tbody tr th:only-of-type {\n",
       "        vertical-align: middle;\n",
       "    }\n",
       "\n",
       "    .dataframe tbody tr th {\n",
       "        vertical-align: top;\n",
       "    }\n",
       "\n",
       "    .dataframe thead th {\n",
       "        text-align: right;\n",
       "    }\n",
       "</style>\n",
       "<table border=\"1\" class=\"dataframe\">\n",
       "  <thead>\n",
       "    <tr style=\"text-align: right;\">\n",
       "      <th></th>\n",
       "      <th>Test Accuracy</th>\n",
       "      <th>Test Precision</th>\n",
       "      <th>Test Recall</th>\n",
       "      <th>Test F1</th>\n",
       "    </tr>\n",
       "    <tr>\n",
       "      <th>Model</th>\n",
       "      <th></th>\n",
       "      <th></th>\n",
       "      <th></th>\n",
       "      <th></th>\n",
       "    </tr>\n",
       "  </thead>\n",
       "  <tbody>\n",
       "    <tr>\n",
       "      <th>base</th>\n",
       "      <td>0.98</td>\n",
       "      <td>0.93</td>\n",
       "      <td>0.79</td>\n",
       "      <td>0.85</td>\n",
       "    </tr>\n",
       "    <tr>\n",
       "      <th>svm_test</th>\n",
       "      <td>0.97</td>\n",
       "      <td>0.71</td>\n",
       "      <td>0.90</td>\n",
       "      <td>0.80</td>\n",
       "    </tr>\n",
       "  </tbody>\n",
       "</table>\n",
       "</div>"
      ],
      "text/plain": [
       "          Test Accuracy  Test Precision  Test Recall  Test F1\n",
       "Model                                                        \n",
       "base               0.98            0.93         0.79     0.85\n",
       "svm_test           0.97            0.71         0.90     0.80"
      ]
     },
     "execution_count": 263,
     "metadata": {},
     "output_type": "execute_result"
    }
   ],
   "source": [
    "base_metrics = {\n",
    "    'Test Accuracy': 0.98,\n",
    "    'Test Precision': 0.93,\n",
    "    'Test Recall': 0.79,\n",
    "    'Test F1': 0.85\n",
    "}\n",
    "\n",
    "svm_test_metrics = {\n",
    "    'Test Accuracy': round(svm_model_final.score(x_test1, y_test1), 2),\n",
    "    'Test Precision': round(precision_score(y_test1, y_test_pred), 2),\n",
    "    'Test Recall': round(recall_score(y_test1, y_test_pred), 2),\n",
    "    'Test F1': round(f1_score(y_test1, y_test_pred), 2)\n",
    "}\n",
    "\n",
    "base_df = pd.DataFrame([base_metrics])\n",
    "svm_test_df = pd.DataFrame([svm_test_metrics])\n",
    "\n",
    "base_df['Model'] = 'base'\n",
    "svm_test_df['Model'] = 'svm_test'\n",
    "\n",
    "base_df.set_index('Model', inplace=True)\n",
    "svm_test_df.set_index('Model', inplace=True)\n",
    "\n",
    "svm_result_df = pd.concat([base_df, svm_test_df])\n",
    "\n",
    "svm_result_df"
   ]
  },
  {
   "cell_type": "markdown",
   "metadata": {},
   "source": [
    "### 동기분과 얘기중에 오버샘플링만 해보지말고 언더샘플링도 해보자는 의견이 나옴\n",
    "- x_train5를 생성해보기로 결정\n",
    "- 타겟이 1:9 비율이기도 하고 1에 맞추게되면 데이터가 많이 줄어듬\n",
    "- 성능도 더 떨어짐..."
   ]
  },
  {
   "cell_type": "markdown",
   "metadata": {},
   "source": [
    "### 오버샘플링을 ADASYN만 사용해봤는데 SMOTE기법 얘기가 나와서 시도해보기로함 x_train5, 6생성"
   ]
  },
  {
   "cell_type": "code",
   "execution_count": 233,
   "metadata": {},
   "outputs": [],
   "source": [
    "from imblearn.over_sampling import SMOTE\n",
    "\n",
    "def split_dataset_smote(df, test_ratio = 0.2, select=1, upsampling=None):\n",
    "    # 미리 전역변수로 설정해두기\n",
    "    global x_df, y_df\n",
    "    \n",
    "    # 학습 데이터 분리\n",
    "    x_df = df.drop('Class', axis=1)\n",
    "    y_df = df['Class']\n",
    "    \n",
    "    x_train, x_test, y_train, y_test = train_test_split(x_df, y_df, test_size=test_ratio, random_state=42, stratify=y_df)\n",
    "    \n",
    "    # 대표적인 표준화 두가지 중 택1\n",
    "    if select == 1:\n",
    "        scaler = StandardScaler()\n",
    "    else:\n",
    "        scaler = MinMaxScaler()\n",
    "    \n",
    "    # 타겟이 불균형하므로 오버샘플링을 해보기(매개변수를 지정안해주면 None이 실행되므로 if문에 안들어감 2가지 방법 실험용)\n",
    "    if upsampling:\n",
    "        smote = SMOTE(random_state=42)\n",
    "        x_train, y_train = smote.fit_resample(x_train, y_train)\n",
    "    \n",
    "    x_train = scaler.fit_transform(x_train)\n",
    "    x_test = scaler.transform(x_test)\n",
    "    x_train = pd.DataFrame(x_train, columns=x_df.columns)\n",
    "    x_test = pd.DataFrame(x_test, columns=x_df.columns)\n",
    "\n",
    "    return x_train, x_test, y_train, y_test"
   ]
  },
  {
   "cell_type": "markdown",
   "metadata": {},
   "source": [
    "#### standard 사용 오버샘플링 사용 -> x_train5(안한거는 위에 사용 안한것들과 동일하기에 사용한것만)"
   ]
  },
  {
   "cell_type": "code",
   "execution_count": 234,
   "metadata": {},
   "outputs": [],
   "source": [
    "x_train5, x_test5, y_train5, y_test5 = split_dataset_smote(df=bc_data, test_ratio=0.2, select=1, upsampling=1)"
   ]
  },
  {
   "cell_type": "code",
   "execution_count": 236,
   "metadata": {},
   "outputs": [
    {
     "name": "stdout",
     "output_type": "stream",
     "text": [
      "훈련 데이터 shape: (26014, 8) (26014,)\n",
      "테스트 데이터 shape: (3580, 8) (3580,)\n"
     ]
    }
   ],
   "source": [
    "print('훈련 데이터 shape:', x_train5.shape, y_train5.shape)\n",
    "print('테스트 데이터 shape:', x_test5.shape, y_test5.shape)"
   ]
  },
  {
   "cell_type": "code",
   "execution_count": 237,
   "metadata": {},
   "outputs": [
    {
     "name": "stdout",
     "output_type": "stream",
     "text": [
      "1    0.5\n",
      "0    0.5\n",
      "Name: Class, dtype: float64\n"
     ]
    },
    {
     "data": {
      "text/plain": [
       "0    0.90838\n",
       "1    0.09162\n",
       "Name: Class, dtype: float64"
      ]
     },
     "execution_count": 237,
     "metadata": {},
     "output_type": "execute_result"
    }
   ],
   "source": [
    "print(y_train5.value_counts(normalize=True))\n",
    "y_test5.value_counts(normalize=True)"
   ]
  },
  {
   "cell_type": "code",
   "execution_count": 235,
   "metadata": {},
   "outputs": [],
   "source": [
    "x_train6, x_test6, y_train6, y_test6 = split_dataset_smote(df=bc_data, test_ratio=0.2, select=2, upsampling=1)"
   ]
  },
  {
   "cell_type": "code",
   "execution_count": 238,
   "metadata": {},
   "outputs": [
    {
     "name": "stdout",
     "output_type": "stream",
     "text": [
      "훈련 데이터 shape: (26014, 8) (26014,)\n",
      "테스트 데이터 shape: (3580, 8) (3580,)\n"
     ]
    }
   ],
   "source": [
    "print('훈련 데이터 shape:', x_train6.shape, y_train6.shape)\n",
    "print('테스트 데이터 shape:', x_test6.shape, y_test6.shape)"
   ]
  },
  {
   "cell_type": "code",
   "execution_count": 239,
   "metadata": {},
   "outputs": [
    {
     "name": "stdout",
     "output_type": "stream",
     "text": [
      "1    0.5\n",
      "0    0.5\n",
      "Name: Class, dtype: float64\n"
     ]
    },
    {
     "data": {
      "text/plain": [
       "0    0.90838\n",
       "1    0.09162\n",
       "Name: Class, dtype: float64"
      ]
     },
     "execution_count": 239,
     "metadata": {},
     "output_type": "execute_result"
    }
   ],
   "source": [
    "print(y_train6.value_counts(normalize=True))\n",
    "y_test6.value_counts(normalize=True)"
   ]
  },
  {
   "cell_type": "markdown",
   "metadata": {},
   "source": [
    "#### logistic 모델(SMOTE)"
   ]
  },
  {
   "cell_type": "markdown",
   "metadata": {},
   "source": [
    "- 성능이 조금 오름"
   ]
  },
  {
   "cell_type": "code",
   "execution_count": 240,
   "metadata": {},
   "outputs": [
    {
     "name": "stdout",
     "output_type": "stream",
     "text": [
      "훈련 정확도:  0.9421465364803567\n",
      "훈련 recall:  0.9101253171369262\n",
      "훈련 Precision:  0.972400197141449\n",
      "훈련 F1-score:  0.9402327151423693\n"
     ]
    },
    {
     "data": {
      "text/html": [
       "<div>\n",
       "<style scoped>\n",
       "    .dataframe tbody tr th:only-of-type {\n",
       "        vertical-align: middle;\n",
       "    }\n",
       "\n",
       "    .dataframe tbody tr th {\n",
       "        vertical-align: top;\n",
       "    }\n",
       "\n",
       "    .dataframe thead th {\n",
       "        text-align: right;\n",
       "    }\n",
       "</style>\n",
       "<table border=\"1\" class=\"dataframe\">\n",
       "  <thead>\n",
       "    <tr style=\"text-align: right;\">\n",
       "      <th></th>\n",
       "      <th>fit_time</th>\n",
       "      <th>score_time</th>\n",
       "      <th>test_accuracy</th>\n",
       "      <th>test_recall</th>\n",
       "      <th>test_precision</th>\n",
       "      <th>test_f1_score</th>\n",
       "    </tr>\n",
       "  </thead>\n",
       "  <tbody>\n",
       "    <tr>\n",
       "      <th>0</th>\n",
       "      <td>0.037259</td>\n",
       "      <td>0.005607</td>\n",
       "      <td>0.936767</td>\n",
       "      <td>0.902383</td>\n",
       "      <td>0.969047</td>\n",
       "      <td>0.934527</td>\n",
       "    </tr>\n",
       "    <tr>\n",
       "      <th>1</th>\n",
       "      <td>0.033109</td>\n",
       "      <td>0.005486</td>\n",
       "      <td>0.943302</td>\n",
       "      <td>0.908532</td>\n",
       "      <td>0.976456</td>\n",
       "      <td>0.941270</td>\n",
       "    </tr>\n",
       "    <tr>\n",
       "      <th>2</th>\n",
       "      <td>0.037850</td>\n",
       "      <td>0.005548</td>\n",
       "      <td>0.940996</td>\n",
       "      <td>0.907343</td>\n",
       "      <td>0.972795</td>\n",
       "      <td>0.938930</td>\n",
       "    </tr>\n",
       "    <tr>\n",
       "      <th>3</th>\n",
       "      <td>0.031893</td>\n",
       "      <td>0.005373</td>\n",
       "      <td>0.945993</td>\n",
       "      <td>0.917339</td>\n",
       "      <td>0.973083</td>\n",
       "      <td>0.944389</td>\n",
       "    </tr>\n",
       "    <tr>\n",
       "      <th>4</th>\n",
       "      <td>0.036641</td>\n",
       "      <td>0.005856</td>\n",
       "      <td>0.941176</td>\n",
       "      <td>0.910419</td>\n",
       "      <td>0.970094</td>\n",
       "      <td>0.939310</td>\n",
       "    </tr>\n",
       "    <tr>\n",
       "      <th>mean</th>\n",
       "      <td>0.035350</td>\n",
       "      <td>0.005574</td>\n",
       "      <td>0.941647</td>\n",
       "      <td>0.909203</td>\n",
       "      <td>0.972295</td>\n",
       "      <td>0.939685</td>\n",
       "    </tr>\n",
       "  </tbody>\n",
       "</table>\n",
       "</div>"
      ],
      "text/plain": [
       "      fit_time  score_time  test_accuracy  test_recall  test_precision  \\\n",
       "0     0.037259    0.005607       0.936767     0.902383        0.969047   \n",
       "1     0.033109    0.005486       0.943302     0.908532        0.976456   \n",
       "2     0.037850    0.005548       0.940996     0.907343        0.972795   \n",
       "3     0.031893    0.005373       0.945993     0.917339        0.973083   \n",
       "4     0.036641    0.005856       0.941176     0.910419        0.970094   \n",
       "mean  0.035350    0.005574       0.941647     0.909203        0.972295   \n",
       "\n",
       "      test_f1_score  \n",
       "0          0.934527  \n",
       "1          0.941270  \n",
       "2          0.938930  \n",
       "3          0.944389  \n",
       "4          0.939310  \n",
       "mean       0.939685  "
      ]
     },
     "execution_count": 240,
     "metadata": {},
     "output_type": "execute_result"
    }
   ],
   "source": [
    "lg_smote_model = LogisticRegression(random_state=42)\n",
    "\n",
    "get_metrics(model=lg_smote_model, x_train=x_train5, y_train=y_train5)"
   ]
  },
  {
   "cell_type": "code",
   "execution_count": 241,
   "metadata": {},
   "outputs": [
    {
     "name": "stdout",
     "output_type": "stream",
     "text": [
      "훈련 정확도:  0.934765895287153\n",
      "훈련 recall:  0.8972860767279157\n",
      "훈련 Precision:  0.9699966755319149\n",
      "훈련 F1-score:  0.9322257278645313\n"
     ]
    },
    {
     "data": {
      "text/html": [
       "<div>\n",
       "<style scoped>\n",
       "    .dataframe tbody tr th:only-of-type {\n",
       "        vertical-align: middle;\n",
       "    }\n",
       "\n",
       "    .dataframe tbody tr th {\n",
       "        vertical-align: top;\n",
       "    }\n",
       "\n",
       "    .dataframe thead th {\n",
       "        text-align: right;\n",
       "    }\n",
       "</style>\n",
       "<table border=\"1\" class=\"dataframe\">\n",
       "  <thead>\n",
       "    <tr style=\"text-align: right;\">\n",
       "      <th></th>\n",
       "      <th>fit_time</th>\n",
       "      <th>score_time</th>\n",
       "      <th>test_accuracy</th>\n",
       "      <th>test_recall</th>\n",
       "      <th>test_precision</th>\n",
       "      <th>test_f1_score</th>\n",
       "    </tr>\n",
       "  </thead>\n",
       "  <tbody>\n",
       "    <tr>\n",
       "      <th>0</th>\n",
       "      <td>0.036838</td>\n",
       "      <td>0.005650</td>\n",
       "      <td>0.931386</td>\n",
       "      <td>0.894696</td>\n",
       "      <td>0.965574</td>\n",
       "      <td>0.928785</td>\n",
       "    </tr>\n",
       "    <tr>\n",
       "      <th>1</th>\n",
       "      <td>0.038541</td>\n",
       "      <td>0.005369</td>\n",
       "      <td>0.934653</td>\n",
       "      <td>0.897002</td>\n",
       "      <td>0.970075</td>\n",
       "      <td>0.932109</td>\n",
       "    </tr>\n",
       "    <tr>\n",
       "      <th>2</th>\n",
       "      <td>0.025618</td>\n",
       "      <td>0.005491</td>\n",
       "      <td>0.932539</td>\n",
       "      <td>0.893118</td>\n",
       "      <td>0.969533</td>\n",
       "      <td>0.929758</td>\n",
       "    </tr>\n",
       "    <tr>\n",
       "      <th>3</th>\n",
       "      <td>0.031987</td>\n",
       "      <td>0.005903</td>\n",
       "      <td>0.935806</td>\n",
       "      <td>0.898885</td>\n",
       "      <td>0.970527</td>\n",
       "      <td>0.933333</td>\n",
       "    </tr>\n",
       "    <tr>\n",
       "      <th>4</th>\n",
       "      <td>0.033466</td>\n",
       "      <td>0.005481</td>\n",
       "      <td>0.935602</td>\n",
       "      <td>0.899270</td>\n",
       "      <td>0.969735</td>\n",
       "      <td>0.933174</td>\n",
       "    </tr>\n",
       "    <tr>\n",
       "      <th>mean</th>\n",
       "      <td>0.033290</td>\n",
       "      <td>0.005579</td>\n",
       "      <td>0.933997</td>\n",
       "      <td>0.896594</td>\n",
       "      <td>0.969089</td>\n",
       "      <td>0.931432</td>\n",
       "    </tr>\n",
       "  </tbody>\n",
       "</table>\n",
       "</div>"
      ],
      "text/plain": [
       "      fit_time  score_time  test_accuracy  test_recall  test_precision  \\\n",
       "0     0.036838    0.005650       0.931386     0.894696        0.965574   \n",
       "1     0.038541    0.005369       0.934653     0.897002        0.970075   \n",
       "2     0.025618    0.005491       0.932539     0.893118        0.969533   \n",
       "3     0.031987    0.005903       0.935806     0.898885        0.970527   \n",
       "4     0.033466    0.005481       0.935602     0.899270        0.969735   \n",
       "mean  0.033290    0.005579       0.933997     0.896594        0.969089   \n",
       "\n",
       "      test_f1_score  \n",
       "0          0.928785  \n",
       "1          0.932109  \n",
       "2          0.929758  \n",
       "3          0.933333  \n",
       "4          0.933174  \n",
       "mean       0.931432  "
      ]
     },
     "execution_count": 241,
     "metadata": {},
     "output_type": "execute_result"
    }
   ],
   "source": [
    "lg_smote_model = LogisticRegression(random_state=42)\n",
    "\n",
    "get_metrics(model=lg_smote_model, x_train=x_train6, y_train=y_train6)"
   ]
  },
  {
   "cell_type": "code",
   "execution_count": 251,
   "metadata": {},
   "outputs": [
    {
     "name": "stdout",
     "output_type": "stream",
     "text": [
      "테스트 정확도:  0.9667597765363128\n",
      "테스트 recall:  0.9146341463414634\n",
      "테스트 Precision:  0.7672634271099744\n",
      "테스트 F1-score:  0.8344923504867873\n"
     ]
    }
   ],
   "source": [
    "y_test_pred = lg_smote_model.predict(x_test6)\n",
    "print(\"테스트 정확도: \", accuracy_score(y_test6, y_test_pred))\n",
    "print(\"테스트 recall: \", recall_score(y_test6, y_test_pred))\n",
    "print(\"테스트 Precision: \", precision_score(y_test6, y_test_pred))\n",
    "print(\"테스트 F1-score: \", f1_score(y_test6, y_test_pred))"
   ]
  },
  {
   "cell_type": "markdown",
   "metadata": {},
   "source": [
    "### RandomForest"
   ]
  },
  {
   "cell_type": "markdown",
   "metadata": {},
   "source": [
    "- ADASYN보다 떨어짐"
   ]
  },
  {
   "cell_type": "code",
   "execution_count": 242,
   "metadata": {},
   "outputs": [
    {
     "name": "stdout",
     "output_type": "stream",
     "text": [
      "훈련 정확도:  0.9421465364803567\n",
      "훈련 recall:  0.9101253171369262\n",
      "훈련 Precision:  0.972400197141449\n",
      "훈련 F1-score:  0.9402327151423693\n"
     ]
    },
    {
     "data": {
      "text/html": [
       "<div>\n",
       "<style scoped>\n",
       "    .dataframe tbody tr th:only-of-type {\n",
       "        vertical-align: middle;\n",
       "    }\n",
       "\n",
       "    .dataframe tbody tr th {\n",
       "        vertical-align: top;\n",
       "    }\n",
       "\n",
       "    .dataframe thead th {\n",
       "        text-align: right;\n",
       "    }\n",
       "</style>\n",
       "<table border=\"1\" class=\"dataframe\">\n",
       "  <thead>\n",
       "    <tr style=\"text-align: right;\">\n",
       "      <th></th>\n",
       "      <th>fit_time</th>\n",
       "      <th>score_time</th>\n",
       "      <th>test_accuracy</th>\n",
       "      <th>test_recall</th>\n",
       "      <th>test_precision</th>\n",
       "      <th>test_f1_score</th>\n",
       "    </tr>\n",
       "  </thead>\n",
       "  <tbody>\n",
       "    <tr>\n",
       "      <th>0</th>\n",
       "      <td>0.036056</td>\n",
       "      <td>0.005682</td>\n",
       "      <td>0.936767</td>\n",
       "      <td>0.902383</td>\n",
       "      <td>0.969047</td>\n",
       "      <td>0.934527</td>\n",
       "    </tr>\n",
       "    <tr>\n",
       "      <th>1</th>\n",
       "      <td>0.033490</td>\n",
       "      <td>0.005507</td>\n",
       "      <td>0.943302</td>\n",
       "      <td>0.908532</td>\n",
       "      <td>0.976456</td>\n",
       "      <td>0.941270</td>\n",
       "    </tr>\n",
       "    <tr>\n",
       "      <th>2</th>\n",
       "      <td>0.033282</td>\n",
       "      <td>0.005268</td>\n",
       "      <td>0.940996</td>\n",
       "      <td>0.907343</td>\n",
       "      <td>0.972795</td>\n",
       "      <td>0.938930</td>\n",
       "    </tr>\n",
       "    <tr>\n",
       "      <th>3</th>\n",
       "      <td>0.030680</td>\n",
       "      <td>0.005415</td>\n",
       "      <td>0.945993</td>\n",
       "      <td>0.917339</td>\n",
       "      <td>0.973083</td>\n",
       "      <td>0.944389</td>\n",
       "    </tr>\n",
       "    <tr>\n",
       "      <th>4</th>\n",
       "      <td>0.036183</td>\n",
       "      <td>0.005341</td>\n",
       "      <td>0.941176</td>\n",
       "      <td>0.910419</td>\n",
       "      <td>0.970094</td>\n",
       "      <td>0.939310</td>\n",
       "    </tr>\n",
       "    <tr>\n",
       "      <th>mean</th>\n",
       "      <td>0.033938</td>\n",
       "      <td>0.005443</td>\n",
       "      <td>0.941647</td>\n",
       "      <td>0.909203</td>\n",
       "      <td>0.972295</td>\n",
       "      <td>0.939685</td>\n",
       "    </tr>\n",
       "  </tbody>\n",
       "</table>\n",
       "</div>"
      ],
      "text/plain": [
       "      fit_time  score_time  test_accuracy  test_recall  test_precision  \\\n",
       "0     0.036056    0.005682       0.936767     0.902383        0.969047   \n",
       "1     0.033490    0.005507       0.943302     0.908532        0.976456   \n",
       "2     0.033282    0.005268       0.940996     0.907343        0.972795   \n",
       "3     0.030680    0.005415       0.945993     0.917339        0.973083   \n",
       "4     0.036183    0.005341       0.941176     0.910419        0.970094   \n",
       "mean  0.033938    0.005443       0.941647     0.909203        0.972295   \n",
       "\n",
       "      test_f1_score  \n",
       "0          0.934527  \n",
       "1          0.941270  \n",
       "2          0.938930  \n",
       "3          0.944389  \n",
       "4          0.939310  \n",
       "mean       0.939685  "
      ]
     },
     "execution_count": 242,
     "metadata": {},
     "output_type": "execute_result"
    }
   ],
   "source": [
    "rf_smote_model = RandomForestClassifier(random_state=42)\n",
    "\n",
    "get_metrics(model=lg_smote_model, x_train=x_train5, y_train=y_train5)"
   ]
  },
  {
   "cell_type": "code",
   "execution_count": 243,
   "metadata": {},
   "outputs": [
    {
     "name": "stdout",
     "output_type": "stream",
     "text": [
      "훈련 정확도:  0.934765895287153\n",
      "훈련 recall:  0.8972860767279157\n",
      "훈련 Precision:  0.9699966755319149\n",
      "훈련 F1-score:  0.9322257278645313\n"
     ]
    },
    {
     "data": {
      "text/html": [
       "<div>\n",
       "<style scoped>\n",
       "    .dataframe tbody tr th:only-of-type {\n",
       "        vertical-align: middle;\n",
       "    }\n",
       "\n",
       "    .dataframe tbody tr th {\n",
       "        vertical-align: top;\n",
       "    }\n",
       "\n",
       "    .dataframe thead th {\n",
       "        text-align: right;\n",
       "    }\n",
       "</style>\n",
       "<table border=\"1\" class=\"dataframe\">\n",
       "  <thead>\n",
       "    <tr style=\"text-align: right;\">\n",
       "      <th></th>\n",
       "      <th>fit_time</th>\n",
       "      <th>score_time</th>\n",
       "      <th>test_accuracy</th>\n",
       "      <th>test_recall</th>\n",
       "      <th>test_precision</th>\n",
       "      <th>test_f1_score</th>\n",
       "    </tr>\n",
       "  </thead>\n",
       "  <tbody>\n",
       "    <tr>\n",
       "      <th>0</th>\n",
       "      <td>0.036289</td>\n",
       "      <td>0.005903</td>\n",
       "      <td>0.931386</td>\n",
       "      <td>0.894696</td>\n",
       "      <td>0.965574</td>\n",
       "      <td>0.928785</td>\n",
       "    </tr>\n",
       "    <tr>\n",
       "      <th>1</th>\n",
       "      <td>0.038240</td>\n",
       "      <td>0.005420</td>\n",
       "      <td>0.934653</td>\n",
       "      <td>0.897002</td>\n",
       "      <td>0.970075</td>\n",
       "      <td>0.932109</td>\n",
       "    </tr>\n",
       "    <tr>\n",
       "      <th>2</th>\n",
       "      <td>0.024544</td>\n",
       "      <td>0.005421</td>\n",
       "      <td>0.932539</td>\n",
       "      <td>0.893118</td>\n",
       "      <td>0.969533</td>\n",
       "      <td>0.929758</td>\n",
       "    </tr>\n",
       "    <tr>\n",
       "      <th>3</th>\n",
       "      <td>0.032968</td>\n",
       "      <td>0.005384</td>\n",
       "      <td>0.935806</td>\n",
       "      <td>0.898885</td>\n",
       "      <td>0.970527</td>\n",
       "      <td>0.933333</td>\n",
       "    </tr>\n",
       "    <tr>\n",
       "      <th>4</th>\n",
       "      <td>0.033981</td>\n",
       "      <td>0.005380</td>\n",
       "      <td>0.935602</td>\n",
       "      <td>0.899270</td>\n",
       "      <td>0.969735</td>\n",
       "      <td>0.933174</td>\n",
       "    </tr>\n",
       "    <tr>\n",
       "      <th>mean</th>\n",
       "      <td>0.033204</td>\n",
       "      <td>0.005502</td>\n",
       "      <td>0.933997</td>\n",
       "      <td>0.896594</td>\n",
       "      <td>0.969089</td>\n",
       "      <td>0.931432</td>\n",
       "    </tr>\n",
       "  </tbody>\n",
       "</table>\n",
       "</div>"
      ],
      "text/plain": [
       "      fit_time  score_time  test_accuracy  test_recall  test_precision  \\\n",
       "0     0.036289    0.005903       0.931386     0.894696        0.965574   \n",
       "1     0.038240    0.005420       0.934653     0.897002        0.970075   \n",
       "2     0.024544    0.005421       0.932539     0.893118        0.969533   \n",
       "3     0.032968    0.005384       0.935806     0.898885        0.970527   \n",
       "4     0.033981    0.005380       0.935602     0.899270        0.969735   \n",
       "mean  0.033204    0.005502       0.933997     0.896594        0.969089   \n",
       "\n",
       "      test_f1_score  \n",
       "0          0.928785  \n",
       "1          0.932109  \n",
       "2          0.929758  \n",
       "3          0.933333  \n",
       "4          0.933174  \n",
       "mean       0.931432  "
      ]
     },
     "execution_count": 243,
     "metadata": {},
     "output_type": "execute_result"
    }
   ],
   "source": [
    "rf_smote_model = RandomForestClassifier(random_state=42)\n",
    "\n",
    "get_metrics(model=lg_smote_model, x_train=x_train6, y_train=y_train6)"
   ]
  },
  {
   "cell_type": "markdown",
   "metadata": {},
   "source": [
    "### xgboost"
   ]
  },
  {
   "cell_type": "markdown",
   "metadata": {},
   "source": [
    "- ???\n",
    "- SMOTE oversampling을 적용한 데이터가 교차검증 성능이 너무 좋게나온다??"
   ]
  },
  {
   "cell_type": "code",
   "execution_count": 244,
   "metadata": {},
   "outputs": [
    {
     "name": "stdout",
     "output_type": "stream",
     "text": [
      "훈련 정확도:  0.9966172061197817\n",
      "훈련 recall:  0.9976935496271239\n",
      "훈련 Precision:  0.9955504411200614\n",
      "훈련 F1-score:  0.9966208432532063\n"
     ]
    },
    {
     "data": {
      "text/html": [
       "<div>\n",
       "<style scoped>\n",
       "    .dataframe tbody tr th:only-of-type {\n",
       "        vertical-align: middle;\n",
       "    }\n",
       "\n",
       "    .dataframe tbody tr th {\n",
       "        vertical-align: top;\n",
       "    }\n",
       "\n",
       "    .dataframe thead th {\n",
       "        text-align: right;\n",
       "    }\n",
       "</style>\n",
       "<table border=\"1\" class=\"dataframe\">\n",
       "  <thead>\n",
       "    <tr style=\"text-align: right;\">\n",
       "      <th></th>\n",
       "      <th>fit_time</th>\n",
       "      <th>score_time</th>\n",
       "      <th>test_accuracy</th>\n",
       "      <th>test_recall</th>\n",
       "      <th>test_precision</th>\n",
       "      <th>test_f1_score</th>\n",
       "    </tr>\n",
       "  </thead>\n",
       "  <tbody>\n",
       "    <tr>\n",
       "      <th>0</th>\n",
       "      <td>0.744151</td>\n",
       "      <td>0.009433</td>\n",
       "      <td>0.974438</td>\n",
       "      <td>0.968101</td>\n",
       "      <td>0.980537</td>\n",
       "      <td>0.974280</td>\n",
       "    </tr>\n",
       "    <tr>\n",
       "      <th>1</th>\n",
       "      <td>0.817583</td>\n",
       "      <td>0.008815</td>\n",
       "      <td>0.974822</td>\n",
       "      <td>0.975404</td>\n",
       "      <td>0.974280</td>\n",
       "      <td>0.974842</td>\n",
       "    </tr>\n",
       "    <tr>\n",
       "      <th>2</th>\n",
       "      <td>0.715238</td>\n",
       "      <td>0.009635</td>\n",
       "      <td>0.976936</td>\n",
       "      <td>0.979239</td>\n",
       "      <td>0.974742</td>\n",
       "      <td>0.976985</td>\n",
       "    </tr>\n",
       "    <tr>\n",
       "      <th>3</th>\n",
       "      <td>0.760986</td>\n",
       "      <td>0.008352</td>\n",
       "      <td>0.979435</td>\n",
       "      <td>0.979239</td>\n",
       "      <td>0.979615</td>\n",
       "      <td>0.979427</td>\n",
       "    </tr>\n",
       "    <tr>\n",
       "      <th>4</th>\n",
       "      <td>0.749674</td>\n",
       "      <td>0.008797</td>\n",
       "      <td>0.976740</td>\n",
       "      <td>0.978854</td>\n",
       "      <td>0.974732</td>\n",
       "      <td>0.976789</td>\n",
       "    </tr>\n",
       "    <tr>\n",
       "      <th>mean</th>\n",
       "      <td>0.757526</td>\n",
       "      <td>0.009007</td>\n",
       "      <td>0.976474</td>\n",
       "      <td>0.976167</td>\n",
       "      <td>0.976781</td>\n",
       "      <td>0.976464</td>\n",
       "    </tr>\n",
       "  </tbody>\n",
       "</table>\n",
       "</div>"
      ],
      "text/plain": [
       "      fit_time  score_time  test_accuracy  test_recall  test_precision  \\\n",
       "0     0.744151    0.009433       0.974438     0.968101        0.980537   \n",
       "1     0.817583    0.008815       0.974822     0.975404        0.974280   \n",
       "2     0.715238    0.009635       0.976936     0.979239        0.974742   \n",
       "3     0.760986    0.008352       0.979435     0.979239        0.979615   \n",
       "4     0.749674    0.008797       0.976740     0.978854        0.974732   \n",
       "mean  0.757526    0.009007       0.976474     0.976167        0.976781   \n",
       "\n",
       "      test_f1_score  \n",
       "0          0.974280  \n",
       "1          0.974842  \n",
       "2          0.976985  \n",
       "3          0.979427  \n",
       "4          0.976789  \n",
       "mean       0.976464  "
      ]
     },
     "execution_count": 244,
     "metadata": {},
     "output_type": "execute_result"
    }
   ],
   "source": [
    "xgb_smote_model = XGBClassifier(random_state=42)\n",
    "\n",
    "get_metrics(model=xgb_smote_model, x_train=x_train5, y_train=y_train5)"
   ]
  },
  {
   "cell_type": "code",
   "execution_count": 245,
   "metadata": {},
   "outputs": [
    {
     "name": "stdout",
     "output_type": "stream",
     "text": [
      "훈련 정확도:  0.9966172061197817\n",
      "훈련 recall:  0.9976935496271239\n",
      "훈련 Precision:  0.9955504411200614\n",
      "훈련 F1-score:  0.9966208432532063\n"
     ]
    },
    {
     "data": {
      "text/html": [
       "<div>\n",
       "<style scoped>\n",
       "    .dataframe tbody tr th:only-of-type {\n",
       "        vertical-align: middle;\n",
       "    }\n",
       "\n",
       "    .dataframe tbody tr th {\n",
       "        vertical-align: top;\n",
       "    }\n",
       "\n",
       "    .dataframe thead th {\n",
       "        text-align: right;\n",
       "    }\n",
       "</style>\n",
       "<table border=\"1\" class=\"dataframe\">\n",
       "  <thead>\n",
       "    <tr style=\"text-align: right;\">\n",
       "      <th></th>\n",
       "      <th>fit_time</th>\n",
       "      <th>score_time</th>\n",
       "      <th>test_accuracy</th>\n",
       "      <th>test_recall</th>\n",
       "      <th>test_precision</th>\n",
       "      <th>test_f1_score</th>\n",
       "    </tr>\n",
       "  </thead>\n",
       "  <tbody>\n",
       "    <tr>\n",
       "      <th>0</th>\n",
       "      <td>0.754148</td>\n",
       "      <td>0.008993</td>\n",
       "      <td>0.974438</td>\n",
       "      <td>0.968101</td>\n",
       "      <td>0.980537</td>\n",
       "      <td>0.974280</td>\n",
       "    </tr>\n",
       "    <tr>\n",
       "      <th>1</th>\n",
       "      <td>0.776462</td>\n",
       "      <td>0.008915</td>\n",
       "      <td>0.974822</td>\n",
       "      <td>0.975404</td>\n",
       "      <td>0.974280</td>\n",
       "      <td>0.974842</td>\n",
       "    </tr>\n",
       "    <tr>\n",
       "      <th>2</th>\n",
       "      <td>0.776255</td>\n",
       "      <td>0.008506</td>\n",
       "      <td>0.976936</td>\n",
       "      <td>0.979239</td>\n",
       "      <td>0.974742</td>\n",
       "      <td>0.976985</td>\n",
       "    </tr>\n",
       "    <tr>\n",
       "      <th>3</th>\n",
       "      <td>0.724191</td>\n",
       "      <td>0.008446</td>\n",
       "      <td>0.979435</td>\n",
       "      <td>0.979239</td>\n",
       "      <td>0.979615</td>\n",
       "      <td>0.979427</td>\n",
       "    </tr>\n",
       "    <tr>\n",
       "      <th>4</th>\n",
       "      <td>0.780387</td>\n",
       "      <td>0.009743</td>\n",
       "      <td>0.976740</td>\n",
       "      <td>0.978854</td>\n",
       "      <td>0.974732</td>\n",
       "      <td>0.976789</td>\n",
       "    </tr>\n",
       "    <tr>\n",
       "      <th>mean</th>\n",
       "      <td>0.762289</td>\n",
       "      <td>0.008921</td>\n",
       "      <td>0.976474</td>\n",
       "      <td>0.976167</td>\n",
       "      <td>0.976781</td>\n",
       "      <td>0.976464</td>\n",
       "    </tr>\n",
       "  </tbody>\n",
       "</table>\n",
       "</div>"
      ],
      "text/plain": [
       "      fit_time  score_time  test_accuracy  test_recall  test_precision  \\\n",
       "0     0.754148    0.008993       0.974438     0.968101        0.980537   \n",
       "1     0.776462    0.008915       0.974822     0.975404        0.974280   \n",
       "2     0.776255    0.008506       0.976936     0.979239        0.974742   \n",
       "3     0.724191    0.008446       0.979435     0.979239        0.979615   \n",
       "4     0.780387    0.009743       0.976740     0.978854        0.974732   \n",
       "mean  0.762289    0.008921       0.976474     0.976167        0.976781   \n",
       "\n",
       "      test_f1_score  \n",
       "0          0.974280  \n",
       "1          0.974842  \n",
       "2          0.976985  \n",
       "3          0.979427  \n",
       "4          0.976789  \n",
       "mean       0.976464  "
      ]
     },
     "execution_count": 245,
     "metadata": {},
     "output_type": "execute_result"
    }
   ],
   "source": [
    "xgb_smote_model = XGBClassifier(random_state=42)\n",
    "\n",
    "get_metrics(model=xgb_smote_model, x_train=x_train6, y_train=y_train6)"
   ]
  },
  {
   "cell_type": "markdown",
   "metadata": {},
   "source": [
    "### SVM"
   ]
  },
  {
   "cell_type": "markdown",
   "metadata": {},
   "source": [
    "- 처음부터 SMOTE를 썼어야 했던건가... ㅜㅜ"
   ]
  },
  {
   "cell_type": "code",
   "execution_count": 248,
   "metadata": {},
   "outputs": [
    {
     "name": "stdout",
     "output_type": "stream",
     "text": [
      "훈련 정확도:  0.9489890059198893\n",
      "훈련 recall:  0.9199661720611978\n",
      "훈련 Precision:  0.9766568723473719\n",
      "훈련 F1-score:  0.9474642701611307\n"
     ]
    },
    {
     "data": {
      "text/html": [
       "<div>\n",
       "<style scoped>\n",
       "    .dataframe tbody tr th:only-of-type {\n",
       "        vertical-align: middle;\n",
       "    }\n",
       "\n",
       "    .dataframe tbody tr th {\n",
       "        vertical-align: top;\n",
       "    }\n",
       "\n",
       "    .dataframe thead th {\n",
       "        text-align: right;\n",
       "    }\n",
       "</style>\n",
       "<table border=\"1\" class=\"dataframe\">\n",
       "  <thead>\n",
       "    <tr style=\"text-align: right;\">\n",
       "      <th></th>\n",
       "      <th>fit_time</th>\n",
       "      <th>score_time</th>\n",
       "      <th>test_accuracy</th>\n",
       "      <th>test_recall</th>\n",
       "      <th>test_precision</th>\n",
       "      <th>test_f1_score</th>\n",
       "    </tr>\n",
       "  </thead>\n",
       "  <tbody>\n",
       "    <tr>\n",
       "      <th>0</th>\n",
       "      <td>2.383724</td>\n",
       "      <td>1.543282</td>\n",
       "      <td>0.945224</td>\n",
       "      <td>0.912759</td>\n",
       "      <td>0.976161</td>\n",
       "      <td>0.943396</td>\n",
       "    </tr>\n",
       "    <tr>\n",
       "      <th>1</th>\n",
       "      <td>2.474886</td>\n",
       "      <td>1.562668</td>\n",
       "      <td>0.949068</td>\n",
       "      <td>0.920446</td>\n",
       "      <td>0.976355</td>\n",
       "      <td>0.947577</td>\n",
       "    </tr>\n",
       "    <tr>\n",
       "      <th>2</th>\n",
       "      <td>2.431266</td>\n",
       "      <td>1.551601</td>\n",
       "      <td>0.944647</td>\n",
       "      <td>0.911188</td>\n",
       "      <td>0.976514</td>\n",
       "      <td>0.942721</td>\n",
       "    </tr>\n",
       "    <tr>\n",
       "      <th>3</th>\n",
       "      <td>2.441433</td>\n",
       "      <td>1.553620</td>\n",
       "      <td>0.951759</td>\n",
       "      <td>0.926951</td>\n",
       "      <td>0.975324</td>\n",
       "      <td>0.950522</td>\n",
       "    </tr>\n",
       "    <tr>\n",
       "      <th>4</th>\n",
       "      <td>2.453950</td>\n",
       "      <td>1.561536</td>\n",
       "      <td>0.947905</td>\n",
       "      <td>0.917724</td>\n",
       "      <td>0.976678</td>\n",
       "      <td>0.946283</td>\n",
       "    </tr>\n",
       "    <tr>\n",
       "      <th>mean</th>\n",
       "      <td>2.437052</td>\n",
       "      <td>1.554541</td>\n",
       "      <td>0.947720</td>\n",
       "      <td>0.917814</td>\n",
       "      <td>0.976206</td>\n",
       "      <td>0.946100</td>\n",
       "    </tr>\n",
       "  </tbody>\n",
       "</table>\n",
       "</div>"
      ],
      "text/plain": [
       "      fit_time  score_time  test_accuracy  test_recall  test_precision  \\\n",
       "0     2.383724    1.543282       0.945224     0.912759        0.976161   \n",
       "1     2.474886    1.562668       0.949068     0.920446        0.976355   \n",
       "2     2.431266    1.551601       0.944647     0.911188        0.976514   \n",
       "3     2.441433    1.553620       0.951759     0.926951        0.975324   \n",
       "4     2.453950    1.561536       0.947905     0.917724        0.976678   \n",
       "mean  2.437052    1.554541       0.947720     0.917814        0.976206   \n",
       "\n",
       "      test_f1_score  \n",
       "0          0.943396  \n",
       "1          0.947577  \n",
       "2          0.942721  \n",
       "3          0.950522  \n",
       "4          0.946283  \n",
       "mean       0.946100  "
      ]
     },
     "execution_count": 248,
     "metadata": {},
     "output_type": "execute_result"
    }
   ],
   "source": [
    "svm_smote_model = SVC(random_state=42)\n",
    "\n",
    "get_metrics(model=svm_smote_model, x_train=x_train5, y_train=y_train5)"
   ]
  },
  {
   "cell_type": "code",
   "execution_count": 249,
   "metadata": {},
   "outputs": [
    {
     "name": "stdout",
     "output_type": "stream",
     "text": [
      "훈련 정확도:  0.9480664257707389\n",
      "훈련 recall:  0.9178134850465134\n",
      "훈련 Precision:  0.9769230769230769\n",
      "훈련 F1-score:  0.9464462678875807\n"
     ]
    },
    {
     "data": {
      "text/html": [
       "<div>\n",
       "<style scoped>\n",
       "    .dataframe tbody tr th:only-of-type {\n",
       "        vertical-align: middle;\n",
       "    }\n",
       "\n",
       "    .dataframe tbody tr th {\n",
       "        vertical-align: top;\n",
       "    }\n",
       "\n",
       "    .dataframe thead th {\n",
       "        text-align: right;\n",
       "    }\n",
       "</style>\n",
       "<table border=\"1\" class=\"dataframe\">\n",
       "  <thead>\n",
       "    <tr style=\"text-align: right;\">\n",
       "      <th></th>\n",
       "      <th>fit_time</th>\n",
       "      <th>score_time</th>\n",
       "      <th>test_accuracy</th>\n",
       "      <th>test_recall</th>\n",
       "      <th>test_precision</th>\n",
       "      <th>test_f1_score</th>\n",
       "    </tr>\n",
       "  </thead>\n",
       "  <tbody>\n",
       "    <tr>\n",
       "      <th>0</th>\n",
       "      <td>2.423596</td>\n",
       "      <td>1.539381</td>\n",
       "      <td>0.944263</td>\n",
       "      <td>0.911222</td>\n",
       "      <td>0.975720</td>\n",
       "      <td>0.942369</td>\n",
       "    </tr>\n",
       "    <tr>\n",
       "      <th>1</th>\n",
       "      <td>2.436703</td>\n",
       "      <td>1.572672</td>\n",
       "      <td>0.947530</td>\n",
       "      <td>0.916987</td>\n",
       "      <td>0.976668</td>\n",
       "      <td>0.945887</td>\n",
       "    </tr>\n",
       "    <tr>\n",
       "      <th>2</th>\n",
       "      <td>2.410412</td>\n",
       "      <td>1.558851</td>\n",
       "      <td>0.943686</td>\n",
       "      <td>0.909650</td>\n",
       "      <td>0.976073</td>\n",
       "      <td>0.941692</td>\n",
       "    </tr>\n",
       "    <tr>\n",
       "      <th>3</th>\n",
       "      <td>2.467088</td>\n",
       "      <td>1.572669</td>\n",
       "      <td>0.950990</td>\n",
       "      <td>0.925029</td>\n",
       "      <td>0.975669</td>\n",
       "      <td>0.949674</td>\n",
       "    </tr>\n",
       "    <tr>\n",
       "      <th>4</th>\n",
       "      <td>2.452601</td>\n",
       "      <td>1.561414</td>\n",
       "      <td>0.948674</td>\n",
       "      <td>0.916955</td>\n",
       "      <td>0.979064</td>\n",
       "      <td>0.946992</td>\n",
       "    </tr>\n",
       "    <tr>\n",
       "      <th>mean</th>\n",
       "      <td>2.438080</td>\n",
       "      <td>1.560997</td>\n",
       "      <td>0.947029</td>\n",
       "      <td>0.915969</td>\n",
       "      <td>0.976639</td>\n",
       "      <td>0.945323</td>\n",
       "    </tr>\n",
       "  </tbody>\n",
       "</table>\n",
       "</div>"
      ],
      "text/plain": [
       "      fit_time  score_time  test_accuracy  test_recall  test_precision  \\\n",
       "0     2.423596    1.539381       0.944263     0.911222        0.975720   \n",
       "1     2.436703    1.572672       0.947530     0.916987        0.976668   \n",
       "2     2.410412    1.558851       0.943686     0.909650        0.976073   \n",
       "3     2.467088    1.572669       0.950990     0.925029        0.975669   \n",
       "4     2.452601    1.561414       0.948674     0.916955        0.979064   \n",
       "mean  2.438080    1.560997       0.947029     0.915969        0.976639   \n",
       "\n",
       "      test_f1_score  \n",
       "0          0.942369  \n",
       "1          0.945887  \n",
       "2          0.941692  \n",
       "3          0.949674  \n",
       "4          0.946992  \n",
       "mean       0.945323  "
      ]
     },
     "execution_count": 249,
     "metadata": {},
     "output_type": "execute_result"
    }
   ],
   "source": [
    "svm_smote_model = SVC(random_state=42)\n",
    "\n",
    "get_metrics(model=svm_smote_model, x_train=x_train6, y_train=y_train6)"
   ]
  },
  {
   "cell_type": "markdown",
   "metadata": {},
   "source": [
    "### 시간 관계로 ADASYN적용한 파일들로 전체 성능표"
   ]
  },
  {
   "cell_type": "code",
   "execution_count": 272,
   "metadata": {},
   "outputs": [
    {
     "data": {
      "text/html": [
       "<div>\n",
       "<style scoped>\n",
       "    .dataframe tbody tr th:only-of-type {\n",
       "        vertical-align: middle;\n",
       "    }\n",
       "\n",
       "    .dataframe tbody tr th {\n",
       "        vertical-align: top;\n",
       "    }\n",
       "\n",
       "    .dataframe thead th {\n",
       "        text-align: right;\n",
       "    }\n",
       "</style>\n",
       "<table border=\"1\" class=\"dataframe\">\n",
       "  <thead>\n",
       "    <tr style=\"text-align: right;\">\n",
       "      <th></th>\n",
       "      <th>Test Accuracy</th>\n",
       "      <th>Test Precision</th>\n",
       "      <th>Test Recall</th>\n",
       "      <th>Test F1</th>\n",
       "    </tr>\n",
       "    <tr>\n",
       "      <th>Model</th>\n",
       "      <th></th>\n",
       "      <th></th>\n",
       "      <th></th>\n",
       "      <th></th>\n",
       "    </tr>\n",
       "  </thead>\n",
       "  <tbody>\n",
       "    <tr>\n",
       "      <th>base</th>\n",
       "      <td>0.98</td>\n",
       "      <td>0.93</td>\n",
       "      <td>0.79</td>\n",
       "      <td>0.85</td>\n",
       "    </tr>\n",
       "    <tr>\n",
       "      <th>lg_test</th>\n",
       "      <td>0.97</td>\n",
       "      <td>0.78</td>\n",
       "      <td>0.92</td>\n",
       "      <td>0.85</td>\n",
       "    </tr>\n",
       "  </tbody>\n",
       "</table>\n",
       "</div>"
      ],
      "text/plain": [
       "         Test Accuracy  Test Precision  Test Recall  Test F1\n",
       "Model                                                       \n",
       "base              0.98            0.93         0.79     0.85\n",
       "lg_test           0.97            0.78         0.92     0.85"
      ]
     },
     "metadata": {},
     "output_type": "display_data"
    },
    {
     "data": {
      "text/html": [
       "<div>\n",
       "<style scoped>\n",
       "    .dataframe tbody tr th:only-of-type {\n",
       "        vertical-align: middle;\n",
       "    }\n",
       "\n",
       "    .dataframe tbody tr th {\n",
       "        vertical-align: top;\n",
       "    }\n",
       "\n",
       "    .dataframe thead th {\n",
       "        text-align: right;\n",
       "    }\n",
       "</style>\n",
       "<table border=\"1\" class=\"dataframe\">\n",
       "  <thead>\n",
       "    <tr style=\"text-align: right;\">\n",
       "      <th></th>\n",
       "      <th>Test Accuracy</th>\n",
       "      <th>Test Precision</th>\n",
       "      <th>Test Recall</th>\n",
       "      <th>Test F1</th>\n",
       "    </tr>\n",
       "    <tr>\n",
       "      <th>Model</th>\n",
       "      <th></th>\n",
       "      <th></th>\n",
       "      <th></th>\n",
       "      <th></th>\n",
       "    </tr>\n",
       "  </thead>\n",
       "  <tbody>\n",
       "    <tr>\n",
       "      <th>base</th>\n",
       "      <td>0.98</td>\n",
       "      <td>0.93</td>\n",
       "      <td>0.79</td>\n",
       "      <td>0.85</td>\n",
       "    </tr>\n",
       "    <tr>\n",
       "      <th>rf_test</th>\n",
       "      <td>0.96</td>\n",
       "      <td>0.71</td>\n",
       "      <td>0.90</td>\n",
       "      <td>0.80</td>\n",
       "    </tr>\n",
       "  </tbody>\n",
       "</table>\n",
       "</div>"
      ],
      "text/plain": [
       "         Test Accuracy  Test Precision  Test Recall  Test F1\n",
       "Model                                                       \n",
       "base              0.98            0.93         0.79     0.85\n",
       "rf_test           0.96            0.71         0.90     0.80"
      ]
     },
     "metadata": {},
     "output_type": "display_data"
    },
    {
     "data": {
      "text/html": [
       "<div>\n",
       "<style scoped>\n",
       "    .dataframe tbody tr th:only-of-type {\n",
       "        vertical-align: middle;\n",
       "    }\n",
       "\n",
       "    .dataframe tbody tr th {\n",
       "        vertical-align: top;\n",
       "    }\n",
       "\n",
       "    .dataframe thead th {\n",
       "        text-align: right;\n",
       "    }\n",
       "</style>\n",
       "<table border=\"1\" class=\"dataframe\">\n",
       "  <thead>\n",
       "    <tr style=\"text-align: right;\">\n",
       "      <th></th>\n",
       "      <th>Test Accuracy</th>\n",
       "      <th>Test Precision</th>\n",
       "      <th>Test Recall</th>\n",
       "      <th>Test F1</th>\n",
       "    </tr>\n",
       "    <tr>\n",
       "      <th>Model</th>\n",
       "      <th></th>\n",
       "      <th></th>\n",
       "      <th></th>\n",
       "      <th></th>\n",
       "    </tr>\n",
       "  </thead>\n",
       "  <tbody>\n",
       "    <tr>\n",
       "      <th>base</th>\n",
       "      <td>0.98</td>\n",
       "      <td>0.93</td>\n",
       "      <td>0.79</td>\n",
       "      <td>0.85</td>\n",
       "    </tr>\n",
       "    <tr>\n",
       "      <th>xgb_test</th>\n",
       "      <td>0.96</td>\n",
       "      <td>0.71</td>\n",
       "      <td>0.90</td>\n",
       "      <td>0.80</td>\n",
       "    </tr>\n",
       "  </tbody>\n",
       "</table>\n",
       "</div>"
      ],
      "text/plain": [
       "          Test Accuracy  Test Precision  Test Recall  Test F1\n",
       "Model                                                        \n",
       "base               0.98            0.93         0.79     0.85\n",
       "xgb_test           0.96            0.71         0.90     0.80"
      ]
     },
     "metadata": {},
     "output_type": "display_data"
    },
    {
     "data": {
      "text/html": [
       "<div>\n",
       "<style scoped>\n",
       "    .dataframe tbody tr th:only-of-type {\n",
       "        vertical-align: middle;\n",
       "    }\n",
       "\n",
       "    .dataframe tbody tr th {\n",
       "        vertical-align: top;\n",
       "    }\n",
       "\n",
       "    .dataframe thead th {\n",
       "        text-align: right;\n",
       "    }\n",
       "</style>\n",
       "<table border=\"1\" class=\"dataframe\">\n",
       "  <thead>\n",
       "    <tr style=\"text-align: right;\">\n",
       "      <th></th>\n",
       "      <th>Test Accuracy</th>\n",
       "      <th>Test Precision</th>\n",
       "      <th>Test Recall</th>\n",
       "      <th>Test F1</th>\n",
       "    </tr>\n",
       "    <tr>\n",
       "      <th>Model</th>\n",
       "      <th></th>\n",
       "      <th></th>\n",
       "      <th></th>\n",
       "      <th></th>\n",
       "    </tr>\n",
       "  </thead>\n",
       "  <tbody>\n",
       "    <tr>\n",
       "      <th>base</th>\n",
       "      <td>0.98</td>\n",
       "      <td>0.93</td>\n",
       "      <td>0.79</td>\n",
       "      <td>0.85</td>\n",
       "    </tr>\n",
       "    <tr>\n",
       "      <th>svm_test</th>\n",
       "      <td>0.97</td>\n",
       "      <td>0.71</td>\n",
       "      <td>0.90</td>\n",
       "      <td>0.80</td>\n",
       "    </tr>\n",
       "  </tbody>\n",
       "</table>\n",
       "</div>"
      ],
      "text/plain": [
       "          Test Accuracy  Test Precision  Test Recall  Test F1\n",
       "Model                                                        \n",
       "base               0.98            0.93         0.79     0.85\n",
       "svm_test           0.97            0.71         0.90     0.80"
      ]
     },
     "metadata": {},
     "output_type": "display_data"
    }
   ],
   "source": [
    "display(lg_result_df)\n",
    "display(rf_result_df)\n",
    "display(xgb_result_df)\n",
    "display(svm_result_df)"
   ]
  }
 ],
 "metadata": {
  "kernelspec": {
   "display_name": "base",
   "language": "python",
   "name": "python3"
  },
  "language_info": {
   "codemirror_mode": {
    "name": "ipython",
    "version": 3
   },
   "file_extension": ".py",
   "mimetype": "text/x-python",
   "name": "python",
   "nbconvert_exporter": "python",
   "pygments_lexer": "ipython3",
   "version": "3.9.13"
  },
  "orig_nbformat": 4
 },
 "nbformat": 4,
 "nbformat_minor": 2
}
